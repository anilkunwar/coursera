{
 "cells": [
  {
   "cell_type": "markdown",
   "metadata": {},
   "source": [
    "# Introduction to Keras callbacks\n",
    "\n",
    "> In Keras, `Callback` is a Python class meant to be subclassed to provide specific functionality, with a set of methods called at various stages of training (including batch/epoch start and ends), testing, and predicting. Callbacks are useful to get a view on internal states and statistics of the model during training. The methods of the callbacks can  be called at different stages of training/evaluating/inference. Keras has available [callbacks](https://keras.io/api/callbacks/) and we'll show how you can use it in the following sections. This is the summary of lecture \"Custom Models, Layers and Loss functions with Tensorflow\" from DeepLearning.AI.\n",
    "\n",
    "- toc: true \n",
    "- badges: true\n",
    "- comments: true\n",
    "- author: Chanseok Kang\n",
    "- categories: [Python, Coursera, Tensorflow, DeepLearining.AI]\n",
    "- image: "
   ]
  },
  {
   "cell_type": "markdown",
   "metadata": {},
   "source": [
    "## TL;DR - Model methods that take callbacks\n",
    "Users can supply a list of callbacks to the following `tf.keras.Model` methods:\n",
    "* [`fit()`](https://www.tensorflow.org/versions/r2.0/api_docs/python/tf/keras/Model#fit), [`fit_generator()`](https://www.tensorflow.org/versions/r2.0/api_docs/python/tf/keras/Model#fit_generator)\n",
    "Trains the model for a fixed number of epochs (iterations over a dataset, or data yielded batch-by-batch by a Python generator).\n",
    "* [`evaluate()`](https://www.tensorflow.org/versions/r2.0/api_docs/python/tf/keras/Model#evaluate), [`evaluate_generator()`](https://www.tensorflow.org/versions/r2.0/api_docs/python/tf/keras/Model#evaluate_generator)\n",
    "Evaluates the model for given data or data generator. Outputs the loss and metric values from the evaluation.\n",
    "* [`predict()`](https://www.tensorflow.org/versions/r2.0/api_docs/python/tf/keras/Model#predict), [`predict_generator()`](https://www.tensorflow.org/versions/r2.0/api_docs/python/tf/keras/Model#predict_generator)\n",
    "Generates output predictions for the input data or data generator."
   ]
  },
  {
   "cell_type": "markdown",
   "metadata": {},
   "source": [
    "## Packages"
   ]
  },
  {
   "cell_type": "code",
   "execution_count": 1,
   "metadata": {},
   "outputs": [],
   "source": [
    "from __future__ import absolute_import, division, print_function, unicode_literals\n",
    "\n",
    "import tensorflow as tf\n",
    "import tensorflow_datasets as tfds\n",
    "\n",
    "from tensorflow.keras.callbacks import TensorBoard, EarlyStopping, LearningRateScheduler, ModelCheckpoint, CSVLogger, ReduceLROnPlateau\n",
    "%load_ext tensorboard\n",
    "\n",
    "import os\n",
    "import matplotlib.pyplot as plt\n",
    "import io\n",
    "from PIL import Image\n",
    "import numpy as np\n",
    "import pandas as pd\n",
    "import datetime\n",
    "import math\n",
    "\n",
    "tf.get_logger().setLevel('INFO')"
   ]
  },
  {
   "cell_type": "code",
   "execution_count": 2,
   "metadata": {},
   "outputs": [
    {
     "name": "stdout",
     "output_type": "stream",
     "text": [
      "Tensorflow version: 2.4.1\n"
     ]
    }
   ],
   "source": [
    "print('Tensorflow version: {}'.format(tf.__version__))"
   ]
  },
  {
   "cell_type": "markdown",
   "metadata": {},
   "source": [
    "## Examples of Keras callback applications\n",
    "\n",
    "The following section will guide you through creating simple [Callback](https://keras.io/api/callbacks/) applications."
   ]
  },
  {
   "cell_type": "code",
   "execution_count": 3,
   "metadata": {},
   "outputs": [],
   "source": [
    "# horses_or_humans datasets\n",
    "splits, info = tfds.load('horses_or_humans', try_gcs=True, as_supervised=True, with_info=True, split=['train[:80%]', 'test[80%:]', 'test'])\n",
    "\n",
    "(train_examples, validation_examples, test_examples) = splits"
   ]
  },
  {
   "cell_type": "code",
   "execution_count": 4,
   "metadata": {},
   "outputs": [
    {
     "name": "stdout",
     "output_type": "stream",
     "text": [
      "1027 2\n"
     ]
    }
   ],
   "source": [
    "num_examples = info.splits['train'].num_examples\n",
    "num_classes = info.features['label'].num_classes\n",
    "print(num_examples, num_classes)"
   ]
  },
  {
   "cell_type": "code",
   "execution_count": 5,
   "metadata": {},
   "outputs": [],
   "source": [
    "SIZE = 150 #@param {type:'slider', min:64, max=300, step:1}\n",
    "IMAGE_SIZE = (SIZE, SIZE)"
   ]
  },
  {
   "cell_type": "code",
   "execution_count": 6,
   "metadata": {},
   "outputs": [],
   "source": [
    "def format_image(image, label):\n",
    "    image = tf.image.resize(image, IMAGE_SIZE) / 255.0\n",
    "    return image, label"
   ]
  },
  {
   "cell_type": "code",
   "execution_count": 7,
   "metadata": {},
   "outputs": [],
   "source": [
    "BATCH_SIZE=32 #@param {type:\"integer\"}"
   ]
  },
  {
   "cell_type": "code",
   "execution_count": 8,
   "metadata": {},
   "outputs": [],
   "source": [
    "train_batches = train_examples.shuffle(num_examples // 4).map(format_image).batch(BATCH_SIZE).prefetch(1)\n",
    "validation_batches = validation_examples.map(format_image).batch(BATCH_SIZE).prefetch(1)\n",
    "test_batches = test_examples.map(format_image).batch(1)"
   ]
  },
  {
   "cell_type": "code",
   "execution_count": 9,
   "metadata": {},
   "outputs": [
    {
     "data": {
      "text/plain": [
       "TensorShape([32, 150, 150, 3])"
      ]
     },
     "execution_count": 9,
     "metadata": {},
     "output_type": "execute_result"
    }
   ],
   "source": [
    "for image_batch, label_batch in train_batches.take(1):\n",
    "    pass\n",
    "\n",
    "image_batch.shape"
   ]
  },
  {
   "cell_type": "code",
   "execution_count": 10,
   "metadata": {},
   "outputs": [],
   "source": [
    "def build_model(dense_units, input_shape=IMAGE_SIZE + (3,)):\n",
    "    model = tf.keras.models.Sequential([\n",
    "        tf.keras.layers.Conv2D(16, (3, 3), activation='relu', input_shape=input_shape),\n",
    "        tf.keras.layers.MaxPooling2D(2, 2),\n",
    "        tf.keras.layers.Conv2D(32, (3, 3), activation='relu'),\n",
    "        tf.keras.layers.MaxPooling2D(2, 2),\n",
    "        tf.keras.layers.Conv2D(64, (3, 3), activation='relu'),\n",
    "        tf.keras.layers.MaxPooling2D(2, 2),\n",
    "        tf.keras.layers.Flatten(),\n",
    "        tf.keras.layers.Dense(dense_units, activation='relu'),\n",
    "        tf.keras.layers.Dense(2, activation='softmax')\n",
    "    ])\n",
    "    return model"
   ]
  },
  {
   "cell_type": "markdown",
   "metadata": {},
   "source": [
    "## [TensorBoard](https://keras.io/api/callbacks/tensorboard/)\n",
    "\n",
    "Enable visualizations for TensorBoard."
   ]
  },
  {
   "cell_type": "code",
   "execution_count": 11,
   "metadata": {},
   "outputs": [],
   "source": [
    "model = build_model(dense_units=256)\n",
    "model.compile(optimizer='sgd', loss='sparse_categorical_crossentropy', metrics=['accuracy'])"
   ]
  },
  {
   "cell_type": "code",
   "execution_count": 12,
   "metadata": {},
   "outputs": [
    {
     "name": "stdout",
     "output_type": "stream",
     "text": [
      "Epoch 1/10\n",
      "26/26 [==============================] - 2s 32ms/step - loss: 0.6811 - accuracy: 0.5546 - val_loss: 0.6969 - val_accuracy: 0.4902\n",
      "Epoch 2/10\n",
      "26/26 [==============================] - 1s 16ms/step - loss: 0.6467 - accuracy: 0.6274 - val_loss: 0.6752 - val_accuracy: 0.5490\n",
      "Epoch 3/10\n",
      "26/26 [==============================] - 1s 16ms/step - loss: 0.6063 - accuracy: 0.7291 - val_loss: 0.7409 - val_accuracy: 0.4902\n",
      "Epoch 4/10\n",
      "26/26 [==============================] - 1s 16ms/step - loss: 0.5578 - accuracy: 0.7614 - val_loss: 0.8267 - val_accuracy: 0.4902\n",
      "Epoch 5/10\n",
      "26/26 [==============================] - 1s 16ms/step - loss: 0.5169 - accuracy: 0.7451 - val_loss: 0.7518 - val_accuracy: 0.4902\n",
      "Epoch 6/10\n",
      "26/26 [==============================] - 1s 16ms/step - loss: 0.4436 - accuracy: 0.8081 - val_loss: 0.5313 - val_accuracy: 0.7059\n",
      "Epoch 7/10\n",
      "26/26 [==============================] - 1s 17ms/step - loss: 0.4178 - accuracy: 0.8276 - val_loss: 0.7424 - val_accuracy: 0.5294\n",
      "Epoch 8/10\n",
      "26/26 [==============================] - 1s 19ms/step - loss: 0.3449 - accuracy: 0.8617 - val_loss: 0.5317 - val_accuracy: 0.6667\n",
      "Epoch 9/10\n",
      "26/26 [==============================] - 1s 20ms/step - loss: 0.2725 - accuracy: 0.9145 - val_loss: 1.1549 - val_accuracy: 0.5294\n",
      "Epoch 10/10\n",
      "26/26 [==============================] - 1s 17ms/step - loss: 0.2658 - accuracy: 0.9034 - val_loss: 1.3552 - val_accuracy: 0.5294\n"
     ]
    },
    {
     "data": {
      "text/plain": [
       "<tensorflow.python.keras.callbacks.History at 0x7ff04c0acb50>"
      ]
     },
     "execution_count": 12,
     "metadata": {},
     "output_type": "execute_result"
    }
   ],
   "source": [
    "logdir = os.path.join('logs', datetime.datetime.now().strftime('%Y%m%d-%H%M%S'))\n",
    "tensorboard_callback = tf.keras.callbacks.TensorBoard(logdir)\n",
    "\n",
    "model.fit(train_batches, epochs=10, validation_data=validation_batches, callbacks=[tensorboard_callback])"
   ]
  },
  {
   "cell_type": "code",
   "execution_count": 20,
   "metadata": {},
   "outputs": [
    {
     "data": {
      "text/html": [
       "\n",
       "      <iframe id=\"tensorboard-frame-1c4be1f659d0cce3\" width=\"100%\" height=\"800\" frameborder=\"0\">\n",
       "      </iframe>\n",
       "      <script>\n",
       "        (function() {\n",
       "          const frame = document.getElementById(\"tensorboard-frame-1c4be1f659d0cce3\");\n",
       "          const url = new URL(\"/\", window.location);\n",
       "          const port = 8008;\n",
       "          if (port) {\n",
       "            url.port = port;\n",
       "          }\n",
       "          frame.src = url;\n",
       "        })();\n",
       "      </script>\n",
       "    "
      ],
      "text/plain": [
       "<IPython.core.display.HTML object>"
      ]
     },
     "metadata": {},
     "output_type": "display_data"
    }
   ],
   "source": [
    "%tensorboard --logdir logs --port=8008"
   ]
  },
  {
   "cell_type": "markdown",
   "metadata": {},
   "source": [
    "## [Model Checkpoint](https://keras.io/api/callbacks/model_checkpoint/)\n",
    "\n",
    "Callback to save the Keras model or model weights at some frequency."
   ]
  },
  {
   "cell_type": "code",
   "execution_count": 21,
   "metadata": {},
   "outputs": [
    {
     "name": "stdout",
     "output_type": "stream",
     "text": [
      "Epoch 1/5\n",
      "26/26 - 1s - loss: 0.6795 - accuracy: 0.5669 - val_loss: 0.6799 - val_accuracy: 0.4902\n",
      "\n",
      "Epoch 00001: saving model to weights.01-0.68.h5\n",
      "Epoch 2/5\n",
      "26/26 - 1s - loss: 0.6227 - accuracy: 0.6642 - val_loss: 0.6620 - val_accuracy: 0.5098\n",
      "\n",
      "Epoch 00002: saving model to weights.02-0.66.h5\n",
      "Epoch 3/5\n",
      "26/26 - 1s - loss: 0.5450 - accuracy: 0.7470 - val_loss: 0.5719 - val_accuracy: 0.6667\n",
      "\n",
      "Epoch 00003: saving model to weights.03-0.57.h5\n",
      "Epoch 4/5\n",
      "26/26 - 1s - loss: 0.5033 - accuracy: 0.7689 - val_loss: 0.9673 - val_accuracy: 0.5098\n",
      "\n",
      "Epoch 00004: saving model to weights.04-0.97.h5\n",
      "Epoch 5/5\n",
      "26/26 - 1s - loss: 0.4358 - accuracy: 0.8163 - val_loss: 0.9052 - val_accuracy: 0.5294\n",
      "\n",
      "Epoch 00005: saving model to weights.05-0.91.h5\n"
     ]
    },
    {
     "data": {
      "text/plain": [
       "<tensorflow.python.keras.callbacks.History at 0x7ff13bbe57d0>"
      ]
     },
     "execution_count": 21,
     "metadata": {},
     "output_type": "execute_result"
    }
   ],
   "source": [
    "model = build_model(dense_units=256)\n",
    "model.compile(\n",
    "    optimizer='sgd',\n",
    "    loss='sparse_categorical_crossentropy', \n",
    "    metrics=['accuracy'])\n",
    "  \n",
    "model.fit(train_batches, \n",
    "          epochs=5, \n",
    "          validation_data=validation_batches, \n",
    "          verbose=2,\n",
    "          callbacks=[ModelCheckpoint('weights.{epoch:02d}-{val_loss:.2f}.h5', verbose=1),\n",
    "          ])"
   ]
  },
  {
   "cell_type": "code",
   "execution_count": 22,
   "metadata": {},
   "outputs": [
    {
     "name": "stdout",
     "output_type": "stream",
     "text": [
      "26/26 - 1s - loss: 0.6766 - accuracy: 0.5791 - val_loss: 0.6781 - val_accuracy: 0.5686\n",
      "\n",
      "Epoch 00001: saving model to saved_model\n",
      "INFO:tensorflow:Assets written to: saved_model/assets\n"
     ]
    },
    {
     "name": "stderr",
     "output_type": "stream",
     "text": [
      "INFO:tensorflow:Assets written to: saved_model/assets\n"
     ]
    },
    {
     "data": {
      "text/plain": [
       "<tensorflow.python.keras.callbacks.History at 0x7ff13aa18610>"
      ]
     },
     "execution_count": 22,
     "metadata": {},
     "output_type": "execute_result"
    }
   ],
   "source": [
    "model = build_model(dense_units=256)\n",
    "model.compile(\n",
    "    optimizer='sgd',\n",
    "    loss='sparse_categorical_crossentropy', \n",
    "    metrics=['accuracy'])\n",
    "  \n",
    "model.fit(train_batches, \n",
    "          epochs=1, \n",
    "          validation_data=validation_batches, \n",
    "          verbose=2,\n",
    "          callbacks=[ModelCheckpoint('saved_model', verbose=1)\n",
    "          ])"
   ]
  },
  {
   "cell_type": "code",
   "execution_count": 23,
   "metadata": {},
   "outputs": [
    {
     "name": "stdout",
     "output_type": "stream",
     "text": [
      "Epoch 1/2\n",
      "26/26 - 1s - loss: 0.6784 - accuracy: 0.5450 - val_loss: 0.6521 - val_accuracy: 0.8039\n",
      "\n",
      "Epoch 00001: saving model to model.h5\n",
      "Epoch 2/2\n",
      "26/26 - 1s - loss: 0.6285 - accuracy: 0.6691 - val_loss: 0.6768 - val_accuracy: 0.5294\n",
      "\n",
      "Epoch 00002: saving model to model.h5\n"
     ]
    },
    {
     "data": {
      "text/plain": [
       "<tensorflow.python.keras.callbacks.History at 0x7ff13aec0a10>"
      ]
     },
     "execution_count": 23,
     "metadata": {},
     "output_type": "execute_result"
    }
   ],
   "source": [
    "model = build_model(dense_units=256)\n",
    "model.compile(\n",
    "    optimizer='sgd',\n",
    "    loss='sparse_categorical_crossentropy', \n",
    "    metrics=['accuracy'])\n",
    "  \n",
    "model.fit(train_batches, \n",
    "          epochs=2, \n",
    "          validation_data=validation_batches, \n",
    "          verbose=2,\n",
    "          callbacks=[ModelCheckpoint('model.h5', verbose=1)\n",
    "          ])"
   ]
  },
  {
   "cell_type": "markdown",
   "metadata": {},
   "source": [
    "## [Early stopping](https://keras.io/api/callbacks/early_stopping/)\n",
    "\n",
    "Stop training when a monitored metric has stopped improving."
   ]
  },
  {
   "cell_type": "code",
   "execution_count": 24,
   "metadata": {},
   "outputs": [
    {
     "name": "stdout",
     "output_type": "stream",
     "text": [
      "Epoch 1/50\n",
      "26/26 - 1s - loss: 0.6697 - accuracy: 0.6083 - val_loss: 0.7541 - val_accuracy: 0.4902\n",
      "Epoch 2/50\n",
      "26/26 - 1s - loss: 0.6004 - accuracy: 0.7348 - val_loss: 0.7659 - val_accuracy: 0.5098\n",
      "Epoch 3/50\n",
      "26/26 - 1s - loss: 0.5476 - accuracy: 0.7603 - val_loss: 0.7079 - val_accuracy: 0.5294\n",
      "Epoch 4/50\n",
      "26/26 - 1s - loss: 0.4586 - accuracy: 0.8127 - val_loss: 0.5082 - val_accuracy: 0.8431\n",
      "Epoch 5/50\n",
      "26/26 - 1s - loss: 0.3939 - accuracy: 0.8406 - val_loss: 0.9250 - val_accuracy: 0.5490\n",
      "Epoch 6/50\n",
      "26/26 - 1s - loss: 0.3358 - accuracy: 0.8735 - val_loss: 0.9624 - val_accuracy: 0.5686\n",
      "Epoch 7/50\n",
      "26/26 - 1s - loss: 0.2686 - accuracy: 0.9246 - val_loss: 0.7375 - val_accuracy: 0.7255\n",
      "Restoring model weights from the end of the best epoch.\n",
      "Epoch 00007: early stopping\n"
     ]
    },
    {
     "data": {
      "text/plain": [
       "<tensorflow.python.keras.callbacks.History at 0x7ff13afe2bd0>"
      ]
     },
     "execution_count": 24,
     "metadata": {},
     "output_type": "execute_result"
    }
   ],
   "source": [
    "model = build_model(dense_units=256)\n",
    "model.compile(\n",
    "    optimizer='sgd',\n",
    "    loss='sparse_categorical_crossentropy', \n",
    "    metrics=['accuracy'])\n",
    "  \n",
    "model.fit(train_batches, \n",
    "          epochs=50, \n",
    "          validation_data=validation_batches, \n",
    "          verbose=2,\n",
    "          callbacks=[EarlyStopping(\n",
    "              patience=3,\n",
    "              min_delta=0.05,\n",
    "              baseline=0.8,\n",
    "              mode='min',\n",
    "              monitor='val_loss',\n",
    "              restore_best_weights=True,\n",
    "              verbose=1)\n",
    "          ])"
   ]
  },
  {
   "cell_type": "markdown",
   "metadata": {},
   "source": [
    "## [CSV Logger](https://keras.io/api/callbacks/csv_logger/)\n",
    "\n",
    "Callback that streams epoch results to a CSV file."
   ]
  },
  {
   "cell_type": "code",
   "execution_count": 25,
   "metadata": {},
   "outputs": [
    {
     "name": "stdout",
     "output_type": "stream",
     "text": [
      "Epoch 1/5\n",
      "26/26 [==============================] - 1s 19ms/step - loss: 0.7008 - accuracy: 0.5189 - val_loss: 0.7107 - val_accuracy: 0.4902\n",
      "Epoch 2/5\n",
      "26/26 [==============================] - 1s 16ms/step - loss: 0.6378 - accuracy: 0.6557 - val_loss: 0.6065 - val_accuracy: 0.5294\n",
      "Epoch 3/5\n",
      "26/26 [==============================] - 1s 16ms/step - loss: 0.5807 - accuracy: 0.7298 - val_loss: 0.5507 - val_accuracy: 0.7059\n",
      "Epoch 4/5\n",
      "26/26 [==============================] - 1s 16ms/step - loss: 0.5681 - accuracy: 0.7191 - val_loss: 0.6519 - val_accuracy: 0.6078\n",
      "Epoch 5/5\n",
      "26/26 [==============================] - 1s 16ms/step - loss: 0.5316 - accuracy: 0.7255 - val_loss: 0.6350 - val_accuracy: 0.6471\n"
     ]
    },
    {
     "data": {
      "text/plain": [
       "<tensorflow.python.keras.callbacks.History at 0x7ff13b07f850>"
      ]
     },
     "execution_count": 25,
     "metadata": {},
     "output_type": "execute_result"
    }
   ],
   "source": [
    "model = build_model(dense_units=256)\n",
    "model.compile(\n",
    "    optimizer='sgd',\n",
    "    loss='sparse_categorical_crossentropy', \n",
    "    metrics=['accuracy'])\n",
    "  \n",
    "csv_file = 'training.csv'\n",
    "\n",
    "model.fit(train_batches, \n",
    "          epochs=5, \n",
    "          validation_data=validation_batches, \n",
    "          callbacks=[CSVLogger(csv_file)\n",
    "          ])"
   ]
  },
  {
   "cell_type": "code",
   "execution_count": 26,
   "metadata": {},
   "outputs": [
    {
     "data": {
      "text/html": [
       "<div>\n",
       "<style scoped>\n",
       "    .dataframe tbody tr th:only-of-type {\n",
       "        vertical-align: middle;\n",
       "    }\n",
       "\n",
       "    .dataframe tbody tr th {\n",
       "        vertical-align: top;\n",
       "    }\n",
       "\n",
       "    .dataframe thead th {\n",
       "        text-align: right;\n",
       "    }\n",
       "</style>\n",
       "<table border=\"1\" class=\"dataframe\">\n",
       "  <thead>\n",
       "    <tr style=\"text-align: right;\">\n",
       "      <th></th>\n",
       "      <th>epoch</th>\n",
       "      <th>accuracy</th>\n",
       "      <th>loss</th>\n",
       "      <th>val_accuracy</th>\n",
       "      <th>val_loss</th>\n",
       "    </tr>\n",
       "  </thead>\n",
       "  <tbody>\n",
       "    <tr>\n",
       "      <th>0</th>\n",
       "      <td>0</td>\n",
       "      <td>0.588808</td>\n",
       "      <td>0.679656</td>\n",
       "      <td>0.490196</td>\n",
       "      <td>0.710690</td>\n",
       "    </tr>\n",
       "    <tr>\n",
       "      <th>1</th>\n",
       "      <td>1</td>\n",
       "      <td>0.678832</td>\n",
       "      <td>0.618920</td>\n",
       "      <td>0.529412</td>\n",
       "      <td>0.606464</td>\n",
       "    </tr>\n",
       "    <tr>\n",
       "      <th>2</th>\n",
       "      <td>2</td>\n",
       "      <td>0.711679</td>\n",
       "      <td>0.584460</td>\n",
       "      <td>0.705882</td>\n",
       "      <td>0.550742</td>\n",
       "    </tr>\n",
       "    <tr>\n",
       "      <th>3</th>\n",
       "      <td>3</td>\n",
       "      <td>0.763990</td>\n",
       "      <td>0.527732</td>\n",
       "      <td>0.607843</td>\n",
       "      <td>0.651865</td>\n",
       "    </tr>\n",
       "    <tr>\n",
       "      <th>4</th>\n",
       "      <td>4</td>\n",
       "      <td>0.774939</td>\n",
       "      <td>0.494997</td>\n",
       "      <td>0.647059</td>\n",
       "      <td>0.635014</td>\n",
       "    </tr>\n",
       "  </tbody>\n",
       "</table>\n",
       "</div>"
      ],
      "text/plain": [
       "   epoch  accuracy      loss  val_accuracy  val_loss\n",
       "0      0  0.588808  0.679656      0.490196  0.710690\n",
       "1      1  0.678832  0.618920      0.529412  0.606464\n",
       "2      2  0.711679  0.584460      0.705882  0.550742\n",
       "3      3  0.763990  0.527732      0.607843  0.651865\n",
       "4      4  0.774939  0.494997      0.647059  0.635014"
      ]
     },
     "execution_count": 26,
     "metadata": {},
     "output_type": "execute_result"
    }
   ],
   "source": [
    "pd.read_csv(csv_file).head()"
   ]
  },
  {
   "cell_type": "markdown",
   "metadata": {},
   "source": [
    "## [Learning Rate Scheduler](https://keras.io/api/callbacks/learning_rate_scheduler/)\n",
    "\n",
    "Updates the learning rate during training."
   ]
  },
  {
   "cell_type": "code",
   "execution_count": 27,
   "metadata": {},
   "outputs": [
    {
     "name": "stdout",
     "output_type": "stream",
     "text": [
      "Epoch 1/5\n",
      "\n",
      "Epoch 00001: LearningRateScheduler reducing learning rate to 0.005.\n",
      "26/26 [==============================] - 1s 25ms/step - loss: 0.6934 - accuracy: 0.5258 - val_loss: 0.6919 - val_accuracy: 0.4902\n",
      "Epoch 2/5\n",
      "\n",
      "Epoch 00002: LearningRateScheduler reducing learning rate to 0.0025.\n",
      "26/26 [==============================] - 1s 19ms/step - loss: 0.6702 - accuracy: 0.5562 - val_loss: 0.6906 - val_accuracy: 0.4902\n",
      "Epoch 3/5\n",
      "\n",
      "Epoch 00003: LearningRateScheduler reducing learning rate to 0.00125.\n",
      "26/26 [==============================] - 1s 16ms/step - loss: 0.6594 - accuracy: 0.5824 - val_loss: 0.6807 - val_accuracy: 0.4902\n",
      "Epoch 4/5\n",
      "\n",
      "Epoch 00004: LearningRateScheduler reducing learning rate to 0.000625.\n",
      "26/26 [==============================] - 1s 16ms/step - loss: 0.6599 - accuracy: 0.6085 - val_loss: 0.6808 - val_accuracy: 0.4902\n",
      "Epoch 5/5\n",
      "\n",
      "Epoch 00005: LearningRateScheduler reducing learning rate to 0.0003125.\n",
      "26/26 [==============================] - 1s 16ms/step - loss: 0.6560 - accuracy: 0.6100 - val_loss: 0.6809 - val_accuracy: 0.4902\n"
     ]
    },
    {
     "data": {
      "text/plain": [
       "<tensorflow.python.keras.callbacks.History at 0x7ff13b8699d0>"
      ]
     },
     "execution_count": 27,
     "metadata": {},
     "output_type": "execute_result"
    }
   ],
   "source": [
    "model = build_model(dense_units=256)\n",
    "model.compile(\n",
    "    optimizer='sgd',\n",
    "    loss='sparse_categorical_crossentropy', \n",
    "    metrics=['accuracy'])\n",
    "  \n",
    "def step_decay(epoch):\n",
    "\tinitial_lr = 0.01\n",
    "\tdrop = 0.5\n",
    "\tepochs_drop = 1\n",
    "\tlr = initial_lr * math.pow(drop, math.floor((1+epoch)/epochs_drop))\n",
    "\treturn lr\n",
    "\n",
    "model.fit(train_batches, \n",
    "          epochs=5, \n",
    "          validation_data=validation_batches, \n",
    "          callbacks=[LearningRateScheduler(step_decay, verbose=1),\n",
    "                    TensorBoard(log_dir='./log_dir')])"
   ]
  },
  {
   "cell_type": "code",
   "execution_count": 28,
   "metadata": {},
   "outputs": [
    {
     "data": {
      "text/html": [
       "\n",
       "      <iframe id=\"tensorboard-frame-5987ca38bdb93f9e\" width=\"100%\" height=\"800\" frameborder=\"0\">\n",
       "      </iframe>\n",
       "      <script>\n",
       "        (function() {\n",
       "          const frame = document.getElementById(\"tensorboard-frame-5987ca38bdb93f9e\");\n",
       "          const url = new URL(\"/\", window.location);\n",
       "          const port = 6008;\n",
       "          if (port) {\n",
       "            url.port = port;\n",
       "          }\n",
       "          frame.src = url;\n",
       "        })();\n",
       "      </script>\n",
       "    "
      ],
      "text/plain": [
       "<IPython.core.display.HTML object>"
      ]
     },
     "metadata": {},
     "output_type": "display_data"
    }
   ],
   "source": [
    "%tensorboard --logdir log_dir"
   ]
  },
  {
   "cell_type": "markdown",
   "metadata": {},
   "source": [
    "## [ReduceLROnPlateau](https://keras.io/api/callbacks/reduce_lr_on_plateau/)\n",
    "\n",
    "Reduce learning rate when a metric has stopped improving."
   ]
  },
  {
   "cell_type": "code",
   "execution_count": 29,
   "metadata": {},
   "outputs": [
    {
     "name": "stdout",
     "output_type": "stream",
     "text": [
      "Epoch 1/50\n",
      "26/26 [==============================] - 1s 22ms/step - loss: 0.6831 - accuracy: 0.5864 - val_loss: 0.6870 - val_accuracy: 0.4902\n",
      "Epoch 2/50\n",
      "26/26 [==============================] - 1s 17ms/step - loss: 0.6416 - accuracy: 0.6773 - val_loss: 0.6623 - val_accuracy: 0.8039\n",
      "Epoch 3/50\n",
      "26/26 [==============================] - 1s 16ms/step - loss: 0.5877 - accuracy: 0.7788 - val_loss: 0.9273 - val_accuracy: 0.4902\n",
      "\n",
      "Epoch 00003: ReduceLROnPlateau reducing learning rate to 0.0019999999552965165.\n",
      "Epoch 4/50\n",
      "26/26 [==============================] - 1s 16ms/step - loss: 0.5352 - accuracy: 0.7535 - val_loss: 0.6460 - val_accuracy: 0.5686\n",
      "Epoch 5/50\n",
      "26/26 [==============================] - 1s 17ms/step - loss: 0.5079 - accuracy: 0.8116 - val_loss: 0.7629 - val_accuracy: 0.4902\n",
      "\n",
      "Epoch 00005: ReduceLROnPlateau reducing learning rate to 0.001.\n",
      "Epoch 6/50\n",
      "26/26 [==============================] - 1s 16ms/step - loss: 0.4893 - accuracy: 0.8444 - val_loss: 0.7508 - val_accuracy: 0.4902\n",
      "\n",
      "Epoch 00006: ReduceLROnPlateau reducing learning rate to 0.001.\n",
      "Epoch 7/50\n",
      "26/26 [==============================] - 1s 16ms/step - loss: 0.4776 - accuracy: 0.8416 - val_loss: 0.7112 - val_accuracy: 0.5294\n",
      "\n",
      "Epoch 00007: ReduceLROnPlateau reducing learning rate to 0.001.\n",
      "Epoch 8/50\n",
      "26/26 [==============================] - 1s 16ms/step - loss: 0.4654 - accuracy: 0.8298 - val_loss: 0.7060 - val_accuracy: 0.5294\n",
      "\n",
      "Epoch 00008: ReduceLROnPlateau reducing learning rate to 0.001.\n",
      "Epoch 9/50\n",
      "26/26 [==============================] - 1s 16ms/step - loss: 0.4599 - accuracy: 0.8202 - val_loss: 0.7253 - val_accuracy: 0.5294\n",
      "\n",
      "Epoch 00009: ReduceLROnPlateau reducing learning rate to 0.001.\n",
      "Epoch 10/50\n",
      "26/26 [==============================] - 1s 16ms/step - loss: 0.4624 - accuracy: 0.8096 - val_loss: 0.7699 - val_accuracy: 0.5098\n",
      "\n",
      "Epoch 00010: ReduceLROnPlateau reducing learning rate to 0.001.\n",
      "Epoch 11/50\n",
      "26/26 [==============================] - 1s 17ms/step - loss: 0.4518 - accuracy: 0.8212 - val_loss: 0.7757 - val_accuracy: 0.5098\n",
      "\n",
      "Epoch 00011: ReduceLROnPlateau reducing learning rate to 0.001.\n",
      "Epoch 12/50\n",
      "26/26 [==============================] - 1s 16ms/step - loss: 0.4450 - accuracy: 0.8314 - val_loss: 0.7287 - val_accuracy: 0.5294\n",
      "\n",
      "Epoch 00012: ReduceLROnPlateau reducing learning rate to 0.001.\n",
      "Epoch 13/50\n",
      "26/26 [==============================] - 1s 17ms/step - loss: 0.4335 - accuracy: 0.8351 - val_loss: 0.8738 - val_accuracy: 0.4902\n",
      "\n",
      "Epoch 00013: ReduceLROnPlateau reducing learning rate to 0.001.\n",
      "Epoch 14/50\n",
      "26/26 [==============================] - 1s 16ms/step - loss: 0.4249 - accuracy: 0.8596 - val_loss: 0.7461 - val_accuracy: 0.5294\n",
      "\n",
      "Epoch 00014: ReduceLROnPlateau reducing learning rate to 0.001.\n",
      "Epoch 15/50\n",
      "26/26 [==============================] - 1s 16ms/step - loss: 0.4163 - accuracy: 0.8326 - val_loss: 0.7310 - val_accuracy: 0.5294\n",
      "\n",
      "Epoch 00015: ReduceLROnPlateau reducing learning rate to 0.001.\n",
      "Epoch 16/50\n",
      "26/26 [==============================] - 1s 17ms/step - loss: 0.4178 - accuracy: 0.8441 - val_loss: 0.7776 - val_accuracy: 0.5294\n",
      "\n",
      "Epoch 00016: ReduceLROnPlateau reducing learning rate to 0.001.\n",
      "Epoch 17/50\n",
      "26/26 [==============================] - 1s 17ms/step - loss: 0.4135 - accuracy: 0.8372 - val_loss: 0.7993 - val_accuracy: 0.5294\n",
      "\n",
      "Epoch 00017: ReduceLROnPlateau reducing learning rate to 0.001.\n",
      "Epoch 18/50\n",
      "26/26 [==============================] - 1s 17ms/step - loss: 0.4107 - accuracy: 0.8542 - val_loss: 0.8232 - val_accuracy: 0.5294\n",
      "\n",
      "Epoch 00018: ReduceLROnPlateau reducing learning rate to 0.001.\n",
      "Epoch 19/50\n",
      "26/26 [==============================] - 1s 17ms/step - loss: 0.4017 - accuracy: 0.8516 - val_loss: 0.8115 - val_accuracy: 0.5294\n",
      "\n",
      "Epoch 00019: ReduceLROnPlateau reducing learning rate to 0.001.\n",
      "Epoch 20/50\n",
      "26/26 [==============================] - 1s 16ms/step - loss: 0.4049 - accuracy: 0.8318 - val_loss: 0.7184 - val_accuracy: 0.5294\n",
      "\n",
      "Epoch 00020: ReduceLROnPlateau reducing learning rate to 0.001.\n",
      "Epoch 21/50\n",
      "26/26 [==============================] - 1s 17ms/step - loss: 0.3929 - accuracy: 0.8404 - val_loss: 0.6934 - val_accuracy: 0.5882\n",
      "\n",
      "Epoch 00021: ReduceLROnPlateau reducing learning rate to 0.001.\n",
      "Epoch 22/50\n",
      "26/26 [==============================] - 1s 20ms/step - loss: 0.3708 - accuracy: 0.8523 - val_loss: 0.8524 - val_accuracy: 0.5294\n",
      "\n",
      "Epoch 00022: ReduceLROnPlateau reducing learning rate to 0.001.\n",
      "Epoch 23/50\n",
      "26/26 [==============================] - 1s 17ms/step - loss: 0.3672 - accuracy: 0.8683 - val_loss: 0.8417 - val_accuracy: 0.5294\n",
      "\n",
      "Epoch 00023: ReduceLROnPlateau reducing learning rate to 0.001.\n",
      "Epoch 24/50\n",
      "26/26 [==============================] - 1s 17ms/step - loss: 0.3737 - accuracy: 0.8596 - val_loss: 0.8204 - val_accuracy: 0.5294\n",
      "\n",
      "Epoch 00024: ReduceLROnPlateau reducing learning rate to 0.001.\n",
      "Epoch 25/50\n",
      "26/26 [==============================] - 1s 17ms/step - loss: 0.3565 - accuracy: 0.8730 - val_loss: 0.8998 - val_accuracy: 0.5294\n",
      "\n",
      "Epoch 00025: ReduceLROnPlateau reducing learning rate to 0.001.\n",
      "Epoch 26/50\n",
      "26/26 [==============================] - 1s 17ms/step - loss: 0.3633 - accuracy: 0.8688 - val_loss: 0.8492 - val_accuracy: 0.5294\n",
      "\n",
      "Epoch 00026: ReduceLROnPlateau reducing learning rate to 0.001.\n",
      "Epoch 27/50\n",
      "26/26 [==============================] - 1s 16ms/step - loss: 0.3523 - accuracy: 0.8739 - val_loss: 0.9375 - val_accuracy: 0.5294\n",
      "\n",
      "Epoch 00027: ReduceLROnPlateau reducing learning rate to 0.001.\n",
      "Epoch 28/50\n",
      "26/26 [==============================] - 1s 17ms/step - loss: 0.3478 - accuracy: 0.8760 - val_loss: 0.9744 - val_accuracy: 0.5294\n",
      "\n",
      "Epoch 00028: ReduceLROnPlateau reducing learning rate to 0.001.\n",
      "Epoch 29/50\n",
      "26/26 [==============================] - 1s 16ms/step - loss: 0.3304 - accuracy: 0.8788 - val_loss: 0.8874 - val_accuracy: 0.5294\n",
      "\n",
      "Epoch 00029: ReduceLROnPlateau reducing learning rate to 0.001.\n",
      "Epoch 30/50\n",
      "26/26 [==============================] - 1s 16ms/step - loss: 0.3152 - accuracy: 0.8970 - val_loss: 0.8805 - val_accuracy: 0.5294\n",
      "\n",
      "Epoch 00030: ReduceLROnPlateau reducing learning rate to 0.001.\n",
      "Epoch 31/50\n",
      "26/26 [==============================] - 1s 17ms/step - loss: 0.3146 - accuracy: 0.8953 - val_loss: 0.9138 - val_accuracy: 0.5294\n",
      "\n",
      "Epoch 00031: ReduceLROnPlateau reducing learning rate to 0.001.\n",
      "Epoch 32/50\n",
      "26/26 [==============================] - 1s 16ms/step - loss: 0.3337 - accuracy: 0.8732 - val_loss: 0.8544 - val_accuracy: 0.5490\n",
      "\n",
      "Epoch 00032: ReduceLROnPlateau reducing learning rate to 0.001.\n",
      "Epoch 33/50\n",
      "26/26 [==============================] - 1s 17ms/step - loss: 0.3016 - accuracy: 0.8899 - val_loss: 0.6820 - val_accuracy: 0.6275\n",
      "\n",
      "Epoch 00033: ReduceLROnPlateau reducing learning rate to 0.001.\n",
      "Epoch 34/50\n",
      "26/26 [==============================] - 1s 16ms/step - loss: 0.3009 - accuracy: 0.9053 - val_loss: 0.9582 - val_accuracy: 0.5490\n",
      "\n",
      "Epoch 00034: ReduceLROnPlateau reducing learning rate to 0.001.\n",
      "Epoch 35/50\n",
      "26/26 [==============================] - 1s 16ms/step - loss: 0.2955 - accuracy: 0.9100 - val_loss: 0.8119 - val_accuracy: 0.5686\n",
      "\n",
      "Epoch 00035: ReduceLROnPlateau reducing learning rate to 0.001.\n",
      "Epoch 36/50\n",
      "26/26 [==============================] - 1s 17ms/step - loss: 0.2874 - accuracy: 0.9150 - val_loss: 0.7794 - val_accuracy: 0.5686\n",
      "\n",
      "Epoch 00036: ReduceLROnPlateau reducing learning rate to 0.001.\n",
      "Epoch 37/50\n",
      "26/26 [==============================] - 1s 18ms/step - loss: 0.2915 - accuracy: 0.9021 - val_loss: 0.7286 - val_accuracy: 0.5882\n",
      "\n",
      "Epoch 00037: ReduceLROnPlateau reducing learning rate to 0.001.\n",
      "Epoch 38/50\n",
      "26/26 [==============================] - 1s 17ms/step - loss: 0.2892 - accuracy: 0.9067 - val_loss: 0.9561 - val_accuracy: 0.5490\n",
      "\n",
      "Epoch 00038: ReduceLROnPlateau reducing learning rate to 0.001.\n",
      "Epoch 39/50\n",
      "26/26 [==============================] - 1s 17ms/step - loss: 0.2684 - accuracy: 0.9119 - val_loss: 0.8375 - val_accuracy: 0.5686\n",
      "\n",
      "Epoch 00039: ReduceLROnPlateau reducing learning rate to 0.001.\n",
      "Epoch 40/50\n",
      "26/26 [==============================] - 1s 17ms/step - loss: 0.2666 - accuracy: 0.9103 - val_loss: 0.9462 - val_accuracy: 0.5490\n",
      "\n",
      "Epoch 00040: ReduceLROnPlateau reducing learning rate to 0.001.\n",
      "Epoch 41/50\n",
      "26/26 [==============================] - 1s 16ms/step - loss: 0.2528 - accuracy: 0.9181 - val_loss: 0.9171 - val_accuracy: 0.5686\n",
      "\n",
      "Epoch 00041: ReduceLROnPlateau reducing learning rate to 0.001.\n",
      "Epoch 42/50\n",
      "26/26 [==============================] - 1s 16ms/step - loss: 0.2396 - accuracy: 0.9289 - val_loss: 0.8304 - val_accuracy: 0.5686\n",
      "\n",
      "Epoch 00042: ReduceLROnPlateau reducing learning rate to 0.001.\n",
      "Epoch 43/50\n",
      "26/26 [==============================] - 1s 17ms/step - loss: 0.2263 - accuracy: 0.9402 - val_loss: 0.9797 - val_accuracy: 0.5490\n",
      "\n",
      "Epoch 00043: ReduceLROnPlateau reducing learning rate to 0.001.\n",
      "Epoch 44/50\n",
      "26/26 [==============================] - 1s 16ms/step - loss: 0.2292 - accuracy: 0.9368 - val_loss: 0.8915 - val_accuracy: 0.5686\n",
      "\n",
      "Epoch 00044: ReduceLROnPlateau reducing learning rate to 0.001.\n",
      "Epoch 45/50\n",
      "26/26 [==============================] - 1s 16ms/step - loss: 0.2248 - accuracy: 0.9426 - val_loss: 0.8950 - val_accuracy: 0.5686\n",
      "\n",
      "Epoch 00045: ReduceLROnPlateau reducing learning rate to 0.001.\n",
      "Epoch 46/50\n",
      "26/26 [==============================] - 1s 17ms/step - loss: 0.2238 - accuracy: 0.9361 - val_loss: 0.9275 - val_accuracy: 0.5686\n",
      "\n",
      "Epoch 00046: ReduceLROnPlateau reducing learning rate to 0.001.\n",
      "Epoch 47/50\n",
      "26/26 [==============================] - 1s 19ms/step - loss: 0.2207 - accuracy: 0.9424 - val_loss: 0.9298 - val_accuracy: 0.5686\n",
      "\n",
      "Epoch 00047: ReduceLROnPlateau reducing learning rate to 0.001.\n",
      "Epoch 48/50\n",
      "26/26 [==============================] - 1s 16ms/step - loss: 0.2138 - accuracy: 0.9538 - val_loss: 1.0647 - val_accuracy: 0.5490\n",
      "\n",
      "Epoch 00048: ReduceLROnPlateau reducing learning rate to 0.001.\n",
      "Epoch 49/50\n",
      "26/26 [==============================] - 1s 17ms/step - loss: 0.2061 - accuracy: 0.9498 - val_loss: 1.0628 - val_accuracy: 0.5490\n",
      "\n",
      "Epoch 00049: ReduceLROnPlateau reducing learning rate to 0.001.\n",
      "Epoch 50/50\n",
      "26/26 [==============================] - 1s 17ms/step - loss: 0.1981 - accuracy: 0.9470 - val_loss: 0.8922 - val_accuracy: 0.6078\n",
      "\n",
      "Epoch 00050: ReduceLROnPlateau reducing learning rate to 0.001.\n"
     ]
    },
    {
     "data": {
      "text/plain": [
       "<tensorflow.python.keras.callbacks.History at 0x7ff13ae93990>"
      ]
     },
     "execution_count": 29,
     "metadata": {},
     "output_type": "execute_result"
    }
   ],
   "source": [
    "model = build_model(dense_units=256)\n",
    "model.compile(\n",
    "    optimizer='sgd',\n",
    "    loss='sparse_categorical_crossentropy', \n",
    "    metrics=['accuracy'])\n",
    "  \n",
    "model.fit(train_batches, \n",
    "          epochs=50, \n",
    "          validation_data=validation_batches, \n",
    "          callbacks=[ReduceLROnPlateau(monitor='val_loss', \n",
    "                                       factor=0.2, verbose=1,\n",
    "                                       patience=1, min_lr=0.001),\n",
    "                     TensorBoard(log_dir='./log_dir')])"
   ]
  },
  {
   "cell_type": "code",
   "execution_count": 30,
   "metadata": {},
   "outputs": [
    {
     "data": {
      "text/plain": [
       "Reusing TensorBoard on port 6008 (pid 74529), started 0:00:43 ago. (Use '!kill 74529' to kill it.)"
      ]
     },
     "metadata": {},
     "output_type": "display_data"
    },
    {
     "data": {
      "text/html": [
       "\n",
       "      <iframe id=\"tensorboard-frame-a32a7d7f29560b6a\" width=\"100%\" height=\"800\" frameborder=\"0\">\n",
       "      </iframe>\n",
       "      <script>\n",
       "        (function() {\n",
       "          const frame = document.getElementById(\"tensorboard-frame-a32a7d7f29560b6a\");\n",
       "          const url = new URL(\"/\", window.location);\n",
       "          const port = 6008;\n",
       "          if (port) {\n",
       "            url.port = port;\n",
       "          }\n",
       "          frame.src = url;\n",
       "        })();\n",
       "      </script>\n",
       "    "
      ],
      "text/plain": [
       "<IPython.core.display.HTML object>"
      ]
     },
     "metadata": {},
     "output_type": "display_data"
    }
   ],
   "source": [
    "%tensorboard --logdir log_dir"
   ]
  }
 ],
 "metadata": {
  "kernelspec": {
   "display_name": "Python 3 (ipykernel)",
   "language": "python",
   "name": "python3"
  },
  "language_info": {
   "codemirror_mode": {
    "name": "ipython",
    "version": 3
   },
   "file_extension": ".py",
   "mimetype": "text/x-python",
   "name": "python",
   "nbconvert_exporter": "python",
   "pygments_lexer": "ipython3",
   "version": "3.7.6"
  }
 },
 "nbformat": 4,
 "nbformat_minor": 4
}
