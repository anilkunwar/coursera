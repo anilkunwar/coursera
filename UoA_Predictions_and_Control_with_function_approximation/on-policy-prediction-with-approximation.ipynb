{
 "cells": [
  {
   "cell_type": "markdown",
   "metadata": {},
   "source": [
    "# On-policy Prediction with Approximation\n",
    "\n",
    "> This is the summary of lecture \"Prediction and Control with Function Approximation\" from Coursera.\n",
    "\n",
    "- toc: true \n",
    "- badges: true\n",
    "- comments: true\n",
    "- author: Chanseok Kang\n",
    "- categories: [Python, Coursera, Reinforcement_Learning]\n",
    "- image: "
   ]
  },
  {
   "cell_type": "markdown",
   "metadata": {},
   "source": [
    "## Moving to Parameterized Functions\n",
    "\n",
    "### Parameterizing the Value Function\n",
    "\n",
    "$$ \\hat{v}(s, w) \\approx v_{\\pi}(s) $$\n",
    "\n",
    "For example, suppose we have the state space in 2D dimension, $X, Y$. Then we can express our value function like this,\n",
    "\n",
    "$$ \\hat{v}(s, w) \\doteq w_1 X + w_2 Y $$\n",
    "\n",
    "### Linear Value Function Approximation\n",
    "\n",
    "$$ \\begin{aligned} \\hat{v}(s, w) &\\doteq \\sum w_i x_i(s) \\\\ \n",
    "&= <w, x(s) > \\end{aligned} $$\n",
    "\n",
    "### Nonlinear Function Approximation\n",
    "\n",
    "![nfa](image/nfa.png)"
   ]
  },
  {
   "cell_type": "markdown",
   "metadata": {},
   "source": [
    "## Generalization and Discrimination\n",
    "\n",
    "### Categorizing methods based on generalization and discrimination\n",
    "\n",
    "![gene-desc](image/gene_desc.png)"
   ]
  },
  {
   "cell_type": "markdown",
   "metadata": {},
   "source": [
    "## Framing Value Estimation as Supervised Learning\n",
    "\n",
    "- The function approximator should be compatible with online updates (online means that the full dataset is available from the start and remains fixed throughout learning.)\n",
    "\n",
    "- Thf function approximator should be compatible with Bootstrapping (usually, the target in RL problem depends on feature weight $w$)"
   ]
  },
  {
   "cell_type": "code",
   "execution_count": null,
   "metadata": {},
   "outputs": [],
   "source": []
  }
 ],
 "metadata": {
  "kernelspec": {
   "display_name": "Python 3",
   "language": "python",
   "name": "python3"
  },
  "language_info": {
   "codemirror_mode": {
    "name": "ipython",
    "version": 3
   },
   "file_extension": ".py",
   "mimetype": "text/x-python",
   "name": "python",
   "nbconvert_exporter": "python",
   "pygments_lexer": "ipython3",
   "version": "3.7.6"
  }
 },
 "nbformat": 4,
 "nbformat_minor": 4
}
