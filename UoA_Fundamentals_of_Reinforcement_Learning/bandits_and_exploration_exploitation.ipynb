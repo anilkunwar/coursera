{
 "cells": [
  {
   "cell_type": "markdown",
   "metadata": {},
   "source": [
    "# Bandits and Exploration/Exploitation\n",
    "\n",
    "> In this post, we will learn simple reinforcement learning problem, the bandits, This is the summary of lecture \"Fundamentals of Reinforcement Learning\" from Coursera.\n",
    "\n",
    "- toc: true \n",
    "- badges: true\n",
    "- comments: true\n",
    "- author: Chanseok Kang\n",
    "- categories: [Python, Coursera, Reinforcement_Learning]\n",
    "- image: "
   ]
  },
  {
   "cell_type": "markdown",
   "metadata": {},
   "source": [
    "## Sequential Decision Making with Evaluative Feedback\n",
    "\n",
    "### Action-Values (or Action-Value function)\n",
    "\n",
    "The value is the expected reward\n",
    "\n",
    "$$ \\begin{aligned} q_{*}(a) &\\doteq \\mathbb{E}[R_t \\vert A_t = a] \\quad \\forall a \\in \\{1, \\dots, k\\} \\\\ &= \\sum_{r} p(r \\vert a ) r \\end{aligned}$$\n",
    "\n",
    "Here, $\\doteq$ means **\"is defined as\"**. \n",
    "\n",
    "The goal of Action-value is to maximize the expected reward. In formula, we can express it like this,\n",
    "\n",
    "$$ \\arg\\max_a q_{*}(a) $$\n",
    "\n",
    "Then, how can we calculate the $q_{*}(a)$?\n",
    "\n",
    "In K-armed bandit problem, we can explain it in medicine prescription case. Consider we have three types of medicines.\n",
    "\n",
    "![medicine](image/bandit_q_a.png)\n",
    "\n",
    "And each medicine has its own distribution.\n",
    "\n",
    "![medicine](image/bandit_distribution.png)\n",
    "\n",
    "Red one is Binomial, green one is normal, and blue one is uniform distribution. Based on this information, we can calculate each $q_{*}(a)$.\n",
    "\n",
    "$$ \\begin{aligned} \\text{Red :} q_{*}(a) &= 0.5 \\times -11 + 0.5 \\times 9 = -0.1 \\\\ \n",
    "   \\text{Green :} q_{*}(a) &= 1 \\\\\n",
    "   \\text{Blue :} q_{*}(a) &= 3 \\\\ \\end{aligned}$$"
   ]
  },
  {
   "cell_type": "code",
   "execution_count": null,
   "metadata": {},
   "outputs": [],
   "source": []
  }
 ],
 "metadata": {
  "kernelspec": {
   "display_name": "Python 3",
   "language": "python",
   "name": "python3"
  },
  "language_info": {
   "codemirror_mode": {
    "name": "ipython",
    "version": 3
   },
   "file_extension": ".py",
   "mimetype": "text/x-python",
   "name": "python",
   "nbconvert_exporter": "python",
   "pygments_lexer": "ipython3",
   "version": "3.7.6"
  }
 },
 "nbformat": 4,
 "nbformat_minor": 4
}
