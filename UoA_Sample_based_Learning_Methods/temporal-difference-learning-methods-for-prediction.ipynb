{
 "cells": [
  {
   "cell_type": "markdown",
   "metadata": {},
   "source": [
    "# Temporal Difference Learning methods for Prediction\n",
    "\n",
    "> This is the summary of lecture \"Sample-based Learning Methods\" from Coursera.\n",
    "\n",
    "- toc: true \n",
    "- badges: true\n",
    "- comments: true\n",
    "- author: Chanseok Kang\n",
    "- categories: [Python, Coursera, Reinforcement_Learning]\n",
    "- image: "
   ]
  },
  {
   "cell_type": "markdown",
   "metadata": {},
   "source": [
    "## What is temporal difference (TD) Learning?\n",
    "\n",
    "### Estimating values from returns\n",
    "\n",
    "$$ v_{\\pi}(s) \\doteq \\mathbb{E}_{\\pi}[G_t \\vert S_t = s] $$\n",
    "\n",
    "$$ V(S_t) \\leftarrow V(S_t) + \\alpha [G_t - V(S_t)] $$\n",
    "\n",
    "### Bootstrapping\n",
    "\n",
    "$$ \\begin{aligned} G_t &\\doteq R_{t+1} + \\gamma R_{t+2} + \\gamma^2 R_{t+3} + \\dots \\\\\n",
    "&= R_{t+1} + \\gamma G_{t+1} \\end{aligned} $$\n",
    "\n",
    "$$ \\begin{aligned} v_{\\pi}(s) &\\doteq \\mathbb{E}_{\\pi}[G_t \\vert S_t = s] \\\\\n",
    "&=\\mathbb{E}_{\\pi}[R_{t+1} + \\gamma G_{t+1} \\vert S_t = s ] \\\\\n",
    "&= R_{t+1} + \\gamma v_{\\pi}(S_{t+1}) \\end{aligned} $$\n",
    "\n",
    "### Temporal Difference\n",
    "\n",
    "$$ V(S_t) \\leftarrow V(S_t) + \\alpha [ G_t - V(S_t) ] $$\n",
    "\n",
    "$$ V(S_t) \\leftarrow V(S_t) + \\alpha [ R_{t+1} + \\gamma V(S_{t+1}) - V(S_t) ] $$\n",
    "\n",
    "- TD Error ($\\delta$)\n",
    "\n",
    "$$ \\delta_t = R_{t+1} + \\gamma V(S_{t+1}) - V(S_t) $$\n",
    "\n",
    "### Tabular TD(0) for estimating $v_{\\pi}$\n",
    "\n",
    "$\\begin{aligned}\n",
    "&\\text{Input: the policy } \\pi \\text{ to be evaluated} \\\\\n",
    "&\\text{Algorithm parameter: step size } \\alpha \\in (0, 1] \\\\\n",
    "&\\text{Initialize } V(s), \\text{ for all } s \\in \\mathcal{S}^{+}, \\text{ arbitrarily except that } V(terminal) = 0 \\\\\n",
    "\\newline\n",
    "&\\text{Loop for each episode: } \\\\\n",
    "&\\quad \\text{Initialize } S \\\\\n",
    "&\\quad \\text{Loop for each step of episode: } \\\\\n",
    "&\\qquad A \\leftarrow \\text{ action given by } \\pi \\text{ for } S \\\\\n",
    "&\\qquad \\text{Take action } A, \\text{ observe } R, S' \\\\\n",
    "&\\qquad V(S) \\leftarrow V(S) + \\alpha [ R + \\gamma V(S') - V(S)] \\\\\n",
    "&\\qquad S \\leftarrow S' \\\\\n",
    "&\\quad \\text{until } S \\text{ is terminal} \n",
    "\\end{aligned}$"
   ]
  },
  {
   "cell_type": "markdown",
   "metadata": {},
   "source": [
    "## The Importance of TD Learning\n",
    "\n",
    "### Methods that scale with computation are the future of AI\n",
    "\n",
    "- e.g. learning and search\n",
    "\n",
    "    - general-purpose methods\n",
    "    \n",
    "- One of the oldest questions in AI has been answered!\n",
    "    - \"weak\" general-purpose methods are better than \"strong\" methods (utilizing human insight)\n",
    "    \n",
    "    - Supervised learning and model-free RL methods are only weakly scalable.\n",
    "    \n",
    "### Prediction learning is scalable\n",
    "\n",
    "- It's the unsupervised supervised learning\n",
    "    \n",
    "    - we have a target (just by waiting)\n",
    "    - Yet no human labeling is needed!\n",
    "    \n",
    "- Prediction learning is the scalable model-free learning\n",
    "\n",
    "### Temporal-difference learning is a method for learning to predict\n",
    "\n",
    "- Widely used in RL to predict future reward (value functions)\n",
    "\n",
    "- Key to Q-learning, SARSE, TD($\\lambda$), Deep Q network, TD-Gammon, actor-critic methods, Samuel's checker player\n",
    "\n",
    "    - But not AlphaGo, helicopter autopilots, pure policy-based methods\n",
    "    \n",
    "- Appears to be how brain reward systems work\n",
    "\n",
    "- Can be used to predict any signal, not just reward\n",
    "\n",
    "### TD learning is learning a prediction from another, later, learned prediction\n",
    "\n",
    "- i.e. learning a guess from a guess\n",
    "\n",
    "- The TD error is the difference between the two predictions, the temporal difference\n",
    "\n",
    "- Otherwise TD learning is the same as supervised learning, backpropagating the error\n",
    "\n",
    "### TD learning is relevant only on multi-step prediction problems\n",
    "\n",
    "- Only when the thing predicted is multiple steps in the future\n",
    "\n",
    "    - with information about it possibly revealed on each step\n",
    "    \n",
    "- In other words, everything other than the classical supervised learning setup\n",
    "\n",
    "### Example of multi-step prediction\n",
    "\n",
    "- Predicting the outcome of a game, like chess or backgammon\n",
    "\n",
    "- Predicting what a stock-market index will be at the end of the year, or in six months\n",
    "\n",
    "- Predicting who will be the next US president\n",
    "\n",
    "- Predicting who the US will next go to war against\n",
    "\n",
    "    - or how many US soldiers will be killed during a president's term\n",
    "    \n",
    "- Predicting a sensory observation, in 10 steps, in roughly 10 steps, or when something else happens\n",
    "\n",
    "- Predicting discounted cumulative reward conditional on behavior\n",
    "\n",
    "### Do we need to think about multi-step predictions?\n",
    "\n",
    "- Can't we just think of the multi-step as one big step, and then use one-step methods?\n",
    "\n",
    "- Can't we just learn one-step predictions, and then iterate them (compose them) to produce multi-step predictions when needed?\n",
    "\n",
    "- No, we really can't (and shouldn't want to)\n",
    "\n",
    "### The one-step trap (Thing that one-step predictions are sufficient)\n",
    "\n",
    "- That is, at each step predict the state and observation one step later\n",
    "\n",
    "- Any long-term prediction can then be made by simulation\n",
    "\n",
    "- In theory this works, but not in practice\n",
    "\n",
    "    - Making long-term predictions by simulation is exponentially complex\n",
    "    \n",
    "    - And amplifies even small errors in the one-step predictions\n",
    "    \n",
    "- Falling into this trap is very common: POMDPs, Bayesians, control theory, compression enthusiasts.\n",
    "\n",
    "### Can't we just use our familiar one-step supervised-learning methods? \n",
    "\n",
    "- Can't we just wait until the target is known, then use a one-step mehtod? (reduce to input-output pairs)\n",
    "\n",
    "    - E.g. wait until the end of the game, then regress to the outcome\n",
    "    \n",
    "- No, not really; there are significant computational costs to this\n",
    "\n",
    "    - memory scales with the span (# steps) of the prediction\n",
    "    \n",
    "    - Computation is poorly distributed over time\n",
    "    \n",
    "- These can be avoided with learning methods specialized for multi-step\n",
    "\n",
    "- Also, sometimes the target is never known (off-policy)\n",
    "\n",
    "- We should not ignore these things; they are not nuisances, they are clues, hits from nature.\n",
    "\n",
    "### TD learning is a uniquely important kind of learning, maybe ubiquitous\n",
    "\n",
    "- It is learning to predict, perhaps the only scalable kind of learning\n",
    "\n",
    "- It is learning specialized for general, multi-step prediction, which may be key to perception, meaning, and modeling the world\n",
    "\n",
    "- It takes advantage of the state property\n",
    "\n",
    "    - Which makes it fast, data efficient\n",
    "    - Which also makes it asymptotically biased\n",
    "- It is computationally congenia!\n",
    "- We have just begun to use it for things other than reward."
   ]
  },
  {
   "cell_type": "markdown",
   "metadata": {},
   "source": [
    "## The advantages of temporal difference learning\n",
    "\n",
    "- It does not require a model of the environment\n",
    "\n",
    "- Online and incremental\n",
    "\n",
    "- Converge faster than MC methods"
   ]
  },
  {
   "cell_type": "markdown",
   "metadata": {},
   "source": [
    "## Policy Evaluation in Cliff Walking Environment\n",
    "\n",
    "In this assignment, you will implement one of the fundamental sample and bootstrapping based model free reinforcement learning agents for prediction. This is namely one that uses one-step temporal difference learning, also known as TD(0). The task is to design an agent for policy evaluation in the Cliff Walking environment. Recall that policy evaluation is the prediction problem where the goal is to accurately estimate the values of states given some policy.\n",
    "\n",
    "### Learning Objectives\n",
    "- Implement parts of the Cliff Walking environment, to get experience specifying MDPs [Section 1].\n",
    "- Implement an agent that uses bootstrapping and, particularly, TD(0) [Section 2].\n",
    "- Apply TD(0) to estimate value functions for different policies, i.e., run policy evaluation experiments [Section 3]."
   ]
  },
  {
   "cell_type": "markdown",
   "metadata": {},
   "source": [
    "### The Cliff Walking Environment\n",
    "\n",
    "The Cliff Walking environment is a gridworld with a discrete state space and discrete action space. The agent starts at grid cell S. The agent can move (deterministically) to the four neighboring cells by taking actions Up, Down, Left or Right. Trying to move out of the boundary results in staying in the same location. So, for example, trying to move left when at a cell on the leftmost column results in no movement at all and the agent remains in the same location. The agent receives -1 reward per step in most states, and -100 reward when falling off of the cliff. This is an episodic task; termination occurs when the agent reaches the goal grid cell G. Falling off of the cliff results in resetting to the start state, without termination.\n",
    "\n",
    "The diagram below showcases the description above and also illustrates two of the policies we will be evaluating.\n",
    "\n",
    "<img src=\"image/cliffwalk.png\" style=\"height:400px\">"
   ]
  },
  {
   "cell_type": "code",
   "execution_count": 2,
   "metadata": {},
   "outputs": [],
   "source": [
    "import jdc\n",
    "import numpy as np\n",
    "from rl_glue import RLGlue\n",
    "from Agent import BaseAgent \n",
    "from Environment import BaseEnvironment  \n",
    "from manager import Manager\n",
    "from itertools import product\n",
    "from tqdm import tqdm"
   ]
  },
  {
   "cell_type": "markdown",
   "metadata": {},
   "source": [
    "### Section 1. Environment\n",
    "\n",
    "In the first part of this assignment, you will get to see how the Cliff Walking environment is implemented. You will also get to implement parts of it to aid your understanding of the environment and more generally how MDPs are specified. In particular, you will implement the logic for:\n",
    " 1. Converting 2-dimensional coordinates to a single index for the state,\n",
    " 2. One of the actions (action up), and,\n",
    " 3. Reward and termination.\n",
    " \n",
    "Given below is an annotated diagram of the environment with more details that may help in completing the tasks of this part of the assignment. Note that we will be creating a more general environment where the height and width positions can be variable but the start, goal and cliff grid cells have the same relative positions (bottom left, bottom right and the cells between the start and goal grid cells respectively).\n",
    "\n",
    "<img src=\"image/cliffwalk-annotated.png\" style=\"height:400px\">\n",
    "\n",
    "Once you have gone through the code and begun implementing solutions, it may be a good idea to come back here and see if you can convince yourself that the diagram above is an accurate representation of the code given and the code you have written."
   ]
  },
  {
   "cell_type": "code",
   "execution_count": 3,
   "metadata": {},
   "outputs": [],
   "source": [
    "# Create empty CliffWalkEnvironment class.\n",
    "# These methods will be filled in later cells.\n",
    "class CliffWalkEnvironment(BaseEnvironment):\n",
    "    def env_init(self, agent_info={}):\n",
    "        raise NotImplementedError\n",
    "\n",
    "    def env_start(self, state):\n",
    "        raise NotImplementedError\n",
    "\n",
    "    def env_step(self, reward, state):\n",
    "        raise NotImplementedError\n",
    "\n",
    "    def env_end(self, reward):\n",
    "        raise NotImplementedError\n",
    "        \n",
    "    def env_cleanup(self, reward):\n",
    "        raise NotImplementedError\n",
    "    \n",
    "    # helper method\n",
    "    def state(self, loc):\n",
    "        raise NotImplementedError"
   ]
  },
  {
   "cell_type": "markdown",
   "metadata": {},
   "source": [
    "### env_init()\n",
    "\n",
    "The first function we add to the environment is the initialization function which is called once when an environment object is created. In this function, the grid dimensions and special locations (start and goal locations and the cliff locations) are stored for easy use later."
   ]
  },
  {
   "cell_type": "code",
   "execution_count": 4,
   "metadata": {},
   "outputs": [],
   "source": [
    "%%add_to CliffWalkEnvironment\n",
    "\n",
    "def env_init(self, env_info={}):\n",
    "        \"\"\"Setup for the environment called when the experiment first starts.\n",
    "        Note:\n",
    "            Initialize a tuple with the reward, first state, boolean\n",
    "            indicating if it's terminal.\n",
    "        \"\"\"\n",
    "        \n",
    "        # Note, we can setup the following variables later, in env_start() as it is equivalent. \n",
    "        # Code is left here to adhere to the note above, but these variables are initialized once more\n",
    "        # in env_start() [See the env_start() function below.]\n",
    "        \n",
    "        reward = None\n",
    "        state = None # See Aside\n",
    "        termination = None\n",
    "        self.reward_state_term = (reward, state, termination)\n",
    "        \n",
    "        # AN ASIDE: Observation is a general term used in the RL-Glue files that can be interachangeably \n",
    "        # used with the term \"state\" for our purposes and for this assignment in particular. \n",
    "        # A difference arises in the use of the terms when we have what is called Partial Observability where \n",
    "        # the environment may return states that may not fully represent all the information needed to \n",
    "        # predict values or make decisions (i.e., the environment is non-Markovian.)\n",
    "        \n",
    "        # Set the default height to 4 and width to 12 (as in the diagram given above)\n",
    "        self.grid_h = env_info.get(\"grid_height\", 4) \n",
    "        self.grid_w = env_info.get(\"grid_width\", 12)\n",
    "        \n",
    "        # Now, we can define a frame of reference. Let positive x be towards the direction down and \n",
    "        # positive y be towards the direction right (following the row-major NumPy convention.)\n",
    "        # Then, keeping with the usual convention that arrays are 0-indexed, max x is then grid_h - 1 \n",
    "        # and max y is then grid_w - 1. So, we have:\n",
    "        # Starting location of agent is the bottom-left corner, (max x, min y). \n",
    "        self.start_loc = (self.grid_h - 1, 0)\n",
    "        # Goal location is the bottom-right corner. (max x, max y).\n",
    "        self.goal_loc = (self.grid_h - 1, self.grid_w - 1)\n",
    "        \n",
    "        # The cliff will contain all the cells between the start_loc and goal_loc.\n",
    "        self.cliff = [(self.grid_h - 1, i) for i in range(1, (self.grid_w - 1))]\n",
    "        \n",
    "        # Take a look at the annotated environment diagram given in the above Jupyter Notebook cell to \n",
    "        # verify that your understanding of the above code is correct for the default case, i.e., where \n",
    "        # height = 4 and width = 12."
   ]
  },
  {
   "cell_type": "markdown",
   "metadata": {},
   "source": [
    "## state()\n",
    "    \n",
    "The agent location can be described as a two-tuple or coordinate (x, y) describing the agentâ€™s position. \n",
    "However, we can convert the (x, y) tuple into a single index and provide agents with just this integer.\n",
    "One reason for this choice is that the spatial aspect of the problem is secondary and there is no need \n",
    "for the agent to know about the exact dimensions of the environment. \n",
    "From the agentâ€™s viewpoint, it is just perceiving some states, accessing their corresponding values \n",
    "in a table, and updating them. Both the coordinate (x, y) state representation and the converted coordinate representation are thus equivalent in this sense.\n",
    "\n",
    "Given a grid cell location, the state() function should return the state; a single index corresponding to the location in the grid.\n",
    "\n",
    "\n",
    "```\n",
    "Example: Suppose grid_h is 2 and grid_w is 2. Then, we can write the grid cell two-tuple or coordinate\n",
    "states as follows (following the usual 0-index convention):\n",
    "|(0, 0) (0, 1)| |0 1|\n",
    "|(1, 0) (1, 1)| |2 3|\n",
    "Assuming row-major order as NumPy does,  we can flatten the latter to get a vector [0 1 2 3].\n",
    "So, if loc = (0, 0) we return 0. While, for loc = (1, 1) we return 3.\n",
    "```"
   ]
  },
  {
   "cell_type": "code",
   "execution_count": 5,
   "metadata": {},
   "outputs": [],
   "source": [
    "%%add_to CliffWalkEnvironment\n",
    "\n",
    "# Modify the return statement of this function to return a correct single index as \n",
    "# the state (see the logic for this in the previous cell.)\n",
    "def state(self, loc):\n",
    "    w, h = loc\n",
    "    return h + self.grid_w * w"
   ]
  },
  {
   "cell_type": "code",
   "execution_count": 6,
   "metadata": {},
   "outputs": [],
   "source": [
    "np.random.seed(0)\n",
    "\n",
    "env = CliffWalkEnvironment()\n",
    "for n in range(100):\n",
    "    # make a gridworld of random size and shape\n",
    "    height = np.random.randint(2, 100)\n",
    "    width = np.random.randint(2, 100)\n",
    "    env.env_init({ \"grid_height\": height, \"grid_width\": width })\n",
    "    \n",
    "    # generate some random coordinates within the grid\n",
    "    idx_h = np.random.randint(height)\n",
    "    idx_w = np.random.randint(width)\n",
    "    \n",
    "    # check that the state index is correct\n",
    "    state = env.state((idx_h, idx_w))\n",
    "    correct_state = width * idx_h + idx_w\n",
    "    \n",
    "    assert state == correct_state"
   ]
  },
  {
   "cell_type": "markdown",
   "metadata": {},
   "source": [
    "### env_start()\n",
    "\n",
    "In env_start(), we initialize the agent location to be the start location and return the state corresponding to it as the first state for the agent to act upon. Additionally, we also set the reward and termination terms to be 0 and False respectively as they are consistent with the notion that there is no reward nor termination before the first action is even taken."
   ]
  },
  {
   "cell_type": "code",
   "execution_count": 7,
   "metadata": {},
   "outputs": [],
   "source": [
    "%%add_to CliffWalkEnvironment\n",
    "\n",
    "def env_start(self):\n",
    "    \"\"\"The first method called when the episode starts, called before the\n",
    "    agent starts.\n",
    "\n",
    "    Returns:\n",
    "        The first state from the environment.\n",
    "    \"\"\"\n",
    "    reward = 0\n",
    "    # agent_loc will hold the current location of the agent\n",
    "    self.agent_loc = self.start_loc\n",
    "    # state is the one dimensional state representation of the agent location.\n",
    "    state = self.state(self.agent_loc)\n",
    "    termination = False\n",
    "    self.reward_state_term = (reward, state, termination)\n",
    "\n",
    "    return self.reward_state_term[1]"
   ]
  },
  {
   "cell_type": "markdown",
   "metadata": {},
   "source": [
    "### env_step()\n",
    "\n",
    "Once an action is taken by the agent, the environment must provide a new state, reward and termination signal. \n",
    "\n",
    "In the Cliff Walking environment, agents move around using a 4-cell neighborhood called the Von Neumann neighborhood (https://en.wikipedia.org/wiki/Von_Neumann_neighborhood). Thus, the agent has 4 available actions at each state. Three of the actions have been implemented for you and your first task is to implement the logic for the fourth action (Action UP).\n",
    "\n",
    "Your second task for this function is to implement the reward logic. Look over the environment description given earlier in this notebook if you need a refresher for how the reward signal is defined."
   ]
  },
  {
   "cell_type": "code",
   "execution_count": 8,
   "metadata": {},
   "outputs": [],
   "source": [
    "%%add_to CliffWalkEnvironment\n",
    "def isInBounds(x, y, width, height):\n",
    "    # your code here\n",
    "    return (0 <= x < height) and (0<= y < width)\n",
    "\n",
    "# Fill in the code for action UP and implement the logic for reward and termination.\n",
    "def env_step(self, action):\n",
    "    \"\"\"A step taken by the environment.\n",
    "\n",
    "    Args:\n",
    "        action: The action taken by the agent\n",
    "\n",
    "    Returns:\n",
    "        (float, state, Boolean): a tuple of the reward, state,\n",
    "            and boolean indicating if it's terminal.\n",
    "    \"\"\"\n",
    "    \n",
    "    x, y = self.agent_loc\n",
    "\n",
    "    # UP\n",
    "    if action == 0:\n",
    "        # Hint: Look at the code given for the other actions and think about the logic in them.\n",
    "        x = x - 1\n",
    "        \n",
    "        \n",
    "    # LEFT\n",
    "    elif action == 1:\n",
    "        y = y - 1\n",
    "        \n",
    "    # DOWN\n",
    "    elif action == 2:\n",
    "        x = x + 1\n",
    "        \n",
    "    # RIGHT\n",
    "    elif action == 3:\n",
    "        y = y + 1\n",
    "        \n",
    "    # Uh-oh\n",
    "    else: \n",
    "        raise Exception(str(action) + \" not in recognized actions [0: Up, 1: Left, 2: Down, 3: Right]!\")\n",
    "\n",
    "    # if the action takes the agent out-of-bounds\n",
    "    # then the agent stays in the same state\n",
    "    if not isInBounds(x, y, self.grid_w, self.grid_h):\n",
    "        x, y = self.agent_loc\n",
    "        \n",
    "    # assign the new location to the environment object\n",
    "    self.agent_loc = (x, y)\n",
    "    \n",
    "    # by default, assume -1 reward per step and that we did not terminate\n",
    "    reward = -1\n",
    "    terminal = False\n",
    "    \n",
    "    # assign the reward and terminal variables \n",
    "    # - if the agent falls off the cliff (don't forget to reset agent location!)\n",
    "    # - if the agent reaches the goal state\n",
    "    if (self.agent_loc[0] == self.grid_h - 1) and (self.agent_loc[1] >= 1 and self.agent_loc[1] <= self.grid_w - 2):\n",
    "        reward = -100\n",
    "        self.agent_loc = self.start_loc\n",
    "    elif (self.agent_loc[0] == self.grid_h - 1) and (self.agent_loc[1] == self.grid_w - 1):\n",
    "        terminal = True\n",
    "    \n",
    "    self.reward_state_term = (reward, self.state(self.agent_loc), terminal)\n",
    "    return self.reward_state_term"
   ]
  },
  {
   "cell_type": "code",
   "execution_count": 9,
   "metadata": {},
   "outputs": [],
   "source": [
    "np.random.seed(0)\n",
    "\n",
    "env = CliffWalkEnvironment()\n",
    "for n in range(100):\n",
    "    # create a cliff world of random size\n",
    "    height = np.random.randint(2, 100)\n",
    "    width = np.random.randint(2, 100)\n",
    "    env.env_init({\"grid_height\": height, \"grid_width\": width})\n",
    "    \n",
    "    # start the agent in a random location\n",
    "    idx_h = 0 if np.random.random() < 0.5 else np.random.randint(height)\n",
    "    idx_w = np.random.randint(width)\n",
    "    env.agent_loc = (idx_h, idx_w)\n",
    "    \n",
    "    env.env_step(0)\n",
    "    assert(env.agent_loc == (0 if idx_h == 0 else idx_h - 1, idx_w))"
   ]
  },
  {
   "cell_type": "code",
   "execution_count": 10,
   "metadata": {},
   "outputs": [],
   "source": [
    "np.random.seed(0)\n",
    "\n",
    "env = CliffWalkEnvironment()\n",
    "for n in range(100):\n",
    "    # create a cliff world of random size\n",
    "    height = np.random.randint(4, 10)\n",
    "    width = np.random.randint(4, 10)\n",
    "    env.env_init({\"grid_height\": height, \"grid_width\": width})\n",
    "    env.env_start()\n",
    "    \n",
    "    # start the agent near the cliff\n",
    "    idx_h = height - 2\n",
    "    idx_w = np.random.randint(1, width - 2)\n",
    "    env.agent_loc = (idx_h, idx_w)\n",
    "    \n",
    "    r, sp, term = env.env_step(2)\n",
    "    assert(r == -100 and sp == (height - 1) * width and term == False)\n",
    "\n",
    "for n in range(100):\n",
    "    # create a cliff world of random size\n",
    "    height = np.random.randint(4, 10)\n",
    "    width = np.random.randint(4, 10)\n",
    "    env.env_init({\"grid_height\": height, \"grid_width\": width})\n",
    "    env.env_start()\n",
    "    \n",
    "    # start the agent near the goal\n",
    "    idx_h = height - 2\n",
    "    idx_w = width - 1\n",
    "    env.agent_loc = (idx_h, idx_w)\n",
    "    \n",
    "    r, sp, term = env.env_step(2)\n",
    "    assert(r == -1 and sp == (height - 1) * width + (width - 1) and term == True)\n",
    "\n",
    "for n in range(100):\n",
    "    # create a cliff world of random size\n",
    "    height = np.random.randint(4, 10)\n",
    "    width = np.random.randint(4, 10)\n",
    "    env.env_init({\"grid_height\": height, \"grid_width\": width})\n",
    "    env.env_start()\n",
    "    \n",
    "    # start the agent in a random location\n",
    "    idx_h = np.random.randint(0, height - 3)\n",
    "    idx_w = np.random.randint(0, width - 1)\n",
    "    env.agent_loc = (idx_h, idx_w)\n",
    "    \n",
    "    r, sp, term = env.env_step(2)\n",
    "    assert(r == -1 and term == False)"
   ]
  },
  {
   "cell_type": "markdown",
   "metadata": {},
   "source": [
    "### env_cleanup()\n",
    "\n",
    "There is not much cleanup to do for the Cliff Walking environment. Here, we simply reset the agent location to be the start location in this function."
   ]
  },
  {
   "cell_type": "code",
   "execution_count": 11,
   "metadata": {},
   "outputs": [],
   "source": [
    "%%add_to CliffWalkEnvironment\n",
    "\n",
    "def env_cleanup(self):\n",
    "    \"\"\"Cleanup done after the environment ends\"\"\"\n",
    "    self.agent_loc = self.start_loc"
   ]
  },
  {
   "cell_type": "markdown",
   "metadata": {},
   "source": [
    "### Section 2. Agent\n",
    "\n",
    "In this second part of the assignment, you will be implementing the key updates for Temporal Difference Learning. There are two cases to consider depending on whether an action leads to a terminal state or not."
   ]
  },
  {
   "cell_type": "code",
   "execution_count": 12,
   "metadata": {},
   "outputs": [],
   "source": [
    "# Create empty TDAgent class.\n",
    "# These methods will be filled in later cells.\n",
    "\n",
    "class TDAgent(BaseAgent):\n",
    "    def agent_init(self, agent_info={}):\n",
    "        raise NotImplementedError\n",
    "        \n",
    "    def agent_start(self, state):\n",
    "        raise NotImplementedError\n",
    "\n",
    "    def agent_step(self, reward, state):\n",
    "        raise NotImplementedError\n",
    "\n",
    "    def agent_end(self, reward):\n",
    "        raise NotImplementedError\n",
    "\n",
    "    def agent_cleanup(self):        \n",
    "        raise NotImplementedError\n",
    "        \n",
    "    def agent_message(self, message):\n",
    "        raise NotImplementedError"
   ]
  },
  {
   "cell_type": "markdown",
   "metadata": {},
   "source": [
    "### agent_init()\n",
    "\n",
    "As we did with the environment, we first initialize the agent once when a TDAgent object is created. In this function, we create a random number generator, seeded with the seed provided in the agent_info dictionary to get reproducible results. We also set the policy, discount and step size based on the agent_info dictionary. Finally, with a convention that the policy is always specified as a mapping from states to actions and so is an array of size (# States, # Actions), we initialize a values array of shape (# States,) to zeros."
   ]
  },
  {
   "cell_type": "code",
   "execution_count": 13,
   "metadata": {},
   "outputs": [],
   "source": [
    "%%add_to TDAgent\n",
    "\n",
    "def agent_init(self, agent_info={}):\n",
    "    \"\"\"Setup for the agent called when the experiment first starts.\"\"\"\n",
    "\n",
    "    # Create a random number generator with the provided seed to seed the agent for reproducibility.\n",
    "    self.rand_generator = np.random.RandomState(agent_info.get(\"seed\"))\n",
    "\n",
    "    # Policy will be given, recall that the goal is to accurately estimate its corresponding value function. \n",
    "    self.policy = agent_info.get(\"policy\")\n",
    "    # Discount factor (gamma) to use in the updates.\n",
    "    self.discount = agent_info.get(\"discount\")\n",
    "    # The learning rate or step size parameter (alpha) to use in updates.\n",
    "    self.step_size = agent_info.get(\"step_size\")\n",
    "\n",
    "    # Initialize an array of zeros that will hold the values.\n",
    "    # Recall that the policy can be represented as a (# States, # Actions) array. With the \n",
    "    # assumption that this is the case, we can use the first dimension of the policy to\n",
    "    # initialize the array for values.\n",
    "    self.values = np.zeros((self.policy.shape[0],))"
   ]
  },
  {
   "cell_type": "markdown",
   "metadata": {},
   "source": [
    "### agent_start()\n",
    "\n",
    "In agent_start(), we choose an action based on the initial state and policy we are evaluating. We also cache the state so that we can later update its value when we perform a Temporal Difference update. Finally, we return the action chosen so that the RL loop can continue and the environment can execute this action."
   ]
  },
  {
   "cell_type": "code",
   "execution_count": 14,
   "metadata": {},
   "outputs": [],
   "source": [
    "%%add_to TDAgent\n",
    "\n",
    "def agent_start(self, state):\n",
    "    \"\"\"The first method called when the episode starts, called after\n",
    "    the environment starts.\n",
    "    Args:\n",
    "        state (Numpy array): the state from the environment's env_start function.\n",
    "    Returns:\n",
    "        The first action the agent takes.\n",
    "    \"\"\"\n",
    "    # The policy can be represented as a (# States, # Actions) array. So, we can use \n",
    "    # the second dimension here when choosing an action.\n",
    "    action = self.rand_generator.choice(range(self.policy.shape[1]), p=self.policy[state])\n",
    "    self.last_state = state\n",
    "    return action"
   ]
  },
  {
   "cell_type": "markdown",
   "metadata": {},
   "source": [
    "### agent_step()\n",
    "\n",
    "In agent_step(), the agent must:\n",
    "\n",
    "- Perform an update to improve the value estimate of the previously visited state, and\n",
    "- Act based on the state provided by the environment.\n",
    "\n",
    "The latter of the two steps above has been implemented for you. Implement the former. Note that, unlike later in agent_end(), the episode has not yet ended in agent_step(). in other words, the previously observed state was not a terminal state."
   ]
  },
  {
   "cell_type": "code",
   "execution_count": 15,
   "metadata": {},
   "outputs": [],
   "source": [
    "%%add_to TDAgent\n",
    "def agent_step(self, reward, state):\n",
    "    \"\"\"A step taken by the agent.\n",
    "    Args:\n",
    "        reward (float): the reward received for taking the last action taken\n",
    "        state (Numpy array): the state from the\n",
    "            environment's step after the last action, i.e., where the agent ended up after the\n",
    "            last action\n",
    "    Returns:\n",
    "        The action the agent is taking.\n",
    "    \"\"\"\n",
    "    \n",
    "    # Hint: We should perform an update with the last state given that we now have the reward and\n",
    "    # next state. We break this into two steps. Recall for example that the Monte-Carlo update \n",
    "    # had the form: V[S_t] = V[S_t] + alpha * (target - V[S_t]), where the target was the return, G_t.\n",
    "    target = reward + self.discount * self.values[state]\n",
    "    self.values[self.last_state] = self.values[self.last_state] + self.step_size * (target - self.values[self.last_state])\n",
    "\n",
    "    # Having updated the value for the last state, we now act based on the current \n",
    "    # state, and set the last state to be current one as we will next be making an \n",
    "    # update with it when agent_step is called next once the action we return from this function \n",
    "    # is executed in the environment.\n",
    "\n",
    "    action = self.rand_generator.choice(range(self.policy.shape[1]), p=self.policy[state])\n",
    "    self.last_state = state\n",
    "\n",
    "    return action"
   ]
  },
  {
   "cell_type": "markdown",
   "metadata": {},
   "source": [
    "### agent_end() \n",
    "\n",
    "Implement the TD update for the case where an action leads to a terminal state."
   ]
  },
  {
   "cell_type": "code",
   "execution_count": 16,
   "metadata": {},
   "outputs": [],
   "source": [
    "%%add_to TDAgent\n",
    "\n",
    "def agent_end(self, reward):\n",
    "    \"\"\"Run when the agent terminates.\n",
    "    Args:\n",
    "        reward (float): the reward the agent received for entering the terminal state.\n",
    "    \"\"\"\n",
    "    \n",
    "    # Hint: Here too, we should perform an update with the last state given that we now have the \n",
    "    # reward. Note that in this case, the action led to termination. Once more, we break this into \n",
    "    # two steps, computing the target and the update itself that uses the target and the \n",
    "    # current value estimate for the state whose value we are updating.\n",
    "    target = reward\n",
    "    self.values[self.last_state] = self.values[self.last_state] + \\\n",
    "                                    self.step_size * (target - self.values[self.last_state])"
   ]
  },
  {
   "cell_type": "markdown",
   "metadata": {},
   "source": [
    "### agent_cleanup()\n",
    "\n",
    "In cleanup, we simply reset the last state to be None to ensure that we are not storing any states past an episode."
   ]
  },
  {
   "cell_type": "code",
   "execution_count": 17,
   "metadata": {},
   "outputs": [],
   "source": [
    "%%add_to TDAgent\n",
    "\n",
    "def agent_cleanup(self):\n",
    "    \"\"\"Cleanup done after the agent ends.\"\"\"\n",
    "    self.last_state = None"
   ]
  },
  {
   "cell_type": "markdown",
   "metadata": {},
   "source": [
    "### agent_message()\n",
    "\n",
    "agent_message() can generally be used to get different kinds of information about an RLGlue agent in the interaction loop of RLGlue. Here, we conditonally check for a message matching \"get_values\" and use it to retrieve the values table the agent has been updating over time."
   ]
  },
  {
   "cell_type": "code",
   "execution_count": 18,
   "metadata": {},
   "outputs": [],
   "source": [
    "%%add_to TDAgent\n",
    "def agent_message(self, message):\n",
    "    \"\"\"A function used to pass information from the agent to the experiment.\n",
    "    Args:\n",
    "        message: The message passed to the agent.\n",
    "    Returns:\n",
    "        The response (or answer) to the message.\n",
    "    \"\"\"\n",
    "    if message == \"get_values\":\n",
    "        return self.values\n",
    "    else:\n",
    "        raise Exception(\"TDAgent.agent_message(): Message not understood!\")"
   ]
  },
  {
   "cell_type": "code",
   "execution_count": 19,
   "metadata": {},
   "outputs": [],
   "source": [
    "agent = TDAgent()\n",
    "policy_list = [np.random.dirichlet(np.ones(10), size=1).squeeze() for _ in range(100)]\n",
    "\n",
    "for n in range(100):\n",
    "    gamma = np.random.random()\n",
    "    alpha = np.random.random()\n",
    "    agent.agent_init({\"policy\": np.array(policy_list), \"discount\": gamma, \"step_size\": alpha})\n",
    "    agent.values = np.random.randn(*agent.values.shape)\n",
    "    state = np.random.randint(100)\n",
    "    agent.agent_start(state)\n",
    "    \n",
    "    for _ in range(100):\n",
    "        prev_agent_vals = agent.values.copy()\n",
    "        reward = np.random.random()\n",
    "        if np.random.random() > 0.1:\n",
    "            next_state = np.random.randint(100)\n",
    "            agent.agent_step(reward, next_state)\n",
    "            prev_agent_vals[state] = prev_agent_vals[state] + alpha * (reward + gamma * prev_agent_vals[next_state] - prev_agent_vals[state])\n",
    "            assert(np.allclose(prev_agent_vals, agent.values))\n",
    "            state = next_state\n",
    "        else:\n",
    "            agent.agent_end(reward)\n",
    "            prev_agent_vals[state] = prev_agent_vals[state] + alpha * (reward - prev_agent_vals[state])\n",
    "            assert(np.allclose(prev_agent_vals, agent.values))\n",
    "            break"
   ]
  },
  {
   "cell_type": "markdown",
   "metadata": {},
   "source": [
    "### Section 3. Policy Evaluation Experiments\n",
    "\n",
    "Finally, in this last part of the assignment, you will get to see the TD policy evaluation algorithm in action by looking at the estimated values, the per state value error and after the experiment is complete, the Mean Squared Value Error curve vs. episode number, summarizing how the value error changed over time.\n",
    "\n",
    "The code below runs one run of an experiment given env_info and agent_info dictionaries. A \"manager\" object is created for visualizations and is used in part for the autograder. By default, the run will be for 5000 episodes. The true_values_file is specified to compare the learned value function with the values stored in the true_values_file. Plotting of the learned value  function occurs by default after every 100 episodes. In addition, when true_values_file is specified, the value error per state and the root mean square value error will also be plotted."
   ]
  },
  {
   "cell_type": "code",
   "execution_count": 20,
   "metadata": {},
   "outputs": [],
   "source": [
    "def run_experiment(env_info, agent_info,num_episodes=5000, experiment_name=None, plot_freq=100, true_values_file=None, value_error_threshold=1e-8):\n",
    "    env = CliffWalkEnvironment\n",
    "    agent = TDAgent\n",
    "    rl_glue = RLGlue(env, agent)\n",
    "\n",
    "    rl_glue.rl_init(agent_info, env_info)\n",
    "\n",
    "    manager = Manager(env_info, agent_info, true_values_file=true_values_file, experiment_name=experiment_name)\n",
    "    for episode in range(1, num_episodes + 1):\n",
    "        rl_glue.rl_episode(0) # no step limit\n",
    "        if episode % plot_freq == 0:\n",
    "            values = rl_glue.agent.agent_message(\"get_values\")\n",
    "            manager.visualize(values, episode)\n",
    "\n",
    "    values = rl_glue.agent.agent_message(\"get_values\")\n",
    "    return values"
   ]
  },
  {
   "cell_type": "markdown",
   "metadata": {},
   "source": [
    "The cell below just runs a policy evaluation experiment with the determinstic optimal policy that strides just above the cliff. You should observe that the per state value error and RMSVE curve asymptotically go towards 0. The arrows in the four directions denote the probabilities of taking each action. This experiment is ungraded but should serve as a good test for the later experiments. The true values file provided for this experiment may help with debugging as well."
   ]
  },
  {
   "cell_type": "code",
   "execution_count": 22,
   "metadata": {},
   "outputs": [
    {
     "data": {
      "image/png": "[encoded data removed]",
      "text/plain": [
       "<Figure size 720x1440 with 5 Axes>"
      ]
     },
     "metadata": {
      "needs_background": "light"
     },
     "output_type": "display_data"
    }
   ],
   "source": [
    "env_info = {\"grid_height\": 4, \"grid_width\": 12, \"seed\": 0}\n",
    "agent_info = {\"discount\": 1, \"step_size\": 0.01, \"seed\": 0}\n",
    "\n",
    "# The Optimal Policy that strides just along the cliff\n",
    "policy = np.ones(shape=(env_info['grid_width'] * env_info['grid_height'], 4)) * 0.25\n",
    "policy[36] = [1, 0, 0, 0]\n",
    "for i in range(24, 35):\n",
    "    policy[i] = [0, 0, 0, 1]\n",
    "policy[35] = [0, 0, 1, 0]\n",
    "\n",
    "agent_info.update({\"policy\": policy})\n",
    "\n",
    "true_values_file = \"optimal_policy_value_fn.npy\"\n",
    "_ = run_experiment(env_info, agent_info, num_episodes=5000, experiment_name=\"Policy Evaluation on Optimal Policy\",\n",
    "                   plot_freq=500, true_values_file=true_values_file)"
   ]
  },
  {
   "cell_type": "code",
   "execution_count": 23,
   "metadata": {},
   "outputs": [],
   "source": [
    "# The Safe Policy\n",
    "# Hint: Fill in the array below (as done in the previous cell) based on the safe policy illustration \n",
    "# in the environment diagram. This is the policy that strides as far as possible away from the cliff. \n",
    "# We call it a \"safe\" policy because if the environment has any stochasticity, this policy would do a good job in \n",
    "# keeping the agent from falling into the cliff (in contrast to the optimal policy shown before). \n",
    "\n",
    "# build a uniform random policy\n",
    "policy = np.ones(shape=(env_info['grid_width'] * env_info['grid_height'], 4)) * 0.25\n",
    "\n",
    "# build an example environment\n",
    "env = CliffWalkEnvironment()\n",
    "env.env_init(env_info)\n",
    "\n",
    "# modify the uniform random policy\n",
    "w = env_info['grid_width']\n",
    "h = env_info['grid_height']\n",
    "\n",
    "for x in range(1, h):\n",
    "    s = env.state((x, 0))\n",
    "    policy[s] = [1, 0, 0, 0]\n",
    "    \n",
    "for y in range(w - 1):\n",
    "    s = env.state((0, y))\n",
    "    policy[s] = [0, 0, 0, 1]\n",
    "    \n",
    "for x in range(h):\n",
    "    s = env.state((x, w - 1))\n",
    "    policy[s] = [0, 0, 1, 0]"
   ]
  },
  {
   "cell_type": "code",
   "execution_count": 25,
   "metadata": {},
   "outputs": [
    {
     "data": {
      "image/png": "[encoded data removed]",
      "text/plain": [
       "<Figure size 720x1440 with 2 Axes>"
      ]
     },
     "metadata": {
      "needs_background": "light"
     },
     "output_type": "display_data"
    }
   ],
   "source": [
    "agent_info.update({\"policy\": policy})\n",
    "_ = run_experiment(env_info, agent_info, experiment_name=\"Policy Evaluation On Safe Policy\", num_episodes=5000, plot_freq=500)"
   ]
  },
  {
   "cell_type": "code",
   "execution_count": 26,
   "metadata": {},
   "outputs": [],
   "source": [
    "# A Near Optimal Stochastic Policy\n",
    "# Now, we try a stochastic policy that deviates a little from the optimal policy seen above. \n",
    "# This means we can get different results due to randomness.\n",
    "# We will thus average the value function estimates we get over multiple runs. \n",
    "# This can take some time, upto about 5 minutes from previous testing. \n",
    "# NOTE: The autograder will compare . Re-run this cell upon making any changes.\n",
    "\n",
    "env_info = {\"grid_height\": 4, \"grid_width\": 12}\n",
    "agent_info = {\"discount\": 1, \"step_size\": 0.01}\n",
    "\n",
    "policy = np.ones(shape=(env_info['grid_width'] * env_info['grid_height'], 4)) * 0.25\n",
    "policy[36] = [0.9, 0.1/3., 0.1/3., 0.1/3.]\n",
    "for i in range(24, 35):\n",
    "    policy[i] = [0.1/3., 0.1/3., 0.1/3., 0.9]\n",
    "policy[35] = [0.1/3., 0.1/3., 0.9, 0.1/3.]\n",
    "agent_info.update({\"policy\": policy})\n",
    "agent_info.update({\"step_size\": 0.01})"
   ]
  },
  {
   "cell_type": "code",
   "execution_count": 27,
   "metadata": {},
   "outputs": [
    {
     "data": {
      "image/png": "[encoded data removed]",
      "text/plain": [
       "<Figure size 720x1440 with 2 Axes>"
      ]
     },
     "metadata": {
      "needs_background": "light"
     },
     "output_type": "display_data"
    }
   ],
   "source": [
    "env_info['seed'] = 0\n",
    "agent_info['seed'] = 0\n",
    "v = run_experiment(env_info, agent_info,\n",
    "               experiment_name=\"Policy Evaluation On Optimal Policy\",\n",
    "               num_episodes=5000, plot_freq=100)"
   ]
  },
  {
   "cell_type": "markdown",
   "metadata": {},
   "source": [
    "## Summary\n",
    "\n",
    "In this assignment, we investigated a very useful concept for sample-based online learning: temporal difference. We particularly looked at the prediction problem where the goal is to find the value function corresponding to a given policy. In the next assignment, by learning the action-value function instead of the state-value function, you will get to see how temporal difference learning can be used in control as well."
   ]
  }
 ],
 "metadata": {
  "kernelspec": {
   "display_name": "Python 3",
   "language": "python",
   "name": "python3"
  },
  "language_info": {
   "codemirror_mode": {
    "name": "ipython",
    "version": 3
   },
   "file_extension": ".py",
   "mimetype": "text/x-python",
   "name": "python",
   "nbconvert_exporter": "python",
   "pygments_lexer": "ipython3",
   "version": "3.7.6"
  }
 },
 "nbformat": 4,
 "nbformat_minor": 4
}
