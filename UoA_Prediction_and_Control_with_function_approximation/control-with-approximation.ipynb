{
 "cells": [
  {
   "cell_type": "markdown",
   "metadata": {},
   "source": [
    "# Control with Approximation\n",
    "\n",
    "> This is the summary of lecture \"Prediction and Control with Function Approximation\" from Coursera.\n",
    "\n",
    "- toc: true \n",
    "- badges: true\n",
    "- comments: true\n",
    "- author: Chanseok Kang\n",
    "- categories: [Python, Coursera, Reinforcement_Learning]\n",
    "- image: "
   ]
  },
  {
   "cell_type": "markdown",
   "metadata": {},
   "source": [
    "## Episodic SARSA with Function Approximation\n",
    "\n",
    "### State-values to action-values\n",
    "\n",
    "$$ v_{\\pi}(s) \\approx \\hat{v}(s, w) \\doteq w^Tx(s) \\\\\n",
    "q_{\\pi}(s, a) \\approx \\hat{q}(s, a, w) \\doteq w^Tx(s, a) $$\n",
    "\n",
    "### Representing actions\n",
    "\n",
    "$x(s) = \\begin{bmatrix} x_0(s) \\\\ x_1(s) \\\\ x_2(s) \\\\ x_3(s) \\end{bmatrix} \\\\ \\mathcal{A}(s) = \\{a_0, a_1, a_2\\}$\n",
    "\n",
    "$x(s, a) = \\begin{bmatrix} x_0(s) \\\\ x_1(s) \\\\ x_2(s) \\\\ x_3(s) \\\\ x_0(s) \\\\ x_1(s) \\\\ x_2(s) \\\\ x_3(s) \\\\ x_0(s) \\\\ x_1(s) \\\\ x_2(s) \\\\ x_3(s) \\end{bmatrix}$\n",
    "\n",
    "This is called **stacked features**\n",
    "\n",
    "### Episodic Semi-gradient SARSA for Estimating $\\hat{q} \\approx q_{*}$\n",
    "$\\begin{aligned}\n",
    "&\\text{Input: a differentiable action-value function parameterization } \\hat{q}: \\mathcal{s} \\times \\mathcal{A} \\times \\mathbb{R}^d \\to \\mathbb{R} \\\\\n",
    "&\\text{Algorithm paramters: step size } \\alpha > 0, \\text{ small } \\epsilon > 0 \\\\\n",
    "&\\text{Initialize value-function weights } w \\in \\mathbb{R}^d \\text{ arbitrarily (e.g., } w = 0 \\text{)} \\\\\n",
    "\\newline\n",
    "&\\text{Loop for each episode:} \\\\\n",
    "&\\quad S, A \\leftarrow \\text{ initial state and action of episode (e.g., } \\epsilon \\text{-greedy)} \\\\\n",
    "&\\quad \\text{Loop for each step of episode:} \\\\\n",
    "&\\qquad \\text{Take action } A, \\text{ observe } R, S' \\\\\n",
    "&\\qquad \\text{If } S' \\text{ is terminal:} \\\\\n",
    "&\\qquad \\quad w \\leftarrow w + \\alpha[R - \\hat{q}(S, A, w)] \\nabla \\hat{q}(S, A, w) \\\\\n",
    "&\\qquad \\quad \\text{Go to next episode} \\\\\n",
    "&\\qquad \\text{Choose } A' \\text{ as a function of } \\hat{q}(S', \\cdot, w) \\text{ (e.g., } \\epsilon \\text{-greedy)} \\\\\n",
    "&\\qquad w \\leftarrow w + \\alpha[R + \\gamma \\hat{q}(S', A', w) - \\hat{q}(S, A, w)] \\nabla \\hat{q}(S, A, w) \\\\\n",
    "&\\qquad S \\leftarrow S' \\\\\n",
    "&\\qquad A \\leftarrow A' \\\\\n",
    "\\end{aligned}$"
   ]
  },
  {
   "cell_type": "markdown",
   "metadata": {},
   "source": [
    "## Expected Sarsa with Function Approximation\n",
    "\n",
    "### From SARSA to Expected SARSA\n",
    "\n",
    "SARSA:\n",
    "\n",
    "$ Q(S_t, A_t) \\leftarrow Q(S_t, A_t) + \\alpha + \\big(R_{t+1} + \\gamma Q(S_{t+1}, A_{t+1}) - Q(S_t, A_t)\\big) $\n",
    "\n",
    "Expected SARSA:\n",
    "\n",
    "$ Q(S_t, Q_t) \\leftarrow Q(S_t, A_t) + \\alpha + \\big(R_{t+1} + \\gamma \\sum\\limits_{a'} \\pi(a' \\vert S_{t+1} ) Q(S_{t+1}, a') - Q(S_t, A_t) \\big) $\n",
    "\n",
    "### Expected SARSA with Function Approximation\n",
    "\n",
    "SARSA:\n",
    "\n",
    "$ w \\leftarrow w + \\alpha \\big(R_{t+1} + \\gamma \\hat{q}(S_{t+1}, A_{t+1}, w) - \\hat{q}(S_t, A_t, w)\\big) \\nabla \\hat{q}(S_t, A_t, w) $\n",
    "\n",
    "Expected SARSA:\n",
    "\n",
    "$ w \\leftarrow w + \\alpha \\big(R_{t+1} + \\gamma \\sum\\limits_{a'} \\pi(a' \\vert S_{t+1}) \\hat{q}(S_{t+1}, a', w) - \\hat{q}(S_t, A_t, w) \\big) \\nabla \\hat{q}(S_t, A_t, w) $\n",
    "\n",
    "### Expected SARSA to Q-learning\n",
    "\n",
    "$ w \\leftarrow w + \\alpha \\big( R_{t+1} + \\gamma \\max\\limits_{a'} \\hat{q}(S_{t+1}, a', w) - \\hat{q}(S_t, A_t, w)\\big) \\nabla \\hat{q}(S_t, A_t, w) $"
   ]
  },
  {
   "cell_type": "markdown",
   "metadata": {},
   "source": [
    "## Exploration under Function Approximation\n",
    "\n",
    "### Epsilon-Greedy\n",
    "\n",
    "![eg](image/epsilon_greedy.png)"
   ]
  },
  {
   "cell_type": "code",
   "execution_count": null,
   "metadata": {},
   "outputs": [],
   "source": []
  }
 ],
 "metadata": {
  "kernelspec": {
   "display_name": "Python 3",
   "language": "python",
   "name": "python3"
  },
  "language_info": {
   "codemirror_mode": {
    "name": "ipython",
    "version": 3
   },
   "file_extension": ".py",
   "mimetype": "text/x-python",
   "name": "python",
   "nbconvert_exporter": "python",
   "pygments_lexer": "ipython3",
   "version": "3.7.6"
  }
 },
 "nbformat": 4,
 "nbformat_minor": 4
}
