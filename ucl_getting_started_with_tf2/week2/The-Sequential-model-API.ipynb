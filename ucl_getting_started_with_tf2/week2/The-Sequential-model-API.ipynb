{
 "cells": [
  {
   "cell_type": "markdown",
   "metadata": {},
   "source": [
    "# The Sequential Model API\n",
    "\n",
    "> In this post, we will dig into the basic usage of building neural network with Tensorflow Sequential APIs.\n",
    "\n",
    "- toc: true \n",
    "- badges: true\n",
    "- comments: true\n",
    "- author: Chanseok Kang\n",
    "- categories: [Python, Deep_Learning, Tensorflow-Keras]\n",
    "- image: "
   ]
  },
  {
   "cell_type": "code",
   "execution_count": 1,
   "metadata": {},
   "outputs": [],
   "source": [
    "import numpy as np\n",
    "import pandas as pd\n",
    "import tensorflow as tf"
   ]
  },
  {
   "cell_type": "code",
   "execution_count": 2,
   "metadata": {},
   "outputs": [
    {
     "name": "stdout",
     "output_type": "stream",
     "text": [
      "NumPy: 1.18.1\n",
      "Pandas: 1.0.1\n",
      "Tensorflow: 2.3.1\n"
     ]
    }
   ],
   "source": [
    "print(\"NumPy: {}\".format(np.__version__))\n",
    "print(\"Pandas: {}\".format(pd.__version__))\n",
    "print(\"Tensorflow: {}\".format(tf.__version__))"
   ]
  },
  {
   "cell_type": "markdown",
   "metadata": {},
   "source": [
    "## Building a sequential model\n"
   ]
  },
  {
   "cell_type": "markdown",
   "metadata": {},
   "source": [
    "### Coding Tutorial - Build a feedforward neural network model"
   ]
  },
  {
   "cell_type": "code",
   "execution_count": 3,
   "metadata": {},
   "outputs": [],
   "source": [
    "from tensorflow.keras.models import Sequential\n",
    "from tensorflow.keras.layers import Dense, Flatten, Softmax"
   ]
  },
  {
   "cell_type": "code",
   "execution_count": 4,
   "metadata": {},
   "outputs": [],
   "source": [
    "# Build the Sequential feedforward neural network model\n",
    "model = Sequential([\n",
    "    Flatten(input_shape=(28, 28)),\n",
    "    Dense(16, activation='relu'),\n",
    "    Dense(16, activation='relu'),\n",
    "    Dense(16, activation='relu'),\n",
    "    Softmax()\n",
    "])"
   ]
  },
  {
   "cell_type": "code",
   "execution_count": 5,
   "metadata": {},
   "outputs": [
    {
     "data": {
      "text/plain": [
       "[<tf.Variable 'dense/kernel:0' shape=(784, 16) dtype=float32, numpy=\n",
       " array([[ 0.07387501, -0.05956989,  0.07959732, ...,  0.05007657,\n",
       "         -0.05077644,  0.03850707],\n",
       "        [ 0.04580013,  0.03747427, -0.07693   , ...,  0.07467815,\n",
       "          0.03879775, -0.06678017],\n",
       "        [ 0.07918745,  0.06736486, -0.01312144, ..., -0.04416531,\n",
       "          0.03269102,  0.03084324],\n",
       "        ...,\n",
       "        [-0.04102856, -0.00359754,  0.0198087 , ...,  0.08463748,\n",
       "         -0.01913959,  0.03067476],\n",
       "        [ 0.07913649, -0.08255742, -0.01171618, ...,  0.041526  ,\n",
       "          0.07023814, -0.08628033],\n",
       "        [ 0.02095706,  0.06044121, -0.06647719, ..., -0.0039745 ,\n",
       "         -0.0590837 ,  0.07673346]], dtype=float32)>,\n",
       " <tf.Variable 'dense/bias:0' shape=(16,) dtype=float32, numpy=\n",
       " array([0., 0., 0., 0., 0., 0., 0., 0., 0., 0., 0., 0., 0., 0., 0., 0.],\n",
       "       dtype=float32)>,\n",
       " <tf.Variable 'dense_1/kernel:0' shape=(16, 16) dtype=float32, numpy=\n",
       " array([[-0.35056257,  0.11791721,  0.23483494, -0.4277878 ,  0.07584557,\n",
       "         -0.37820226,  0.03325552,  0.09503219,  0.2668729 , -0.37579578,\n",
       "          0.14893559, -0.423704  , -0.42209578, -0.2046007 ,  0.38939646,\n",
       "          0.33056638],\n",
       "        [ 0.321605  ,  0.24928513,  0.3902888 , -0.3431032 ,  0.0212841 ,\n",
       "         -0.09350455, -0.27409762,  0.12595555, -0.38480136,  0.00056162,\n",
       "         -0.1533876 , -0.35984257, -0.07873496,  0.19226643, -0.04159141,\n",
       "         -0.09454128],\n",
       "        [-0.00141871, -0.31529495, -0.05178452,  0.05095655, -0.33798093,\n",
       "          0.30953267,  0.33018014, -0.35840982, -0.0705837 ,  0.4008675 ,\n",
       "         -0.21037595, -0.01101613,  0.20576939,  0.102034  , -0.00747269,\n",
       "         -0.01042056],\n",
       "        [ 0.4141579 ,  0.28936335,  0.23013547, -0.24078448,  0.2637035 ,\n",
       "          0.39866677, -0.2742054 ,  0.04954693,  0.31459913,  0.38478914,\n",
       "          0.32298246,  0.11813495, -0.42239165,  0.42572972,  0.13895014,\n",
       "         -0.02619329],\n",
       "        [ 0.19084433, -0.06566605, -0.23226814,  0.33342162, -0.34650606,\n",
       "          0.0782322 , -0.11052865,  0.36554977,  0.01063871,  0.31227574,\n",
       "          0.19647452,  0.19589278, -0.08175904, -0.28808194, -0.09966758,\n",
       "         -0.15968296],\n",
       "        [-0.00342998, -0.25836945, -0.39048523,  0.12956795,  0.14304313,\n",
       "          0.04861242,  0.32473782, -0.01334614, -0.23459122, -0.23243208,\n",
       "         -0.16983211, -0.3637263 , -0.07542473, -0.22534375,  0.39191332,\n",
       "          0.2294347 ],\n",
       "        [-0.2059266 ,  0.00451976,  0.08487114,  0.05350643,  0.392655  ,\n",
       "         -0.13117206,  0.2955949 ,  0.41803476, -0.03000209, -0.0518603 ,\n",
       "          0.20852241,  0.04181728,  0.37137386,  0.07421872, -0.33478716,\n",
       "         -0.14281487],\n",
       "        [-0.18916379,  0.00466689, -0.288791  , -0.17432195, -0.36838233,\n",
       "          0.26798508,  0.00161424,  0.1690974 , -0.24818532, -0.24182501,\n",
       "          0.19423726,  0.2385948 , -0.08982277,  0.21183357,  0.3562825 ,\n",
       "         -0.10675621],\n",
       "        [-0.3346668 ,  0.20051381, -0.20571816, -0.30478692, -0.4203527 ,\n",
       "         -0.2490197 , -0.29831174,  0.04721603,  0.1978505 , -0.398744  ,\n",
       "         -0.2728767 , -0.42610636, -0.02289906,  0.0963535 , -0.4300517 ,\n",
       "         -0.16460496],\n",
       "        [ 0.06190652,  0.26320162, -0.0338732 ,  0.11260614,  0.22349826,\n",
       "         -0.22496651, -0.2825518 , -0.0882239 , -0.00954747, -0.03528374,\n",
       "          0.03057134,  0.34120288, -0.39334846,  0.01723492, -0.36302477,\n",
       "          0.3973637 ],\n",
       "        [-0.23468031,  0.35688952, -0.3484978 ,  0.2602925 ,  0.11932638,\n",
       "         -0.30978987,  0.32720068, -0.31115746,  0.22567865, -0.43146628,\n",
       "         -0.3943673 , -0.36039335, -0.06301364, -0.3731978 ,  0.03631273,\n",
       "          0.19758525],\n",
       "        [-0.19249384,  0.3300309 , -0.17376229, -0.11367133,  0.3522822 ,\n",
       "         -0.18956332,  0.2866682 , -0.40155992, -0.40295467,  0.03504765,\n",
       "         -0.40566373,  0.40514836,  0.14499196,  0.06736329, -0.05511963,\n",
       "          0.0210889 ],\n",
       "        [ 0.03555474,  0.30086926, -0.01650718, -0.1265916 , -0.29149967,\n",
       "         -0.4287635 ,  0.33741388,  0.34881416, -0.24963386, -0.13574171,\n",
       "          0.42112944,  0.3917139 ,  0.23363265, -0.21750383, -0.1306566 ,\n",
       "         -0.30455187],\n",
       "        [-0.17790309, -0.36667   , -0.08663034, -0.30564797,  0.35606536,\n",
       "          0.15120181,  0.21431872,  0.05826777, -0.06509069, -0.26350814,\n",
       "          0.02748224,  0.0354065 ,  0.21784124, -0.08887112,  0.0623399 ,\n",
       "         -0.33307248],\n",
       "        [-0.32388076,  0.32141408,  0.2919977 , -0.12356031, -0.14784753,\n",
       "         -0.08796418,  0.4286168 ,  0.06066808, -0.22832207,  0.2868339 ,\n",
       "         -0.3471034 ,  0.233794  , -0.34228843,  0.08535329, -0.20113334,\n",
       "         -0.04688886],\n",
       "        [-0.34473488,  0.38133845, -0.08146408, -0.3216824 , -0.16590905,\n",
       "          0.13130936,  0.37199256,  0.31921932,  0.31149545,  0.2087765 ,\n",
       "          0.27904543,  0.0070712 ,  0.10066411,  0.12170646,  0.22333524,\n",
       "          0.20524833]], dtype=float32)>,\n",
       " <tf.Variable 'dense_1/bias:0' shape=(16,) dtype=float32, numpy=\n",
       " array([0., 0., 0., 0., 0., 0., 0., 0., 0., 0., 0., 0., 0., 0., 0., 0.],\n",
       "       dtype=float32)>,\n",
       " <tf.Variable 'dense_2/kernel:0' shape=(16, 16) dtype=float32, numpy=\n",
       " array([[ 0.20196769, -0.12705812, -0.26437926, -0.2218639 , -0.17255202,\n",
       "          0.25206396, -0.3102013 , -0.31227687, -0.34638754, -0.20334946,\n",
       "          0.02466032,  0.35162458, -0.08309144,  0.15755644,  0.40863833,\n",
       "         -0.21623318],\n",
       "        [-0.24500796,  0.24234906,  0.3225436 , -0.2860749 , -0.1618171 ,\n",
       "          0.23203185,  0.12994716, -0.05391803, -0.1556187 ,  0.4100869 ,\n",
       "         -0.11182624, -0.34388286,  0.40822706,  0.33332077, -0.42616904,\n",
       "         -0.23215985],\n",
       "        [-0.24429572,  0.08207896,  0.32719287, -0.15442142,  0.42687353,\n",
       "          0.12331638, -0.32083595, -0.00381032,  0.12458196, -0.1073775 ,\n",
       "         -0.25888184,  0.3319576 , -0.39160526,  0.18258277, -0.20893888,\n",
       "         -0.20572363],\n",
       "        [-0.0779607 , -0.2421175 , -0.17346746, -0.40333417, -0.0131129 ,\n",
       "         -0.13222077, -0.375946  , -0.01777339, -0.0261831 , -0.36638975,\n",
       "         -0.27321184, -0.3831137 ,  0.3658497 , -0.37336266, -0.32189652,\n",
       "         -0.28433254],\n",
       "        [ 0.23836991,  0.04094645, -0.19229202,  0.2711573 ,  0.09946242,\n",
       "          0.292814  ,  0.30092397,  0.14801815, -0.20811318,  0.15882847,\n",
       "         -0.0405266 ,  0.41752157, -0.2920137 , -0.05354485, -0.14169317,\n",
       "         -0.2110658 ],\n",
       "        [ 0.27620932,  0.13535526,  0.02178305,  0.3083888 , -0.05856717,\n",
       "          0.3702211 , -0.23638818,  0.27210036, -0.05516753,  0.2090601 ,\n",
       "          0.3241156 ,  0.36994144, -0.11068639, -0.25424904, -0.27410462,\n",
       "         -0.23474236],\n",
       "        [ 0.27734312, -0.16334441,  0.27323177,  0.01885337, -0.10177013,\n",
       "         -0.18322873,  0.01069042, -0.09180969, -0.3431189 , -0.20040892,\n",
       "          0.08234116, -0.06500861, -0.40196377,  0.3504714 ,  0.43265662,\n",
       "         -0.00208697],\n",
       "        [-0.28115022, -0.1620684 ,  0.38894472,  0.37444142, -0.29183096,\n",
       "         -0.19203176,  0.23340902, -0.36534536, -0.34663767,  0.3135467 ,\n",
       "          0.33142623, -0.29063174,  0.2764916 , -0.27949542, -0.23793727,\n",
       "          0.08881423],\n",
       "        [-0.02521595, -0.14908722, -0.37630248,  0.21564546,  0.02819818,\n",
       "         -0.30422276,  0.04430369, -0.2818349 , -0.26654625, -0.10985276,\n",
       "          0.25179175, -0.14456382, -0.05406907,  0.23189667, -0.02757102,\n",
       "          0.2915013 ],\n",
       "        [ 0.36083522,  0.05360523, -0.36147362, -0.1953677 ,  0.10443488,\n",
       "         -0.29179925, -0.19185749, -0.13263506,  0.06531513,  0.35313055,\n",
       "          0.13589385,  0.19932285, -0.40611747, -0.2342047 ,  0.1543856 ,\n",
       "          0.30642822],\n",
       "        [ 0.21935233, -0.33440137,  0.25577548, -0.28991473, -0.10314319,\n",
       "         -0.0339047 , -0.3061408 ,  0.03574905, -0.18369123,  0.11462894,\n",
       "         -0.08879399, -0.00248381, -0.13046044,  0.27015558,  0.21763858,\n",
       "         -0.11805233],\n",
       "        [-0.03600124, -0.00325388,  0.17433116, -0.3127846 ,  0.21651635,\n",
       "         -0.2327802 , -0.01507816, -0.2583745 , -0.057567  ,  0.4262258 ,\n",
       "          0.17222986, -0.08159849,  0.07021484,  0.27978417,  0.1565086 ,\n",
       "          0.11658242],\n",
       "        [-0.02648371,  0.1970739 ,  0.14626005,  0.30760565,  0.38788536,\n",
       "         -0.3838179 ,  0.20359239, -0.1838556 ,  0.05124995, -0.3478751 ,\n",
       "          0.18934593, -0.19591103, -0.11901227,  0.02372333,  0.05924153,\n",
       "         -0.25339967],\n",
       "        [-0.42851242, -0.29693547,  0.04804286,  0.00612679, -0.05853343,\n",
       "         -0.02870283, -0.00457191, -0.07337773, -0.10273817, -0.1270445 ,\n",
       "          0.40328607,  0.22891381, -0.230086  , -0.2549054 ,  0.07136098,\n",
       "          0.20369521],\n",
       "        [-0.39495432, -0.02942756, -0.02757329, -0.32153964, -0.06159618,\n",
       "         -0.12197509,  0.07559779, -0.1721941 ,  0.36770573, -0.01221257,\n",
       "          0.14630452,  0.19653419, -0.13645086,  0.1405935 , -0.2293175 ,\n",
       "         -0.26976633],\n",
       "        [ 0.17543122,  0.3551574 , -0.38807154,  0.21694633,  0.01881981,\n",
       "         -0.09669721, -0.25518343,  0.24108955,  0.35360798,  0.29460618,\n",
       "         -0.31795406, -0.42745188,  0.3095577 ,  0.37631753,  0.36396614,\n",
       "         -0.0872156 ]], dtype=float32)>,\n",
       " <tf.Variable 'dense_2/bias:0' shape=(16,) dtype=float32, numpy=\n",
       " array([0., 0., 0., 0., 0., 0., 0., 0., 0., 0., 0., 0., 0., 0., 0., 0.],\n",
       "       dtype=float32)>]"
      ]
     },
     "execution_count": 5,
     "metadata": {},
     "output_type": "execute_result"
    }
   ],
   "source": [
    "# Print the model init weights\n",
    "model.weights"
   ]
  },
  {
   "cell_type": "code",
   "execution_count": 6,
   "metadata": {},
   "outputs": [
    {
     "name": "stdout",
     "output_type": "stream",
     "text": [
      "Model: \"sequential\"\n",
      "_________________________________________________________________\n",
      "Layer (type)                 Output Shape              Param #   \n",
      "=================================================================\n",
      "flatten (Flatten)            (None, 784)               0         \n",
      "_________________________________________________________________\n",
      "dense (Dense)                (None, 16)                12560     \n",
      "_________________________________________________________________\n",
      "dense_1 (Dense)              (None, 16)                272       \n",
      "_________________________________________________________________\n",
      "dense_2 (Dense)              (None, 16)                272       \n",
      "_________________________________________________________________\n",
      "softmax (Softmax)            (None, 16)                0         \n",
      "=================================================================\n",
      "Total params: 13,104\n",
      "Trainable params: 13,104\n",
      "Non-trainable params: 0\n",
      "_________________________________________________________________\n"
     ]
    }
   ],
   "source": [
    "# Print the model summary\n",
    "model.summary()"
   ]
  },
  {
   "cell_type": "markdown",
   "metadata": {},
   "source": [
    "## Convolutional and pooling layers\n",
    "### Coding Tutorial - Build Convolutional Neural network model\n"
   ]
  },
  {
   "cell_type": "code",
   "execution_count": 7,
   "metadata": {},
   "outputs": [],
   "source": [
    "from tensorflow.keras.models import Sequential\n",
    "from tensorflow.keras.layers import Dense, Flatten, Conv2D, MaxPooling2D"
   ]
  },
  {
   "cell_type": "code",
   "execution_count": 8,
   "metadata": {},
   "outputs": [],
   "source": [
    "# Build the Sequential convolutional neural network model\n",
    "model = Sequential([\n",
    "    Conv2D(16, (3, 3), padding='SAME', strides=2, activation='relu', input_shape=(28, 28, 1)),\n",
    "    MaxPooling2D((3, 3)),\n",
    "    Flatten(),\n",
    "    Dense(64, activation='relu'),\n",
    "    Dense(10, activation='softmax')\n",
    "])"
   ]
  },
  {
   "cell_type": "code",
   "execution_count": 9,
   "metadata": {},
   "outputs": [
    {
     "name": "stdout",
     "output_type": "stream",
     "text": [
      "Model: \"sequential_1\"\n",
      "_________________________________________________________________\n",
      "Layer (type)                 Output Shape              Param #   \n",
      "=================================================================\n",
      "conv2d (Conv2D)              (None, 14, 14, 16)        160       \n",
      "_________________________________________________________________\n",
      "max_pooling2d (MaxPooling2D) (None, 4, 4, 16)          0         \n",
      "_________________________________________________________________\n",
      "flatten_1 (Flatten)          (None, 256)               0         \n",
      "_________________________________________________________________\n",
      "dense_3 (Dense)              (None, 64)                16448     \n",
      "_________________________________________________________________\n",
      "dense_4 (Dense)              (None, 10)                650       \n",
      "=================================================================\n",
      "Total params: 17,258\n",
      "Trainable params: 17,258\n",
      "Non-trainable params: 0\n",
      "_________________________________________________________________\n"
     ]
    }
   ],
   "source": [
    "model.summary()"
   ]
  },
  {
   "cell_type": "markdown",
   "metadata": {},
   "source": [
    "Currently, the default tensorflow data type is 'channels_last', but we can change it with `data_format` argument."
   ]
  },
  {
   "cell_type": "code",
   "execution_count": 10,
   "metadata": {},
   "outputs": [
    {
     "name": "stdout",
     "output_type": "stream",
     "text": [
      "Model: \"sequential_2\"\n",
      "_________________________________________________________________\n",
      "Layer (type)                 Output Shape              Param #   \n",
      "=================================================================\n",
      "conv2d_1 (Conv2D)            (None, 16, 14, 14)        160       \n",
      "_________________________________________________________________\n",
      "max_pooling2d_1 (MaxPooling2 (None, 16, 4, 4)          0         \n",
      "_________________________________________________________________\n",
      "flatten_2 (Flatten)          (None, 256)               0         \n",
      "_________________________________________________________________\n",
      "dense_5 (Dense)              (None, 64)                16448     \n",
      "_________________________________________________________________\n",
      "dense_6 (Dense)              (None, 10)                650       \n",
      "=================================================================\n",
      "Total params: 17,258\n",
      "Trainable params: 17,258\n",
      "Non-trainable params: 0\n",
      "_________________________________________________________________\n"
     ]
    }
   ],
   "source": [
    "model = Sequential([\n",
    "    Conv2D(16, (3, 3), padding='SAME', strides=2, activation='relu', input_shape=(1, 28, 28), data_format='channels_first'),\n",
    "    MaxPooling2D((3, 3), data_format='channels_first'),\n",
    "    Flatten(),\n",
    "    Dense(64, activation='relu'),\n",
    "    Dense(10, activation='softmax')\n",
    "])\n",
    "\n",
    "model.summary()"
   ]
  },
  {
   "cell_type": "markdown",
   "metadata": {},
   "source": [
    "## Weight and bias initialisers \n",
    "\n",
    "In this reading, we investigate different ways to initialise weights and biases in the layers of neural networks."
   ]
  },
  {
   "cell_type": "markdown",
   "metadata": {},
   "source": [
    "### Default weights and biases\n",
    "\n",
    "In the models we have worked with so far, we have not specified the initial values of the weights and biases in each layer of our neural networks.\n",
    "\n",
    "The default values of the weights and biases in TensorFlow depend on the type of layers we are using. \n",
    "\n",
    "For example, in a `Dense` layer, the biases are set to zero (`zeros`) by default, while the weights are set according to `glorot_uniform`, the Glorot uniform initialiser. \n",
    "\n",
    "The Glorot uniform initialiser draws the weights uniformly at random from the closed interval $[-c,c]$, where $$c = \\sqrt{\\frac{6}{n_{input}+n_{output}}}$$\n",
    "\n",
    "and $n_{input}$ and $n_{output}$ are the number of inputs to, and outputs from the layer respectively."
   ]
  },
  {
   "cell_type": "markdown",
   "metadata": {},
   "source": [
    "### Initialising your own weights and biases\n",
    "We often would like to initialise our own weights and biases, and TensorFlow makes this process quite straightforward.\n",
    "\n",
    "When we construct a model in TensorFlow, each layer has optional arguments `kernel_initialiser` and `bias_initialiser`, which are used to set the weights and biases respectively.\n",
    "\n",
    "If a layer has no weights or biases (e.g. it is a max pooling layer), then trying to set either `kernel_initialiser` or `bias_initialiser` will throw an error.\n",
    "\n",
    "Let's see an example, which uses some of the different initialisations available in Keras."
   ]
  },
  {
   "cell_type": "code",
   "execution_count": 12,
   "metadata": {},
   "outputs": [],
   "source": [
    "from tensorflow.keras.models import Sequential\n",
    "from tensorflow.keras.layers import Flatten, Dense, Conv1D, MaxPooling1D\n",
    "\n",
    "# Construct a model\n",
    "model = Sequential([\n",
    "    Conv1D(filters=16, kernel_size=3, input_shape=(128, 64), kernel_initializer='random_uniform',\n",
    "           bias_initializer='zeros', activation='relu'),\n",
    "    MaxPooling1D(pool_size=4),\n",
    "    Flatten(),\n",
    "    Dense(64, kernel_initializer='he_uniform', bias_initializer='ones', activation='relu')\n",
    "])"
   ]
  },
  {
   "cell_type": "markdown",
   "metadata": {},
   "source": [
    "As the following example illustrates, we can also instantiate initialisers in a slightly different manner, allowing us to set optional arguments of the initialisation method."
   ]
  },
  {
   "cell_type": "code",
   "execution_count": null,
   "metadata": {},
   "outputs": [],
   "source": []
  }
 ],
 "metadata": {
  "kernelspec": {
   "display_name": "Python 3",
   "language": "python",
   "name": "python3"
  },
  "language_info": {
   "codemirror_mode": {
    "name": "ipython",
    "version": 3
   },
   "file_extension": ".py",
   "mimetype": "text/x-python",
   "name": "python",
   "nbconvert_exporter": "python",
   "pygments_lexer": "ipython3",
   "version": "3.7.6"
  }
 },
 "nbformat": 4,
 "nbformat_minor": 4
}
