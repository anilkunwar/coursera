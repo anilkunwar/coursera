{
 "cells": [
  {
   "cell_type": "markdown",
   "metadata": {},
   "source": [
    "# The Sequential Model API\n",
    "\n",
    "> In this post, we will dig into the basic usage of building neural network with Tensorflow Sequential APIs.\n",
    "\n",
    "- toc: true \n",
    "- badges: true\n",
    "- comments: true\n",
    "- author: Chanseok Kang\n",
    "- categories: [Python, Deep_Learning, Tensorflow-Keras]\n",
    "- image: "
   ]
  },
  {
   "cell_type": "code",
   "execution_count": 37,
   "metadata": {},
   "outputs": [],
   "source": [
    "import numpy as np\n",
    "import pandas as pd\n",
    "import matplotlib.pyplot as plt\n",
    "import tensorflow as tf"
   ]
  },
  {
   "cell_type": "code",
   "execution_count": 2,
   "metadata": {},
   "outputs": [
    {
     "name": "stdout",
     "output_type": "stream",
     "text": [
      "NumPy: 1.18.1\n",
      "Pandas: 1.0.1\n",
      "Tensorflow: 2.3.1\n"
     ]
    }
   ],
   "source": [
    "print(\"NumPy: {}\".format(np.__version__))\n",
    "print(\"Pandas: {}\".format(pd.__version__))\n",
    "print(\"Tensorflow: {}\".format(tf.__version__))"
   ]
  },
  {
   "cell_type": "markdown",
   "metadata": {},
   "source": [
    "## Building a sequential model\n"
   ]
  },
  {
   "cell_type": "markdown",
   "metadata": {},
   "source": [
    "### Coding Tutorial - Build a feedforward neural network model"
   ]
  },
  {
   "cell_type": "code",
   "execution_count": 3,
   "metadata": {},
   "outputs": [],
   "source": [
    "from tensorflow.keras.models import Sequential\n",
    "from tensorflow.keras.layers import Dense, Flatten, Softmax"
   ]
  },
  {
   "cell_type": "code",
   "execution_count": 4,
   "metadata": {},
   "outputs": [],
   "source": [
    "# Build the Sequential feedforward neural network model\n",
    "model = Sequential([\n",
    "    Flatten(input_shape=(28, 28)),\n",
    "    Dense(16, activation='relu'),\n",
    "    Dense(16, activation='relu'),\n",
    "    Dense(16, activation='relu'),\n",
    "    Softmax()\n",
    "])"
   ]
  },
  {
   "cell_type": "code",
   "execution_count": 5,
   "metadata": {},
   "outputs": [
    {
     "data": {
      "text/plain": [
       "[<tf.Variable 'dense/kernel:0' shape=(784, 16) dtype=float32, numpy=\n",
       " array([[ 0.05694753, -0.01445955,  0.02889278, ...,  0.07327136,\n",
       "         -0.07537139,  0.08616881],\n",
       "        [-0.07410051, -0.03694982, -0.04157752, ...,  0.03010982,\n",
       "         -0.02780097, -0.00887114],\n",
       "        [ 0.07740739,  0.04293187,  0.01681171, ...,  0.08571155,\n",
       "          0.01035317, -0.05937039],\n",
       "        ...,\n",
       "        [ 0.05397604,  0.07120949,  0.08604382, ..., -0.05617909,\n",
       "         -0.03425014, -0.08230225],\n",
       "        [ 0.02035844, -0.06967027,  0.01005485, ...,  0.02447511,\n",
       "          0.07991299, -0.00553514],\n",
       "        [ 0.00868416,  0.05871408, -0.07087392, ...,  0.02097424,\n",
       "         -0.03808666,  0.03541996]], dtype=float32)>,\n",
       " <tf.Variable 'dense/bias:0' shape=(16,) dtype=float32, numpy=\n",
       " array([0., 0., 0., 0., 0., 0., 0., 0., 0., 0., 0., 0., 0., 0., 0., 0.],\n",
       "       dtype=float32)>,\n",
       " <tf.Variable 'dense_1/kernel:0' shape=(16, 16) dtype=float32, numpy=\n",
       " array([[-0.29837987, -0.34982526,  0.07724884, -0.4041955 ,  0.33830157,\n",
       "         -0.34303218, -0.33311543, -0.3687417 ,  0.3053688 , -0.4259578 ,\n",
       "          0.05160168, -0.07745048,  0.01009619, -0.38661185, -0.2695833 ,\n",
       "          0.22177586],\n",
       "        [ 0.19337997,  0.39986816, -0.34199524, -0.22212602, -0.19602872,\n",
       "          0.33394143,  0.08892348, -0.4304812 , -0.39904565, -0.01082432,\n",
       "         -0.2171008 , -0.28054196, -0.18045801,  0.34201166, -0.14762163,\n",
       "         -0.15545681],\n",
       "        [ 0.02793452, -0.26505166, -0.05865431, -0.04089031,  0.41515753,\n",
       "         -0.00056419, -0.12148583,  0.13455799, -0.1378997 ,  0.03870618,\n",
       "          0.1043615 ,  0.3009735 ,  0.42573974,  0.27767596,  0.16099915,\n",
       "          0.3383269 ],\n",
       "        [ 0.41700062,  0.008279  , -0.11232623, -0.17138916,  0.4113665 ,\n",
       "         -0.31607234, -0.0218671 , -0.14520627,  0.3396589 ,  0.1722584 ,\n",
       "          0.39770272, -0.397169  ,  0.12631938, -0.19557366,  0.16796854,\n",
       "          0.16926411],\n",
       "        [ 0.29289278,  0.21162656, -0.32874534, -0.38346544, -0.10605514,\n",
       "         -0.29687113, -0.01339754,  0.14092943,  0.05497488, -0.09319577,\n",
       "          0.17334488, -0.36374962,  0.35367116, -0.02378249, -0.32206562,\n",
       "          0.39195928],\n",
       "        [-0.02747265, -0.24009733,  0.08137569, -0.02197871,  0.26853433,\n",
       "         -0.01128343, -0.26911905, -0.14048612, -0.08504149, -0.12753737,\n",
       "          0.1884875 , -0.07564145,  0.3275459 , -0.14642572,  0.11756125,\n",
       "         -0.16974807],\n",
       "        [-0.06533837,  0.14773199,  0.12024048, -0.29191086,  0.0921661 ,\n",
       "          0.28412166,  0.26235208, -0.05042881, -0.12040091,  0.05661154,\n",
       "          0.403711  , -0.18650293,  0.37330368, -0.1203213 , -0.0734598 ,\n",
       "         -0.03701103],\n",
       "        [-0.08044779,  0.18317702,  0.32705048,  0.2187582 ,  0.34885576,\n",
       "         -0.4260088 , -0.04791185, -0.18427423,  0.18371728, -0.07873395,\n",
       "          0.07330236, -0.01414302, -0.3321709 , -0.31176904, -0.01195085,\n",
       "          0.09308532],\n",
       "        [-0.1295633 , -0.39326638,  0.0086399 ,  0.17204306, -0.34362012,\n",
       "          0.17726043,  0.41988286,  0.30208954, -0.23176362,  0.10266027,\n",
       "         -0.24446182, -0.1224502 ,  0.2759522 , -0.28086138, -0.28831702,\n",
       "         -0.25067586],\n",
       "        [-0.17366236, -0.27322358,  0.12591174,  0.31976947, -0.16721275,\n",
       "          0.14916113, -0.37078345,  0.38906357, -0.26809698, -0.01198441,\n",
       "          0.38171914,  0.27549765,  0.08747098, -0.2322668 , -0.3137472 ,\n",
       "         -0.35503268],\n",
       "        [ 0.36651185, -0.22423694, -0.07205752, -0.32146528, -0.32459164,\n",
       "          0.33809128,  0.25558773,  0.12474826, -0.3276762 ,  0.25497362,\n",
       "         -0.34845507, -0.23548134,  0.23566046,  0.17119798,  0.39320132,\n",
       "          0.00409958],\n",
       "        [ 0.136475  , -0.37230858, -0.4253389 ,  0.06666249,  0.27179012,\n",
       "          0.22680774, -0.37961704, -0.27411765,  0.21133801,  0.28648505,\n",
       "         -0.13860172, -0.40183514, -0.25276685, -0.10883069, -0.3483089 ,\n",
       "          0.1771284 ],\n",
       "        [ 0.37134907,  0.3018804 , -0.3225879 ,  0.21986583,  0.09862289,\n",
       "         -0.41421992, -0.28533396, -0.05254942, -0.26369596, -0.20358607,\n",
       "          0.2718816 ,  0.02993816,  0.3068495 , -0.4063185 , -0.10471168,\n",
       "         -0.20918582],\n",
       "        [ 0.19580904,  0.07260147,  0.08417842,  0.09127608, -0.20025778,\n",
       "         -0.31160563, -0.25286862, -0.39806396,  0.30205843,  0.24891606,\n",
       "         -0.4113981 ,  0.23441693, -0.30594516, -0.2597825 ,  0.40485498,\n",
       "         -0.13599867],\n",
       "        [-0.18592995, -0.41568622, -0.1109226 , -0.3538212 ,  0.02406803,\n",
       "         -0.3021618 , -0.16894281, -0.347716  ,  0.03417981,  0.1664274 ,\n",
       "          0.3269302 , -0.35941982, -0.14900866,  0.09789225,  0.21962103,\n",
       "          0.340888  ],\n",
       "        [-0.39742255, -0.32051766, -0.07833946, -0.22384916,  0.43096754,\n",
       "          0.1707873 ,  0.18614098, -0.3128926 , -0.24646579, -0.38320538,\n",
       "         -0.03271827, -0.35368213, -0.09692886, -0.11395544, -0.40488616,\n",
       "          0.21627471]], dtype=float32)>,\n",
       " <tf.Variable 'dense_1/bias:0' shape=(16,) dtype=float32, numpy=\n",
       " array([0., 0., 0., 0., 0., 0., 0., 0., 0., 0., 0., 0., 0., 0., 0., 0.],\n",
       "       dtype=float32)>,\n",
       " <tf.Variable 'dense_2/kernel:0' shape=(16, 16) dtype=float32, numpy=\n",
       " array([[-0.15521348, -0.07879588, -0.24848811,  0.3253369 ,  0.19245264,\n",
       "         -0.15593594,  0.17115894,  0.26279417, -0.2777354 ,  0.39367977,\n",
       "          0.07168022, -0.11165881, -0.32216132, -0.26085752,  0.17860106,\n",
       "         -0.39997035],\n",
       "        [ 0.4093474 ,  0.09661266, -0.11834276,  0.39808318, -0.32379568,\n",
       "         -0.4168587 , -0.16748726,  0.07075712, -0.20498846, -0.4013775 ,\n",
       "         -0.20829065, -0.06795111, -0.19186027, -0.09336942, -0.25136536,\n",
       "         -0.41769937],\n",
       "        [ 0.12428197, -0.13540867,  0.13121638, -0.34620428, -0.04142466,\n",
       "         -0.23640521, -0.2767113 ,  0.29059735,  0.12994632, -0.30420065,\n",
       "          0.37335965,  0.27657112,  0.2667174 , -0.21456537, -0.32903296,\n",
       "         -0.19917491],\n",
       "        [-0.18824746, -0.37965038, -0.00996774, -0.40295744, -0.20351608,\n",
       "         -0.4123863 ,  0.137826  ,  0.3723928 ,  0.31973293,  0.12956342,\n",
       "          0.16676882,  0.11495861, -0.17160079,  0.20422128, -0.10259274,\n",
       "          0.40096632],\n",
       "        [ 0.30886188,  0.06140015,  0.15643564, -0.2541901 , -0.38942724,\n",
       "          0.21111843, -0.4110337 ,  0.12251267, -0.37615258, -0.43286446,\n",
       "         -0.05224198, -0.400096  , -0.11787292,  0.2349157 , -0.16585743,\n",
       "          0.30548492],\n",
       "        [ 0.3678176 , -0.28824487,  0.06730828, -0.37630236,  0.2948254 ,\n",
       "         -0.18450527, -0.36293268,  0.01493043,  0.40840366, -0.29946253,\n",
       "         -0.17362487, -0.3011706 , -0.08176151,  0.14392987, -0.1428602 ,\n",
       "         -0.01319301],\n",
       "        [-0.12539217, -0.11481202,  0.22422805,  0.30193093, -0.25357178,\n",
       "          0.04471415,  0.03779987,  0.31789884, -0.35060936, -0.0358437 ,\n",
       "         -0.2997386 , -0.35634154,  0.3343579 ,  0.03339469, -0.10031074,\n",
       "         -0.2669813 ],\n",
       "        [ 0.26011834, -0.00129256,  0.10309765, -0.29113802,  0.07687935,\n",
       "         -0.11097422, -0.20210202, -0.30347645, -0.21688554,  0.04857081,\n",
       "         -0.39653346,  0.11668888,  0.04900059, -0.15030944,  0.42393115,\n",
       "         -0.12129515],\n",
       "        [-0.42016676, -0.03204361,  0.11118647,  0.28594717, -0.28754884,\n",
       "         -0.05457929, -0.39948007,  0.12288186, -0.12037283,  0.13181517,\n",
       "          0.14204118, -0.10549021,  0.3285785 , -0.14957348,  0.189868  ,\n",
       "         -0.24994904],\n",
       "        [ 0.22965333, -0.01075649,  0.03320318,  0.13492599,  0.15371963,\n",
       "         -0.23266138, -0.19925678, -0.05220595,  0.12172547,  0.03977451,\n",
       "          0.1905028 ,  0.14742044, -0.0481396 , -0.37584707,  0.31613293,\n",
       "          0.31140265],\n",
       "        [ 0.22170338,  0.15528587,  0.19454125, -0.00433126,  0.14696237,\n",
       "          0.18970165, -0.0930469 ,  0.31174502,  0.02920932, -0.00204155,\n",
       "         -0.1822907 ,  0.3078945 ,  0.2454113 ,  0.42800483, -0.19562785,\n",
       "          0.02668607],\n",
       "        [-0.13345096, -0.35354978,  0.1134406 ,  0.23587313, -0.363778  ,\n",
       "          0.421752  , -0.2561235 ,  0.3447186 , -0.22309843, -0.10556474,\n",
       "          0.35497198, -0.28246695, -0.02074778, -0.00056276,  0.35461274,\n",
       "          0.14605519],\n",
       "        [-0.3457172 , -0.424724  ,  0.1993365 ,  0.12069377, -0.07489616,\n",
       "          0.00153908, -0.18060502,  0.04317477, -0.3624359 , -0.30760503,\n",
       "         -0.3971153 ,  0.00243631, -0.11386293, -0.2767685 , -0.4181685 ,\n",
       "         -0.3502023 ],\n",
       "        [-0.30914772, -0.40442157, -0.06714731,  0.23520806,  0.22102764,\n",
       "         -0.1107215 ,  0.35388365,  0.19486234,  0.24993482,  0.3980578 ,\n",
       "         -0.10960704,  0.1161097 , -0.06025481, -0.22082326,  0.2538977 ,\n",
       "          0.41409406],\n",
       "        [-0.24841163, -0.14078355,  0.27960142, -0.1696558 , -0.36390913,\n",
       "          0.25809225, -0.36656082, -0.1579209 , -0.23292805, -0.41554457,\n",
       "         -0.03323653,  0.3584312 ,  0.20672604, -0.3969593 , -0.08094481,\n",
       "         -0.10587713],\n",
       "        [ 0.29421625, -0.40503305,  0.08241954, -0.13964587, -0.3712222 ,\n",
       "          0.00785291, -0.32368636, -0.21088554,  0.0814546 , -0.18855377,\n",
       "         -0.02988902,  0.23024705,  0.20386669,  0.2474232 , -0.30594105,\n",
       "          0.01416606]], dtype=float32)>,\n",
       " <tf.Variable 'dense_2/bias:0' shape=(16,) dtype=float32, numpy=\n",
       " array([0., 0., 0., 0., 0., 0., 0., 0., 0., 0., 0., 0., 0., 0., 0., 0.],\n",
       "       dtype=float32)>]"
      ]
     },
     "execution_count": 5,
     "metadata": {},
     "output_type": "execute_result"
    }
   ],
   "source": [
    "# Print the model init weights\n",
    "model.weights"
   ]
  },
  {
   "cell_type": "code",
   "execution_count": 6,
   "metadata": {},
   "outputs": [
    {
     "name": "stdout",
     "output_type": "stream",
     "text": [
      "Model: \"sequential\"\n",
      "_________________________________________________________________\n",
      "Layer (type)                 Output Shape              Param #   \n",
      "=================================================================\n",
      "flatten (Flatten)            (None, 784)               0         \n",
      "_________________________________________________________________\n",
      "dense (Dense)                (None, 16)                12560     \n",
      "_________________________________________________________________\n",
      "dense_1 (Dense)              (None, 16)                272       \n",
      "_________________________________________________________________\n",
      "dense_2 (Dense)              (None, 16)                272       \n",
      "_________________________________________________________________\n",
      "softmax (Softmax)            (None, 16)                0         \n",
      "=================================================================\n",
      "Total params: 13,104\n",
      "Trainable params: 13,104\n",
      "Non-trainable params: 0\n",
      "_________________________________________________________________\n"
     ]
    }
   ],
   "source": [
    "# Print the model summary\n",
    "model.summary()"
   ]
  },
  {
   "cell_type": "markdown",
   "metadata": {},
   "source": [
    "## Convolutional and pooling layers\n",
    "### Coding Tutorial - Build Convolutional Neural network model\n"
   ]
  },
  {
   "cell_type": "code",
   "execution_count": 7,
   "metadata": {},
   "outputs": [],
   "source": [
    "from tensorflow.keras.models import Sequential\n",
    "from tensorflow.keras.layers import Dense, Flatten, Conv2D, MaxPooling2D"
   ]
  },
  {
   "cell_type": "code",
   "execution_count": 8,
   "metadata": {},
   "outputs": [],
   "source": [
    "# Build the Sequential convolutional neural network model\n",
    "model = Sequential([\n",
    "    Conv2D(16, (3, 3), padding='SAME', strides=2, activation='relu', input_shape=(28, 28, 1)),\n",
    "    MaxPooling2D((3, 3)),\n",
    "    Flatten(),\n",
    "    Dense(64, activation='relu'),\n",
    "    Dense(10, activation='softmax')\n",
    "])"
   ]
  },
  {
   "cell_type": "code",
   "execution_count": 9,
   "metadata": {},
   "outputs": [
    {
     "name": "stdout",
     "output_type": "stream",
     "text": [
      "Model: \"sequential_1\"\n",
      "_________________________________________________________________\n",
      "Layer (type)                 Output Shape              Param #   \n",
      "=================================================================\n",
      "conv2d (Conv2D)              (None, 14, 14, 16)        160       \n",
      "_________________________________________________________________\n",
      "max_pooling2d (MaxPooling2D) (None, 4, 4, 16)          0         \n",
      "_________________________________________________________________\n",
      "flatten_1 (Flatten)          (None, 256)               0         \n",
      "_________________________________________________________________\n",
      "dense_3 (Dense)              (None, 64)                16448     \n",
      "_________________________________________________________________\n",
      "dense_4 (Dense)              (None, 10)                650       \n",
      "=================================================================\n",
      "Total params: 17,258\n",
      "Trainable params: 17,258\n",
      "Non-trainable params: 0\n",
      "_________________________________________________________________\n"
     ]
    }
   ],
   "source": [
    "model.summary()"
   ]
  },
  {
   "cell_type": "markdown",
   "metadata": {},
   "source": [
    "Currently, the default tensorflow data type is 'channels_last', but we can change it with `data_format` argument."
   ]
  },
  {
   "cell_type": "code",
   "execution_count": 10,
   "metadata": {},
   "outputs": [
    {
     "name": "stdout",
     "output_type": "stream",
     "text": [
      "Model: \"sequential_2\"\n",
      "_________________________________________________________________\n",
      "Layer (type)                 Output Shape              Param #   \n",
      "=================================================================\n",
      "conv2d_1 (Conv2D)            (None, 16, 14, 14)        160       \n",
      "_________________________________________________________________\n",
      "max_pooling2d_1 (MaxPooling2 (None, 16, 4, 4)          0         \n",
      "_________________________________________________________________\n",
      "flatten_2 (Flatten)          (None, 256)               0         \n",
      "_________________________________________________________________\n",
      "dense_5 (Dense)              (None, 64)                16448     \n",
      "_________________________________________________________________\n",
      "dense_6 (Dense)              (None, 10)                650       \n",
      "=================================================================\n",
      "Total params: 17,258\n",
      "Trainable params: 17,258\n",
      "Non-trainable params: 0\n",
      "_________________________________________________________________\n"
     ]
    }
   ],
   "source": [
    "model = Sequential([\n",
    "    Conv2D(16, (3, 3), padding='SAME', strides=2, activation='relu', input_shape=(1, 28, 28), data_format='channels_first'),\n",
    "    MaxPooling2D((3, 3), data_format='channels_first'),\n",
    "    Flatten(),\n",
    "    Dense(64, activation='relu'),\n",
    "    Dense(10, activation='softmax')\n",
    "])\n",
    "\n",
    "model.summary()"
   ]
  },
  {
   "cell_type": "markdown",
   "metadata": {},
   "source": [
    "## Weight and bias initialisers \n",
    "\n",
    "In this reading, we investigate different ways to initialise weights and biases in the layers of neural networks."
   ]
  },
  {
   "cell_type": "markdown",
   "metadata": {},
   "source": [
    "### Default weights and biases\n",
    "\n",
    "In the models we have worked with so far, we have not specified the initial values of the weights and biases in each layer of our neural networks.\n",
    "\n",
    "The default values of the weights and biases in TensorFlow depend on the type of layers we are using. \n",
    "\n",
    "For example, in a `Dense` layer, the biases are set to zero (`zeros`) by default, while the weights are set according to `glorot_uniform`, the Glorot uniform initialiser. \n",
    "\n",
    "The Glorot uniform initialiser draws the weights uniformly at random from the closed interval $[-c,c]$, where $$c = \\sqrt{\\frac{6}{n_{input}+n_{output}}}$$\n",
    "\n",
    "and $n_{input}$ and $n_{output}$ are the number of inputs to, and outputs from the layer respectively."
   ]
  },
  {
   "cell_type": "markdown",
   "metadata": {},
   "source": [
    "### Initialising your own weights and biases\n",
    "We often would like to initialise our own weights and biases, and TensorFlow makes this process quite straightforward.\n",
    "\n",
    "When we construct a model in TensorFlow, each layer has optional arguments `kernel_initialiser` and `bias_initialiser`, which are used to set the weights and biases respectively.\n",
    "\n",
    "If a layer has no weights or biases (e.g. it is a max pooling layer), then trying to set either `kernel_initialiser` or `bias_initialiser` will throw an error.\n",
    "\n",
    "Let's see an example, which uses some of the different initialisations available in Keras."
   ]
  },
  {
   "cell_type": "code",
   "execution_count": 11,
   "metadata": {},
   "outputs": [],
   "source": [
    "from tensorflow.keras.models import Sequential\n",
    "from tensorflow.keras.layers import Flatten, Dense, Conv1D, MaxPooling1D\n",
    "\n",
    "# Construct a model\n",
    "model = Sequential([\n",
    "    Conv1D(filters=16, kernel_size=3, input_shape=(128, 64), kernel_initializer='random_uniform',\n",
    "           bias_initializer='zeros', activation='relu'),\n",
    "    MaxPooling1D(pool_size=4),\n",
    "    Flatten(),\n",
    "    Dense(64, kernel_initializer='he_uniform', bias_initializer='ones', activation='relu')\n",
    "])"
   ]
  },
  {
   "cell_type": "markdown",
   "metadata": {},
   "source": [
    "As the following example illustrates, we can also instantiate initialisers in a slightly different manner, allowing us to set optional arguments of the initialisation method."
   ]
  },
  {
   "cell_type": "markdown",
   "metadata": {},
   "source": [
    "## The compile method"
   ]
  },
  {
   "cell_type": "code",
   "execution_count": 12,
   "metadata": {},
   "outputs": [],
   "source": [
    "# Define the model optimizer, loss function and metrics\n",
    "model.compile(optimizer='adam',\n",
    "              loss='sparse_categorical_crossentropy',\n",
    "              metrics=['accuracy'])"
   ]
  },
  {
   "cell_type": "code",
   "execution_count": 13,
   "metadata": {},
   "outputs": [
    {
     "name": "stdout",
     "output_type": "stream",
     "text": [
      "sparse_categorical_crossentropy\n",
      "<tensorflow.python.keras.optimizer_v2.adam.Adam object at 0x0000018A58805648>\n",
      "[]\n"
     ]
    }
   ],
   "source": [
    "# Print the resulting model attributes\n",
    "print(model.loss)\n",
    "print(model.optimizer)\n",
    "print(model.metrics)"
   ]
  },
  {
   "cell_type": "markdown",
   "metadata": {},
   "source": [
    "Or we can implement it like this,"
   ]
  },
  {
   "cell_type": "code",
   "execution_count": 14,
   "metadata": {},
   "outputs": [
    {
     "name": "stdout",
     "output_type": "stream",
     "text": [
      "categorical_crossentropy\n",
      "<tensorflow.python.keras.optimizer_v2.adam.Adam object at 0x0000018A586ECF08>\n",
      "<tf.Variable 'learning_rate:0' shape=() dtype=float32, numpy=0.005>\n",
      "[]\n"
     ]
    }
   ],
   "source": [
    "opt = tf.keras.optimizers.Adam(learning_rate=0.005)\n",
    "acc = tf.keras.metrics.SparseCategoricalAccuracy()\n",
    "mae = tf.keras.metrics.MeanAbsoluteError()\n",
    "\n",
    "model.compile(optimizer=opt,\n",
    "              loss='categorical_crossentropy',\n",
    "              metrics=[acc, mae])\n",
    "\n",
    "print(model.loss)\n",
    "print(model.optimizer)\n",
    "print(model.optimizer.lr)\n",
    "print(model.metrics)"
   ]
  },
  {
   "cell_type": "markdown",
   "metadata": {},
   "source": [
    "### Metrics in tf.Keras\n",
    "In this reading we will be exploring the different metrics in Keras that may be used to judge the performance of a model."
   ]
  },
  {
   "cell_type": "code",
   "execution_count": 15,
   "metadata": {},
   "outputs": [],
   "source": [
    "import tensorflow.keras.backend as K"
   ]
  },
  {
   "cell_type": "markdown",
   "metadata": {},
   "source": [
    "One of the most common metrics used for classification problems in Keras is `'accuracy'`. \n",
    "\n",
    "We will begin with a simple example of a model that uses accuracy as a metric."
   ]
  },
  {
   "cell_type": "code",
   "execution_count": 16,
   "metadata": {},
   "outputs": [],
   "source": [
    "# Build the model\n",
    "model = Sequential([\n",
    "  Flatten(input_shape=(28,28)),\n",
    "  Dense(32, activation='relu'),\n",
    "  Dense(32, activation='tanh'),\n",
    "  Dense(10, activation='softmax'),\n",
    "])"
   ]
  },
  {
   "cell_type": "code",
   "execution_count": 17,
   "metadata": {},
   "outputs": [],
   "source": [
    "# Compile the model\n",
    "model.compile(optimizer='adam',\n",
    "              loss='sparse_categorical_crossentropy',\n",
    "              metrics=['accuracy'])"
   ]
  },
  {
   "cell_type": "markdown",
   "metadata": {},
   "source": [
    "We now have a model that uses accuracy as a metric to judge its performance.\n",
    "\n",
    "But how is this metric actually calculated? We will break our discussion into two cases.\n"
   ]
  },
  {
   "cell_type": "markdown",
   "metadata": {},
   "source": [
    "#### Case 1 - Binary Classification with sigmoid activation function\n",
    "Suppose we are training a model for a binary classification problem with a sigmoid activation function (softmax activation functions are covered in the next case). \n",
    "\n",
    "Given a training example with input $x^{(i)}$, the model will output a float between 0 and 1. Based on whether this float is less than or greater than our \"threshold\" (which by default is set at 0.5), we round the float to get the predicted classification $y_{pred}$ from the model.\n",
    "\n",
    "The accuracy metric compares the value of $y_{pred}$ on each training example with the true output, the one-hot coded vector $y_{true}^{(i)}$ from our training data.\n",
    "\n",
    "Let $$\\delta(y_{pred}^{(i)},y_{true}^{(i)}) = \\begin{cases} 1 & y_{pred}=y_{true}\\\\\n",
    "0 & y_{pred}\\neq y_{true} \\end{cases}$$\n",
    "\n",
    "The accuracy metric  computes the mean of $\\delta(y_{pred}^{(i)},y_{true}^{(i)})$ over all training examples.\n",
    "\n",
    "$$ accuracy = \\frac{1}{N} \\sum_{i=1}^N \\delta(y_{pred}^{(i)},y_{true}^{(i)}) $$\n",
    "\n",
    "This is implemented in the backend of Keras as follows. \n",
    "Note: We have set $y_{true}$ and $y_{pred}$ ourselves for the purposes of this example."
   ]
  },
  {
   "cell_type": "code",
   "execution_count": 18,
   "metadata": {},
   "outputs": [
    {
     "data": {
      "text/plain": [
       "<tf.Tensor: shape=(), dtype=float32, numpy=0.6666667>"
      ]
     },
     "execution_count": 18,
     "metadata": {},
     "output_type": "execute_result"
    }
   ],
   "source": [
    "# Sigmoid activation function\n",
    "y_true = tf.constant([0.0,1.0,1.0])\n",
    "y_pred = tf.constant([0.4,0.8, 0.3])\n",
    "accuracy = K.mean(K.equal(y_true, K.round(y_pred)))\n",
    "accuracy"
   ]
  },
  {
   "cell_type": "markdown",
   "metadata": {},
   "source": [
    "#### Case 2 - Categorical Classification\n",
    "\n",
    "Now suppose we are training a model for a classification problem which should sort data into $m>2$ different classes using a softmax activation function in the last layer.\n",
    "\n",
    "Given a training example with input $x^{(i)}$, the model will output a tensor of probabilities $p_1, p_2, \\dots p_m$, giving the likelihood (according to the model) that $x^{(i)}$ falls into each class.\n",
    "\n",
    "The accuracy metric works by determining the largest argument in the $y_{pred}^{(i)}$ tensor, and compares its index to the index of the maximum value of $y_{true}^{(i)}$ to determine $\\delta(y_{pred}^{(i)},y_{true}^{(i)})$. It then computes the accuracy in the same way as for the binary classification case.\n",
    "\n",
    "$$ accuracy = \\frac{1}{N} \\sum_{i=1}^N \\delta(y_{pred}^{(i)},y_{true}^{(i)}) $$\n",
    "\n",
    "In the backend of Keras, the accuracy metric is implemented slightly differently depending on whether we have a binary classification problem ($m=2$) or a categorical classifcation problem. Note that the accuracy for binary classification problems is the same, no matter if we use a sigmoid or softmax activation function to obtain the output.\n"
   ]
  },
  {
   "cell_type": "code",
   "execution_count": 19,
   "metadata": {},
   "outputs": [
    {
     "data": {
      "text/plain": [
       "<tf.Tensor: shape=(), dtype=float32, numpy=0.5>"
      ]
     },
     "execution_count": 19,
     "metadata": {},
     "output_type": "execute_result"
    }
   ],
   "source": [
    "# Binary classification with softmax\n",
    "y_true = tf.constant([[0.0,1.0],[1.0,0.0],[1.0,0.0],[0.0,1.0]])\n",
    "y_pred = tf.constant([[0.4,0.6], [0.3,0.7], [0.05,0.95],[0.33,0.67]])\n",
    "accuracy =K.mean(K.equal(y_true, K.round(y_pred)))\n",
    "accuracy"
   ]
  },
  {
   "cell_type": "code",
   "execution_count": 20,
   "metadata": {},
   "outputs": [
    {
     "data": {
      "text/plain": [
       "<tf.Tensor: shape=(), dtype=float32, numpy=0.6666667>"
      ]
     },
     "execution_count": 20,
     "metadata": {},
     "output_type": "execute_result"
    }
   ],
   "source": [
    "# Categorical classification with m>2\n",
    "y_true = tf.constant([[0.0,1.0,0.0,0.0],[1.0,0.0,0.0,0.0],[0.0,0.0,1.0,0.0]])\n",
    "y_pred = tf.constant([[0.4,0.6,0.0,0.0], [0.3,0.2,0.1,0.4], [0.05,0.35,0.5,0.1]])\n",
    "accuracy = K.mean(K.equal(K.argmax(y_true, axis=-1), K.argmax(y_pred, axis=-1)))\n",
    "accuracy"
   ]
  },
  {
   "cell_type": "markdown",
   "metadata": {},
   "source": [
    "### Other examples of metrics\n",
    "We will now look at some other metrics in Keras. A full list is available at <https://keras.io/metrics/>."
   ]
  },
  {
   "cell_type": "markdown",
   "metadata": {},
   "source": [
    "#### Binary accuracy and categorical accuracy\n",
    "The `binary_accuracy` and `categorical_accuracy` metrics are, by default, identical to the Case 1 and 2 respectively of the `accuracy` metric explained above. \n",
    "\n",
    "However, using `binary_accuracy` allows you to use the optional `threshold` argument, which sets the minimum value of $y_{pred}$ which will be rounded to 1. As mentioned above, it is set as `threshold=0.5` by default.\n",
    "\n",
    "Below we give some examples of how to compile a model with `binary_accuracy` with and without a threshold."
   ]
  },
  {
   "cell_type": "code",
   "execution_count": 21,
   "metadata": {},
   "outputs": [],
   "source": [
    "# Compile the model with default threshold (=0.5)\n",
    "model.compile(optimizer='adam',\n",
    "              loss='sparse_categorical_crossentropy',\n",
    "              metrics=['binary_accuracy'])"
   ]
  },
  {
   "cell_type": "code",
   "execution_count": 22,
   "metadata": {},
   "outputs": [],
   "source": [
    "# The threshold can be specified as follows\n",
    "model.compile(optimizer='adam',\n",
    "              loss='sparse_categorical_crossentropy',\n",
    "              metrics=[tf.keras.metrics.BinaryAccuracy(threshold=0.5)])"
   ]
  },
  {
   "cell_type": "markdown",
   "metadata": {},
   "source": [
    "#### Sparse categorical accuracy\n",
    "\n",
    "This is a very similar metric to categorical accuracy with one major difference - the label $y_{true}$ of each training example is not expected to be a one-hot encoded vector, but to be a tensor consisting of a single integer. This integer is then compared to the index of the maximum argument of $y_{pred}$ to determine $\\delta(y_{pred}^{(i)},y_{true}^{(i)})$."
   ]
  },
  {
   "cell_type": "code",
   "execution_count": 23,
   "metadata": {},
   "outputs": [],
   "source": [
    "# Two examples of compiling a model with a sparse categorical accuracy metric\n",
    "model.compile(optimizer='adam',\n",
    "              loss='sparse_categorical_crossentropy',\n",
    "              metrics=[\"sparse_categorical_accuracy\"])\n",
    "\n",
    "model.compile(optimizer='adam',\n",
    "              loss='sparse_categorical_crossentropy',\n",
    "              metrics=[tf.keras.metrics.SparseCategoricalAccuracy()])"
   ]
  },
  {
   "cell_type": "markdown",
   "metadata": {},
   "source": [
    "#### (Sparse) Top $k$-categorical accuracy \n",
    "In top $k$-categorical accuracy, instead of computing how often the model correctly predicts the label of a training example, the metric computes how often the model has $y_{true}$ in the top $k$ of its predictions. By default, $k=5$.\n",
    "\n",
    "As before, the main difference between top $k$-categorical accuracy and its sparse version is that the former assumes $y_{true}$ is a one-hot encoded vector, whereas the sparse version assumes $y_{true}$ is an integer."
   ]
  },
  {
   "cell_type": "code",
   "execution_count": 24,
   "metadata": {},
   "outputs": [],
   "source": [
    "# Compile a model with a top-k categorical accuracy metric with default k (=5)\n",
    "model.compile(optimizer='adam',\n",
    "              loss='sparse_categorical_crossentropy',\n",
    "              metrics=[\"top_k_categorical_accuracy\"])"
   ]
  },
  {
   "cell_type": "code",
   "execution_count": 25,
   "metadata": {},
   "outputs": [],
   "source": [
    "# Specify k instead with the sparse top-k categorical accuracy\n",
    "model.compile(optimizer='adam',\n",
    "              loss='sparse_categorical_crossentropy',\n",
    "              metrics=[tf.keras.metrics.SparseTopKCategoricalAccuracy(k=3)])"
   ]
  },
  {
   "cell_type": "markdown",
   "metadata": {},
   "source": [
    "### Custom metrics\n",
    "It is also possible to define your own custom metric in Keras.\n",
    "You will need to make sure that your metric takes in (at least) two arguments called `y_true` and `y_pred` and then output a single tensor value."
   ]
  },
  {
   "cell_type": "code",
   "execution_count": 26,
   "metadata": {},
   "outputs": [],
   "source": [
    "# Define a custom metric\n",
    "def mean_pred(y_true, y_pred):\n",
    "    return K.mean(y_pred)"
   ]
  },
  {
   "cell_type": "markdown",
   "metadata": {},
   "source": [
    "We can then use this metric when we compile our model as follows."
   ]
  },
  {
   "cell_type": "code",
   "execution_count": 27,
   "metadata": {},
   "outputs": [],
   "source": [
    "# Specify k instead with the sparse top-k categorical accuracy\n",
    "model.compile(optimizer='adam',\n",
    "              loss='sparse_categorical_crossentropy',\n",
    "              metrics=[mean_pred])"
   ]
  },
  {
   "cell_type": "markdown",
   "metadata": {},
   "source": [
    "### Multiple metrics\n",
    "Finally, it is possible to use multiple metrics to judge the performance of your model. \n",
    "\n",
    "Here's an example:"
   ]
  },
  {
   "cell_type": "code",
   "execution_count": 28,
   "metadata": {},
   "outputs": [],
   "source": [
    "# Compile the model with multiple metrics\n",
    "model.compile(optimizer='adam',\n",
    "              loss='sparse_categorical_crossentropy',\n",
    "              metrics=[mean_pred, \"accuracy\",tf.keras.metrics.SparseTopKCategoricalAccuracy(k=3)])"
   ]
  },
  {
   "cell_type": "markdown",
   "metadata": {},
   "source": [
    "### Sources and Further Reading\n",
    "* The metrics page on the Keras website: https://keras.io/metrics/\n",
    "* The source code for the metrics: https://github.com/keras-team/keras/blob/master/keras/metrics.py"
   ]
  },
  {
   "cell_type": "markdown",
   "metadata": {},
   "source": [
    "## The fit method\n"
   ]
  },
  {
   "cell_type": "code",
   "execution_count": 29,
   "metadata": {},
   "outputs": [],
   "source": [
    "from tensorflow.keras.preprocessing import image"
   ]
  },
  {
   "cell_type": "markdown",
   "metadata": {},
   "source": [
    "### Load the data"
   ]
  },
  {
   "cell_type": "code",
   "execution_count": 30,
   "metadata": {},
   "outputs": [],
   "source": [
    "# Load the Fashion-MNIST dataset\n",
    "fashion_mnist_data = tf.keras.datasets.fashion_mnist\n",
    "(train_images, train_labels), (test_images, test_labels) = fashion_mnist_data.load_data()"
   ]
  },
  {
   "cell_type": "code",
   "execution_count": 32,
   "metadata": {},
   "outputs": [
    {
     "name": "stdout",
     "output_type": "stream",
     "text": [
      "(60000, 28, 28)\n"
     ]
    }
   ],
   "source": [
    "# Print the shape of the training data\n",
    "print(train_images.shape)"
   ]
  },
  {
   "cell_type": "code",
   "execution_count": 34,
   "metadata": {},
   "outputs": [
    {
     "name": "stdout",
     "output_type": "stream",
     "text": [
      "9\n",
      "Ankle boot\n"
     ]
    }
   ],
   "source": [
    "# Define the labels\n",
    "labels = [\n",
    "    'T-shirt/top',\n",
    "    'Trouser',\n",
    "    'Pullover',\n",
    "    'Dress',\n",
    "    'Coat',\n",
    "    'Sandal',\n",
    "    'Shirt',\n",
    "    'Sneaker',\n",
    "    'Bag',\n",
    "    'Ankle boot'\n",
    "]\n",
    "\n",
    "print(train_labels[0])\n",
    "print(labels[train_labels[0]])"
   ]
  },
  {
   "cell_type": "code",
   "execution_count": 35,
   "metadata": {},
   "outputs": [],
   "source": [
    "# Rescale the image values so that they lie in between 0 and 1.\n",
    "train_images = train_images / 255.\n",
    "test_images = test_images/ 255."
   ]
  },
  {
   "cell_type": "code",
   "execution_count": 38,
   "metadata": {},
   "outputs": [
    {
     "data": {
      "image/png": "[encoded data removed]",
      "text/plain": [
       "<Figure size 432x288 with 1 Axes>"
      ]
     },
     "metadata": {
      "needs_background": "light"
     },
     "output_type": "display_data"
    }
   ],
   "source": [
    "# Display one of the images\n",
    "sample = train_images[0, :, :]\n",
    "plt.imshow(sample)\n",
    "plt.show()"
   ]
  },
  {
   "cell_type": "markdown",
   "metadata": {},
   "source": [
    "### Fit the model"
   ]
  },
  {
   "cell_type": "code",
   "execution_count": 40,
   "metadata": {},
   "outputs": [
    {
     "name": "stdout",
     "output_type": "stream",
     "text": [
      "Model: \"sequential_5\"\n",
      "_________________________________________________________________\n",
      "Layer (type)                 Output Shape              Param #   \n",
      "=================================================================\n",
      "conv2d_2 (Conv2D)            (None, 26, 26, 16)        160       \n",
      "_________________________________________________________________\n",
      "max_pooling2d_2 (MaxPooling2 (None, 8, 8, 16)          0         \n",
      "_________________________________________________________________\n",
      "flatten_5 (Flatten)          (None, 1024)              0         \n",
      "_________________________________________________________________\n",
      "dense_11 (Dense)             (None, 10)                10250     \n",
      "=================================================================\n",
      "Total params: 10,410\n",
      "Trainable params: 10,410\n",
      "Non-trainable params: 0\n",
      "_________________________________________________________________\n"
     ]
    }
   ],
   "source": [
    "from tensorflow.keras.layers import MaxPooling2D\n",
    "\n",
    "model = Sequential([\n",
    "    Conv2D(16, (3, 3), activation='relu', input_shape=(28, 28, 1)),\n",
    "    MaxPooling2D((3, 3)),\n",
    "    Flatten(),\n",
    "    Dense(10, activation='softmax')\n",
    "])\n",
    "\n",
    "model.summary()"
   ]
  },
  {
   "cell_type": "code",
   "execution_count": 41,
   "metadata": {},
   "outputs": [],
   "source": [
    "opt = tf.keras.optimizers.Adam(learning_rate=0.005)\n",
    "acc = tf.keras.metrics.SparseCategoricalAccuracy()\n",
    "mae = tf.keras.metrics.MeanAbsoluteError()\n",
    "\n",
    "model.compile(optimizer=opt, loss='sparse_categorical_crossentropy',\n",
    "              metrics=[acc, mae])"
   ]
  },
  {
   "cell_type": "code",
   "execution_count": 42,
   "metadata": {},
   "outputs": [
    {
     "name": "stdout",
     "output_type": "stream",
     "text": [
      "Epoch 1/8\n",
      "235/235 - 1s - loss: 0.5683 - sparse_categorical_accuracy: 0.8006 - mean_absolute_error: 4.4200\n",
      "Epoch 2/8\n",
      "235/235 - 1s - loss: 0.3939 - sparse_categorical_accuracy: 0.8602 - mean_absolute_error: 4.4200\n",
      "Epoch 3/8\n",
      "235/235 - 1s - loss: 0.3585 - sparse_categorical_accuracy: 0.8732 - mean_absolute_error: 4.4200\n",
      "Epoch 4/8\n",
      "235/235 - 1s - loss: 0.3405 - sparse_categorical_accuracy: 0.8788 - mean_absolute_error: 4.4200\n",
      "Epoch 5/8\n",
      "235/235 - 1s - loss: 0.3290 - sparse_categorical_accuracy: 0.8827 - mean_absolute_error: 4.4200\n",
      "Epoch 6/8\n",
      "235/235 - 1s - loss: 0.3152 - sparse_categorical_accuracy: 0.8873 - mean_absolute_error: 4.4200\n",
      "Epoch 7/8\n",
      "235/235 - 1s - loss: 0.3046 - sparse_categorical_accuracy: 0.8922 - mean_absolute_error: 4.4200\n",
      "Epoch 8/8\n",
      "235/235 - 1s - loss: 0.2976 - sparse_categorical_accuracy: 0.8936 - mean_absolute_error: 4.4200\n"
     ]
    }
   ],
   "source": [
    "# Fit the model\n",
    "history = model.fit(train_images[..., tf.newaxis], train_labels, epochs=8, batch_size=256, verbose=2)"
   ]
  },
  {
   "cell_type": "markdown",
   "metadata": {},
   "source": [
    "### Plot training history"
   ]
  },
  {
   "cell_type": "code",
   "execution_count": 43,
   "metadata": {},
   "outputs": [
    {
     "data": {
      "text/html": [
       "<div>\n",
       "<style scoped>\n",
       "    .dataframe tbody tr th:only-of-type {\n",
       "        vertical-align: middle;\n",
       "    }\n",
       "\n",
       "    .dataframe tbody tr th {\n",
       "        vertical-align: top;\n",
       "    }\n",
       "\n",
       "    .dataframe thead th {\n",
       "        text-align: right;\n",
       "    }\n",
       "</style>\n",
       "<table border=\"1\" class=\"dataframe\">\n",
       "  <thead>\n",
       "    <tr style=\"text-align: right;\">\n",
       "      <th></th>\n",
       "      <th>loss</th>\n",
       "      <th>sparse_categorical_accuracy</th>\n",
       "      <th>mean_absolute_error</th>\n",
       "    </tr>\n",
       "  </thead>\n",
       "  <tbody>\n",
       "    <tr>\n",
       "      <th>0</th>\n",
       "      <td>0.568350</td>\n",
       "      <td>0.800600</td>\n",
       "      <td>4.420000</td>\n",
       "    </tr>\n",
       "    <tr>\n",
       "      <th>1</th>\n",
       "      <td>0.393926</td>\n",
       "      <td>0.860250</td>\n",
       "      <td>4.420000</td>\n",
       "    </tr>\n",
       "    <tr>\n",
       "      <th>2</th>\n",
       "      <td>0.358524</td>\n",
       "      <td>0.873200</td>\n",
       "      <td>4.420001</td>\n",
       "    </tr>\n",
       "    <tr>\n",
       "      <th>3</th>\n",
       "      <td>0.340509</td>\n",
       "      <td>0.878767</td>\n",
       "      <td>4.419999</td>\n",
       "    </tr>\n",
       "    <tr>\n",
       "      <th>4</th>\n",
       "      <td>0.329038</td>\n",
       "      <td>0.882717</td>\n",
       "      <td>4.420001</td>\n",
       "    </tr>\n",
       "  </tbody>\n",
       "</table>\n",
       "</div>"
      ],
      "text/plain": [
       "       loss  sparse_categorical_accuracy  mean_absolute_error\n",
       "0  0.568350                     0.800600             4.420000\n",
       "1  0.393926                     0.860250             4.420000\n",
       "2  0.358524                     0.873200             4.420001\n",
       "3  0.340509                     0.878767             4.419999\n",
       "4  0.329038                     0.882717             4.420001"
      ]
     },
     "execution_count": 43,
     "metadata": {},
     "output_type": "execute_result"
    }
   ],
   "source": [
    "# Load the history into a pandas DataFrame\n",
    "df = pd.DataFrame(history.history)\n",
    "df.head()"
   ]
  },
  {
   "cell_type": "code",
   "execution_count": 44,
   "metadata": {},
   "outputs": [
    {
     "data": {
      "image/png": "[encoded data removed]",
      "text/plain": [
       "<Figure size 432x288 with 1 Axes>"
      ]
     },
     "metadata": {
      "needs_background": "light"
     },
     "output_type": "display_data"
    }
   ],
   "source": [
    "# Make a plot for the loss\n",
    "loss_plot = df.plot(y='loss', title='Loss vs. Epochs', legend=False)\n",
    "loss_plot.set(xlabel='Epochs', ylabel='Loss')\n",
    "plt.show()"
   ]
  },
  {
   "cell_type": "markdown",
   "metadata": {},
   "source": [
    "## The evaluate and predict methods\n"
   ]
  },
  {
   "cell_type": "markdown",
   "metadata": {},
   "source": [
    "### Evaluate the model on the test set\n"
   ]
  },
  {
   "cell_type": "code",
   "execution_count": 46,
   "metadata": {},
   "outputs": [
    {
     "name": "stdout",
     "output_type": "stream",
     "text": [
      "313/313 [==============================] - 0s 2ms/step - loss: 0.3224 - sparse_categorical_accuracy: 0.8875 - mean_absolute_error: 4.4200\n"
     ]
    }
   ],
   "source": [
    "# Evaluate the model\n",
    "test_loss, test_accuracy, test_mae = model.evaluate(test_images[..., tf.newaxis], test_labels)"
   ]
  },
  {
   "cell_type": "code",
   "execution_count": 47,
   "metadata": {},
   "outputs": [
    {
     "name": "stdout",
     "output_type": "stream",
     "text": [
      "0.32237496972084045 0.887499988079071 4.419997215270996\n"
     ]
    }
   ],
   "source": [
    "print(test_loss, test_accuracy, test_mae)"
   ]
  },
  {
   "cell_type": "markdown",
   "metadata": {},
   "source": [
    "### Make predictions from the model"
   ]
  },
  {
   "cell_type": "code",
   "execution_count": 50,
   "metadata": {},
   "outputs": [
    {
     "data": {
      "image/png": "[encoded data removed]",
      "text/plain": [
       "<Figure size 432x288 with 1 Axes>"
      ]
     },
     "metadata": {
      "needs_background": "light"
     },
     "output_type": "display_data"
    },
    {
     "name": "stdout",
     "output_type": "stream",
     "text": [
      "Label: Dress\n"
     ]
    }
   ],
   "source": [
    "# Choose a random test image\n",
    "random_idx = np.random.choice(test_images.shape[0])\n",
    "sample = test_images[random_idx]\n",
    "plt.imshow(sample)\n",
    "plt.show()\n",
    "print(f\"Label: {labels[test_labels[random_idx]]}\")"
   ]
  },
  {
   "cell_type": "code",
   "execution_count": 54,
   "metadata": {},
   "outputs": [
    {
     "name": "stdout",
     "output_type": "stream",
     "text": [
      "Model prediction: Dress\n"
     ]
    }
   ],
   "source": [
    "# Get the model predictions\n",
    "predictions = model.predict(sample[tf.newaxis, ..., tf.newaxis])\n",
    "print(f\"Model prediction: {labels[np.argmax(predictions)]}\")"
   ]
  }
 ],
 "metadata": {
  "kernelspec": {
   "display_name": "Python 3",
   "language": "python",
   "name": "python3"
  },
  "language_info": {
   "codemirror_mode": {
    "name": "ipython",
    "version": 3
   },
   "file_extension": ".py",
   "mimetype": "text/x-python",
   "name": "python",
   "nbconvert_exporter": "python",
   "pygments_lexer": "ipython3",
   "version": "3.7.6"
  }
 },
 "nbformat": 4,
 "nbformat_minor": 4
}
