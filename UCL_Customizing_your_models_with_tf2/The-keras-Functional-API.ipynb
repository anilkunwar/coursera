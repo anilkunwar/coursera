{
 "cells": [
  {
   "cell_type": "markdown",
   "metadata": {},
   "source": [
    "# The Keras Functional API\n",
    "\n",
    "> In this post, it will introduce the Funtional API as an alternative way of building the planning model in Tensorflow. This is the summary of lecture \"Customizing your model with Tensorflow 2\" from Coursera.\n",
    "\n",
    "- toc: true \n",
    "- badges: true\n",
    "- comments: true\n",
    "- author: Chanseok Kang\n",
    "- categories: [Python, Coursera, Deep_Learning, Tensorflow]\n",
    "- image: "
   ]
  },
  {
   "cell_type": "code",
   "execution_count": 1,
   "metadata": {},
   "outputs": [
    {
     "name": "stdout",
     "output_type": "stream",
     "text": [
      "2.3.1\n"
     ]
    }
   ],
   "source": [
    "import numpy as np\n",
    "import pandas as pd\n",
    "import matplotlib.pyplot as plt\n",
    "import tensorflow as tf\n",
    "\n",
    "plt.rcParams['figure.figsize'] = (16, 10)\n",
    "\n",
    "print(tf.__version__)"
   ]
  },
  {
   "cell_type": "markdown",
   "metadata": {},
   "source": [
    "## The Keras functional API\n",
    "\n",
    "The reason you might want to use is if you need more flexibility in the type of model you want to build. For example, perhaps your model has multiple inputs and outputs because you're training and multitask learning model, or maybe you're using conditioning variables, or perhaps it has some complicated nonlinear topology with the layers feeding into multiple other layers in the network, something like a residual network or a DenseNet, for example. These are types of networks that can't be built in the simple linear fashion offered by the Sequential API. But the Functional API, makes it easy to build those types of networks. \n",
    "\n",
    "### Example of Sequential API\n",
    "```python\n",
    "from tensorflow.keras.models import Sequential\n",
    "from tensorflow.keras.layers import Dense, Flatten, Conv1D, AveragePooling1D\n",
    "\n",
    "model = Sequential([\n",
    "    Conv1D(16, 5, activation='relu', input_shape=(32, 1)),\n",
    "    AveragePooling1D(3),\n",
    "    Flatten(),\n",
    "    Dense(20, activation='sigmoid')\n",
    "])\n",
    "```\n",
    "\n",
    "### Example of Functional API\n",
    "\n",
    "```python\n",
    "from tensorflow.keras.layers import Input, Dense, Flatten, Conv1D, AveragePooling1D\n",
    "from tensorflow.keras.models import Model\n",
    "\n",
    "inputs = Input(shape=(32, 1))\n",
    "h = Conv1D(16, 5, activation='relu')(inputs)\n",
    "h = AveragePooling1D(3)(h)\n",
    "h = Flatten()(h)\n",
    "outputs = Dense(20, activation='sigmoid')(h)\n",
    "\n",
    "model = Model(inputs=inputs, outputs=outputs)\n",
    "```\n",
    "\n",
    "The difference between them is how we build the model."
   ]
  },
  {
   "cell_type": "markdown",
   "metadata": {},
   "source": [
    "## Multiple inputs and outputs\n",
    "\n",
    "The key point is that we instantiate the layers that we want in the same way as we do for the sequential model. But we then use those layer objects as functions that call on an input tensor and return a layer output tensor.\n",
    "\n",
    "### Multiple inputs Example\n",
    "\n",
    "```python\n",
    "from tensorflow.keras.models import Model\n",
    "from tensorflow.keras.layers import Input, Dense, Flatten, Conv1D, AveragePooling1D, Concatenate\n",
    "\n",
    "inputs = Inputs(shape=(32, 1))\n",
    "h = Conv1D(16, 5, activation='relu')(inputs)\n",
    "h = AveragePooling1D(3)(h)\n",
    "h = Flatten()(h)\n",
    "aux_inputs = Input(shape=(12, 1))\n",
    "h = Concatenate()([h, aux_inputs])\n",
    "outputs = Dense(20, activation='sigmoid')(h)\n",
    "\n",
    "model = Model(inputs=[inputs, aux_inputs], outputs=outputs)\n",
    "```\n",
    "\n",
    "### Multiple outputs Example\n",
    "\n",
    "```python\n",
    "from tensorflow.keras.models import Model\n",
    "from tensorflow.keras.layers import Input, Dense, Flatten, Conv1D, AveragePooling1D, Concatenate\n",
    "\n",
    "inputs = Inputs(shape=(32, 1))\n",
    "h = Conv1D(16, 5, activation='relu')(inputs)\n",
    "h = AveragePooling1D(3)(h)\n",
    "h = Flatten()(h)\n",
    "aux_inputs = Input(shape=(12, 1))\n",
    "h = Concatenate()([h, aux_inputs])\n",
    "outputs = Dense(20, activation='sigmoid')(h)\n",
    "aux_outputs = Dense(1, activation='linear')(h)\n",
    "\n",
    "model = Model(inputs=[inputs, aux_inputs], outputs=[outputs, aux_outputs])\n",
    "```\n",
    "\n",
    "When we use multiple inputs and outputs, we need to look carefully when we compile and fit the model\n",
    "\n",
    "```python\n",
    "model.compile(loss=['binary_crossentropy', 'mse'], loss_weights=[1, 0.4], metrics=['accuracy'])\n",
    "history = model.fit([X_train, X_aux], [y_train, y_aux], validation_split=0.2, epochs=20)\n",
    "```\n",
    "\n",
    "In this case, loss will be\n",
    "\n",
    "$$ 1 \\times \\text{binary_crossentropy loss} + 0.4 \\times \\text{mse loss} $$\n",
    "\n",
    "Or we can change the compile and fit function like this,\n",
    "\n",
    "```python\n",
    "model.compile(loss={'outputs': 'binary_crossentropy', 'aux_outputs': 'mse'}, \n",
    "              loss_weights{'outputs':1, 'aux_outputs': 0.4}, metrics=['accuracy'])\n",
    "history = model.fit({'inputs': X_train, 'aux_inputs': X_aux},\n",
    "                    {'outputs':y_train, 'aux_outputs': y_aux},\n",
    "                     validation_split=0.2, epochs=20)\n",
    "```"
   ]
  },
  {
   "cell_type": "markdown",
   "metadata": {},
   "source": [
    "### Multiple inputs and outputs - Coding Tutorial\n",
    "\n",
    "#### Load the acute inflammations dataset\n",
    "\n",
    "The `acute inflammations` was created by a medical expert as a data set to test the expert system, which will perform the presumptive diagnosis of two diseases of the urinary system. You can find out more about the dataset [here](https://archive.ics.uci.edu/ml/datasets/Acute+Inflammations).\n",
    "\n",
    "Attribute information:\n",
    "\n",
    "Inputs:\n",
    "- Temperature of patient : 35C-42C\n",
    "- Occurrence of nausea : yes/no\n",
    "- Lumbar pain : yes/no\n",
    "- Urine pushing (continuous need for urination) : yes/no\n",
    "- Micturition pains : yes/no\n",
    "- Burning of urethra, itch, swelling of urethra outlet : yes/no\n",
    "\n",
    "Outputs:\n",
    "- decision 1: Inflammation of urinary bladder : yes/no\n",
    "- decision 2: Nephritis of renal pelvis origin : yes/no"
   ]
  },
  {
   "cell_type": "markdown",
   "metadata": {},
   "source": [
    "#### Load the data"
   ]
  },
  {
   "cell_type": "code",
   "execution_count": 2,
   "metadata": {},
   "outputs": [],
   "source": [
    "df = pd.read_csv('./dataset/diagnosis.csv')\n",
    "df.head()\n",
    "dataset = df.values"
   ]
  },
  {
   "cell_type": "code",
   "execution_count": 3,
   "metadata": {},
   "outputs": [
    {
     "name": "stdout",
     "output_type": "stream",
     "text": [
      "(80, 6) (40, 6)\n",
      "(80, 2) (40, 2)\n"
     ]
    }
   ],
   "source": [
    "# Build train and test data split\n",
    "from sklearn.model_selection import train_test_split\n",
    "\n",
    "X_train, X_test, y_train, y_test = train_test_split(dataset[:, :6], dataset[:, 6:], test_size=0.33)\n",
    "print(X_train.shape, X_test.shape)\n",
    "print(y_train.shape, y_test.shape)"
   ]
  },
  {
   "cell_type": "code",
   "execution_count": 4,
   "metadata": {},
   "outputs": [],
   "source": [
    "## Assign training and testing inputs/outputs\n",
    "temp_train, nocc_train, lumbp_train, up_train, mict_train, bis_train = np.transpose(X_train)\n",
    "temp_test, nocc_test, lumbp_test, up_test, mict_test, bis_test = np.transpose(X_test)\n",
    "\n",
    "inflam_train, nephr_train = y_train[:, 0], y_train[:, 1]\n",
    "inflam_test, nephr_test = y_test[:, 0], y_test[:, 1]"
   ]
  },
  {
   "cell_type": "code",
   "execution_count": 5,
   "metadata": {},
   "outputs": [
    {
     "data": {
      "text/plain": [
       "array([41.1, 40. , 40.4, 37. , 37. , 41.5, 40.2, 36. , 37.9, 36.6, 38. ,\n",
       "       37.7, 40. , 40.6, 40.5, 40.4, 40. , 36.6, 40.7, 39.4, 36.8, 37.3,\n",
       "       40. , 37.6, 37.5, 37.5, 36.8, 41.4, 36.6, 37.7, 41.5, 41.5, 39.7,\n",
       "       40.6, 37.3, 40.4, 37.9, 37.1, 36. , 36.3, 40. , 41.2, 38.7, 37.7,\n",
       "       40.7, 41.1, 37.1, 36. , 41. , 40.7, 37.9, 38.1, 37.2, 37.5, 38.3,\n",
       "       35.5, 41. , 37. , 37.8, 36.7, 40.8, 36.9, 37.4, 37. , 40.4, 38.5,\n",
       "       40. , 37.5, 40.4, 41. , 37.4, 41.2, 41.2, 37.1, 40. , 36.7, 36.2,\n",
       "       40.7, 37. , 36.9])"
      ]
     },
     "execution_count": 5,
     "metadata": {},
     "output_type": "execute_result"
    }
   ],
   "source": [
    "temp_train"
   ]
  },
  {
   "cell_type": "markdown",
   "metadata": {},
   "source": [
    "#### Build the model"
   ]
  },
  {
   "cell_type": "code",
   "execution_count": 6,
   "metadata": {},
   "outputs": [],
   "source": [
    "from tensorflow.keras import Input\n",
    "\n",
    "shape_inputs = (1, )\n",
    "temperature = Input(shape=shape_inputs, name='temp')\n",
    "nausea_occurence = Input(shape=shape_inputs, name='nocc')\n",
    "lumbar_pain = Input(shape=shape_inputs, name='lumbp')\n",
    "urine_pushing = Input(shape=shape_inputs, name='up')\n",
    "micturition_pains = Input(shape=shape_inputs, name='mict')\n",
    "bis = Input(shape=shape_inputs, name='bis')\n",
    "\n",
    "list_inputs = [temperature, nausea_occurence, lumbar_pain, urine_pushing, micturition_pains, bis]"
   ]
  },
  {
   "cell_type": "code",
   "execution_count": 7,
   "metadata": {},
   "outputs": [],
   "source": [
    "from tensorflow.keras.layers import concatenate\n",
    "\n",
    "# Merge all input features into a single large vector\n",
    "x = concatenate(list_inputs)"
   ]
  },
  {
   "cell_type": "code",
   "execution_count": 8,
   "metadata": {},
   "outputs": [],
   "source": [
    "from tensorflow.keras.layers import Dense\n",
    "\n",
    "# Use logistic regression classifier for disease prediction\n",
    "inflammation_pred = Dense(1, activation='sigmoid', name='inflam')(x)\n",
    "nephritis_pred = Dense(1, activation='sigmoid', name='nephr')(x)"
   ]
  },
  {
   "cell_type": "code",
   "execution_count": 9,
   "metadata": {},
   "outputs": [],
   "source": [
    "# Create a list of all the outputs\n",
    "list_outputs = [inflammation_pred, nephritis_pred]"
   ]
  },
  {
   "cell_type": "code",
   "execution_count": 10,
   "metadata": {},
   "outputs": [
    {
     "name": "stdout",
     "output_type": "stream",
     "text": [
      "Model: \"functional_1\"\n",
      "__________________________________________________________________________________________________\n",
      "Layer (type)                    Output Shape         Param #     Connected to                     \n",
      "==================================================================================================\n",
      "temp (InputLayer)               [(None, 1)]          0                                            \n",
      "__________________________________________________________________________________________________\n",
      "nocc (InputLayer)               [(None, 1)]          0                                            \n",
      "__________________________________________________________________________________________________\n",
      "lumbp (InputLayer)              [(None, 1)]          0                                            \n",
      "__________________________________________________________________________________________________\n",
      "up (InputLayer)                 [(None, 1)]          0                                            \n",
      "__________________________________________________________________________________________________\n",
      "mict (InputLayer)               [(None, 1)]          0                                            \n",
      "__________________________________________________________________________________________________\n",
      "bis (InputLayer)                [(None, 1)]          0                                            \n",
      "__________________________________________________________________________________________________\n",
      "concatenate (Concatenate)       (None, 6)            0           temp[0][0]                       \n",
      "                                                                 nocc[0][0]                       \n",
      "                                                                 lumbp[0][0]                      \n",
      "                                                                 up[0][0]                         \n",
      "                                                                 mict[0][0]                       \n",
      "                                                                 bis[0][0]                        \n",
      "__________________________________________________________________________________________________\n",
      "inflam (Dense)                  (None, 1)            7           concatenate[0][0]                \n",
      "__________________________________________________________________________________________________\n",
      "nephr (Dense)                   (None, 1)            7           concatenate[0][0]                \n",
      "==================================================================================================\n",
      "Total params: 14\n",
      "Trainable params: 14\n",
      "Non-trainable params: 0\n",
      "__________________________________________________________________________________________________\n"
     ]
    }
   ],
   "source": [
    "from tensorflow.keras.models import Model\n",
    "\n",
    "# Create the model object\n",
    "model = Model(inputs=list_inputs, outputs=list_outputs)\n",
    "model.summary()"
   ]
  },
  {
   "cell_type": "markdown",
   "metadata": {},
   "source": [
    "#### Plot the model"
   ]
  },
  {
   "cell_type": "code",
   "execution_count": 15,
   "metadata": {},
   "outputs": [
    {
     "data": {
      "image/png": "[encoded data removed]",
      "text/plain": [
       "<IPython.core.display.Image object>"
      ]
     },
     "execution_count": 15,
     "metadata": {},
     "output_type": "execute_result"
    }
   ],
   "source": [
    "from tensorflow.keras.utils import plot_model\n",
    "\n",
    "plot_model(model, 'multi_input_output_model.png', show_shapes=True)"
   ]
  },
  {
   "cell_type": "markdown",
   "metadata": {},
   "source": [
    "#### Compile the model"
   ]
  },
  {
   "cell_type": "code",
   "execution_count": 16,
   "metadata": {},
   "outputs": [],
   "source": [
    "model.compile(optimizer=tf.keras.optimizers.RMSprop(1e-3),\n",
    "              loss={'inflam': 'binary_crossentropy', \n",
    "                    'nephr': 'binary_crossentropy'},\n",
    "              metrics={\n",
    "                  'inflam': ['accuracy'],\n",
    "                  'nephr': ['accuracy']\n",
    "              },\n",
    "              loss_weights={\n",
    "                  'inflam': 1.,\n",
    "                  'nephr': 0.2\n",
    "              })"
   ]
  },
  {
   "cell_type": "markdown",
   "metadata": {},
   "source": [
    "#### Fit the model"
   ]
  },
  {
   "cell_type": "code",
   "execution_count": 17,
   "metadata": {},
   "outputs": [],
   "source": [
    "# Define training inputs and ouptuts\n",
    "inputs_train = {'temp': temp_train, 'nocc': nocc_train, 'lumbp': lumbp_train,\n",
    "                'up': up_train, 'mict': mict_train, 'bis': bis_train}\n",
    "\n",
    "outputs_train = {'inflam': inflam_train, 'nephr': nephr_train}"
   ]
  },
  {
   "cell_type": "code",
   "execution_count": 18,
   "metadata": {},
   "outputs": [],
   "source": [
    "# Train the model\n",
    "history = model.fit(inputs_train, outputs_train,\n",
    "                    epochs=1000,\n",
    "                    batch_size=128,\n",
    "                    verbose=False)"
   ]
  },
  {
   "cell_type": "markdown",
   "metadata": {},
   "source": [
    "#### Plot the learning curves"
   ]
  },
  {
   "cell_type": "code",
   "execution_count": 19,
   "metadata": {},
   "outputs": [],
   "source": [
    "acc_keys = [k for k in history.history.keys() if k in ('inflam_accuracy', 'nephr_accuracy')]\n",
    "loss_keys = [k for k in history.history.keys() if not k in acc_keys]"
   ]
  },
  {
   "cell_type": "code",
   "execution_count": 20,
   "metadata": {},
   "outputs": [
    {
     "data": {
      "image/png": "[encoded data removed]",
      "text/plain": [
       "<Figure size 1152x720 with 1 Axes>"
      ]
     },
     "metadata": {
      "needs_background": "light"
     },
     "output_type": "display_data"
    },
    {
     "data": {
      "image/png": "[encoded data removed]",
      "text/plain": [
       "<Figure size 1152x720 with 1 Axes>"
      ]
     },
     "metadata": {
      "needs_background": "light"
     },
     "output_type": "display_data"
    }
   ],
   "source": [
    "for k, v in history.history.items():\n",
    "    if k in acc_keys:\n",
    "        plt.figure(1)\n",
    "        plt.plot(v)\n",
    "    else:\n",
    "        plt.figure(2)\n",
    "        plt.plot(v)\n",
    "        \n",
    "plt.figure(1)\n",
    "plt.title('Accuracy vs. epochs')\n",
    "plt.ylabel('Accuracy')\n",
    "plt.xlabel('Epoch')\n",
    "plt.legend(acc_keys, loc='best')\n",
    "\n",
    "plt.figure(2)\n",
    "plt.title('Loss vs. epochs')\n",
    "plt.ylabel('Loss')\n",
    "plt.xlabel('Epoch')\n",
    "plt.legend(loss_keys, loc='best')\n",
    "plt.show()"
   ]
  },
  {
   "cell_type": "code",
   "execution_count": 21,
   "metadata": {},
   "outputs": [
    {
     "name": "stdout",
     "output_type": "stream",
     "text": [
      "2/2 - 0s - loss: 0.5562 - inflam_loss: 0.4258 - nephr_loss: 0.6520 - inflam_accuracy: 1.0000 - nephr_accuracy: 0.4500\n"
     ]
    },
    {
     "data": {
      "text/plain": [
       "[0.5562416315078735,\n",
       " 0.42584753036499023,\n",
       " 0.651970386505127,\n",
       " 1.0,\n",
       " 0.44999998807907104]"
      ]
     },
     "execution_count": 21,
     "metadata": {},
     "output_type": "execute_result"
    }
   ],
   "source": [
    "# Evaluate the model\n",
    "\n",
    "model.evaluate([temp_test, nocc_test, lumbp_test, up_test, mict_test, bis_test], \n",
    "               [inflam_test, nephr_test], verbose=2)"
   ]
  },
  {
   "cell_type": "markdown",
   "metadata": {},
   "source": [
    "## Variables\n",
    "\n",
    "An important point about tensorflow variablesis that they persist throughout your program, but they contain values that can be changed over the course of your program. Usually, we'll be using\n",
    "variables as part of our models, and when we call `model.fit` to launch the training run, this will change the variable values for us as part of the optimization, but we can also change the variable values manually. Every variable has an assigned method, and we can just pass this method a new value for the\n",
    "variable to store. Notice that the new value on assigning needs to be the right shape for the variable.\n",
    "\n",
    "```python\n",
    "import tensorflow as tf\n",
    "\n",
    "my_var = tf.Variable([-1, 2], dtype=tf.float32, name='my_var')\n",
    "my_var.assign([3.5, -1.])\n",
    "```"
   ]
  },
  {
   "cell_type": "markdown",
   "metadata": {},
   "source": [
    "## Tensors\n",
    "\n",
    "Tensors - Multidimensional versions of vectors and arrays\n",
    "\n",
    "When we build that neural network models, what we're doing is defining a computational graph\n",
    "where input data is processed through the layers of the network and sent through the graph\n",
    "all the way to the outputs. Tensors of the object that gets passed around within the graph and capture those computations within the graph."
   ]
  },
  {
   "cell_type": "markdown",
   "metadata": {},
   "source": [
    "### Example 1"
   ]
  },
  {
   "cell_type": "code",
   "execution_count": 22,
   "metadata": {},
   "outputs": [
    {
     "name": "stdout",
     "output_type": "stream",
     "text": [
      "tf.Tensor([4. 6.], shape=(2,), dtype=float32)\n"
     ]
    }
   ],
   "source": [
    "# Example\n",
    "# Simple computation graph\n",
    "my_var = tf.Variable([-1, 2], dtype=tf.float32, name='my_var')\n",
    "h = my_var + [5, 4]\n",
    "\n",
    "print(h)"
   ]
  },
  {
   "cell_type": "markdown",
   "metadata": {},
   "source": [
    "### Example 2"
   ]
  },
  {
   "cell_type": "code",
   "execution_count": 23,
   "metadata": {},
   "outputs": [
    {
     "name": "stdout",
     "output_type": "stream",
     "text": [
      "Tensor(\"dense/Relu:0\", shape=(None, 16), dtype=float32)\n"
     ]
    }
   ],
   "source": [
    "from tensorflow.keras.layers import Dense, Input\n",
    "\n",
    "inputs = Input(shape=(5, ))\n",
    "h = Dense(16, activation='relu')(inputs)\n",
    "\n",
    "print(h)"
   ]
  },
  {
   "cell_type": "code",
   "execution_count": 24,
   "metadata": {},
   "outputs": [
    {
     "name": "stdout",
     "output_type": "stream",
     "text": [
      "Tensor(\"input_2:0\", shape=(None, 5), dtype=float32)\n",
      "Tensor(\"dense_2/Softmax:0\", shape=(None, 10), dtype=float32)\n"
     ]
    }
   ],
   "source": [
    "inputs = Input(shape=(5, ))\n",
    "h = Dense(16, activation='sigmoid')(inputs)\n",
    "outputs = Dense(10, activation='softmax')(h)\n",
    "\n",
    "model = Model(inputs=inputs, outputs=outputs)\n",
    "\n",
    "print(model.input)\n",
    "print(model.output)"
   ]
  },
  {
   "cell_type": "markdown",
   "metadata": {},
   "source": [
    "## Variables and Tensors - Coding Tutorial\n",
    "\n",
    "### Create variable objects"
   ]
  },
  {
   "cell_type": "code",
   "execution_count": 25,
   "metadata": {},
   "outputs": [],
   "source": [
    "strings = tf.Variable(['Hello world!'], dtype=tf.string)\n",
    "floats = tf.Variable([3.14159, 2.71828], dtype=tf.float32)\n",
    "ints = tf.Variable([1, 2, 3], dtype=tf.int32)\n",
    "complexs = tf.Variable([25.9 - 7.39j, 1.23 - 4.91j], tf.complex128)"
   ]
  },
  {
   "cell_type": "code",
   "execution_count": 26,
   "metadata": {},
   "outputs": [
    {
     "data": {
      "text/plain": [
       "<tf.Variable 'Variable:0' shape=(3, 3) dtype=float32, numpy=\n",
       "array([[4.2, 4.2, 4.2],\n",
       "       [4.2, 4.2, 4.2],\n",
       "       [4.2, 4.2, 4.2]], dtype=float32)>"
      ]
     },
     "execution_count": 26,
     "metadata": {},
     "output_type": "execute_result"
    }
   ],
   "source": [
    "# Initialize a Variable value\n",
    "tf.Variable(tf.constant(4.2, shape=(3, 3)))"
   ]
  },
  {
   "cell_type": "markdown",
   "metadata": {},
   "source": [
    "### Use and modify variable values"
   ]
  },
  {
   "cell_type": "code",
   "execution_count": 27,
   "metadata": {},
   "outputs": [
    {
     "name": "stdout",
     "output_type": "stream",
     "text": [
      "<class 'tensorflow.python.framework.ops.EagerTensor'>\n"
     ]
    }
   ],
   "source": [
    "v = tf.Variable(0.0)\n",
    "w = v + 1\n",
    "\n",
    "print(type(w))"
   ]
  },
  {
   "cell_type": "code",
   "execution_count": 28,
   "metadata": {},
   "outputs": [
    {
     "name": "stdout",
     "output_type": "stream",
     "text": [
      "<tf.Variable 'Variable:0' shape=() dtype=float32, numpy=1.0>\n"
     ]
    }
   ],
   "source": [
    "# Increment the value of a variable\n",
    "v.assign_add(1)\n",
    "print(v)"
   ]
  },
  {
   "cell_type": "code",
   "execution_count": 29,
   "metadata": {},
   "outputs": [
    {
     "name": "stdout",
     "output_type": "stream",
     "text": [
      "<tf.Variable 'Variable:0' shape=() dtype=float32, numpy=0.0>\n"
     ]
    }
   ],
   "source": [
    "# Decrement the value of a variable\n",
    "v.assign_sub(1)\n",
    "print(v)"
   ]
  },
  {
   "cell_type": "markdown",
   "metadata": {},
   "source": [
    "### Create Tensor objects\n",
    "\n",
    "Create a constant tensor and print its type as well as its shape"
   ]
  },
  {
   "cell_type": "code",
   "execution_count": 30,
   "metadata": {},
   "outputs": [
    {
     "name": "stdout",
     "output_type": "stream",
     "text": [
      "tf.Tensor(\n",
      "[[1 2 3]\n",
      " [4 5 6]\n",
      " [7 8 9]], shape=(3, 3), dtype=int32)\n",
      "dtype:  <dtype: 'int32'>\n",
      "shape:  (3, 3)\n"
     ]
    }
   ],
   "source": [
    "x = tf.constant([[1, 2, 3], [4, 5, 6], [7, 8, 9]])\n",
    "print(x)\n",
    "print('dtype: ', x.dtype)\n",
    "print('shape: ', x.shape)"
   ]
  },
  {
   "cell_type": "code",
   "execution_count": 31,
   "metadata": {},
   "outputs": [
    {
     "data": {
      "text/plain": [
       "array([[1, 2, 3],\n",
       "       [4, 5, 6],\n",
       "       [7, 8, 9]])"
      ]
     },
     "execution_count": 31,
     "metadata": {},
     "output_type": "execute_result"
    }
   ],
   "source": [
    "# Obtain the value as a numpy array\n",
    "x.numpy()"
   ]
  },
  {
   "cell_type": "code",
   "execution_count": 32,
   "metadata": {},
   "outputs": [
    {
     "name": "stdout",
     "output_type": "stream",
     "text": [
      "<dtype: 'float32'>\n"
     ]
    }
   ],
   "source": [
    "# Create a tensor of type float32\n",
    "x = tf.constant([[1, 2, 3], [4, 5, 6], [7, 8, 9]], dtype=tf.float32)\n",
    "print(x.dtype)"
   ]
  },
  {
   "cell_type": "code",
   "execution_count": 33,
   "metadata": {},
   "outputs": [],
   "source": [
    "# Create coefficients\n",
    "coeffs = np.arange(16)"
   ]
  },
  {
   "cell_type": "code",
   "execution_count": 34,
   "metadata": {},
   "outputs": [],
   "source": [
    "# Initialize shapes\n",
    "shape1 = [8, 2]\n",
    "shape2 = [4, 4]\n",
    "shape3 = [2, 2, 2, 2]"
   ]
  },
  {
   "cell_type": "code",
   "execution_count": 35,
   "metadata": {},
   "outputs": [
    {
     "name": "stdout",
     "output_type": "stream",
     "text": [
      "\n",
      " a:\n",
      "  tf.Tensor(\n",
      "[[ 0  1]\n",
      " [ 2  3]\n",
      " [ 4  5]\n",
      " [ 6  7]\n",
      " [ 8  9]\n",
      " [10 11]\n",
      " [12 13]\n",
      " [14 15]], shape=(8, 2), dtype=int32)\n",
      "\n",
      " b:\n",
      "  tf.Tensor(\n",
      "[[ 0  1  2  3]\n",
      " [ 4  5  6  7]\n",
      " [ 8  9 10 11]\n",
      " [12 13 14 15]], shape=(4, 4), dtype=int32)\n",
      "\n",
      " c:\n",
      "  tf.Tensor(\n",
      "[[[[ 0  1]\n",
      "   [ 2  3]]\n",
      "\n",
      "  [[ 4  5]\n",
      "   [ 6  7]]]\n",
      "\n",
      "\n",
      " [[[ 8  9]\n",
      "   [10 11]]\n",
      "\n",
      "  [[12 13]\n",
      "   [14 15]]]], shape=(2, 2, 2, 2), dtype=int32)\n"
     ]
    }
   ],
   "source": [
    "# Create tensors of different shape\n",
    "a = tf.constant(coeffs, shape=shape1)\n",
    "print('\\n a:\\n ', a)\n",
    "\n",
    "b = tf.constant(coeffs, shape=shape2)\n",
    "print('\\n b:\\n ', b)\n",
    "\n",
    "c = tf.constant(coeffs, shape=shape3)\n",
    "print('\\n c:\\n ', c)"
   ]
  },
  {
   "cell_type": "markdown",
   "metadata": {},
   "source": [
    "### Useful Tensor operations"
   ]
  },
  {
   "cell_type": "code",
   "execution_count": 36,
   "metadata": {},
   "outputs": [],
   "source": [
    "# Create a constant tensor\n",
    "t = tf.constant(np.arange(80), shape=[5, 2, 8])"
   ]
  },
  {
   "cell_type": "code",
   "execution_count": 37,
   "metadata": {},
   "outputs": [],
   "source": [
    "# Get the rank of a Tensor\n",
    "rank = tf.rank(t)"
   ]
  },
  {
   "cell_type": "code",
   "execution_count": 38,
   "metadata": {},
   "outputs": [
    {
     "name": "stdout",
     "output_type": "stream",
     "text": [
      "rank : tf.Tensor(3, shape=(), dtype=int32)\n"
     ]
    }
   ],
   "source": [
    "# Display the rank\n",
    "print('rank :', rank)"
   ]
  },
  {
   "cell_type": "code",
   "execution_count": 39,
   "metadata": {},
   "outputs": [],
   "source": [
    "# Reshape a Tensor\n",
    "t2 = tf.reshape(t, [8, 10])"
   ]
  },
  {
   "cell_type": "code",
   "execution_count": 40,
   "metadata": {},
   "outputs": [
    {
     "name": "stdout",
     "output_type": "stream",
     "text": [
      "t2.shape:  (8, 10)\n"
     ]
    }
   ],
   "source": [
    "# Display the new shape\n",
    "print('t2.shape: ', t2.shape)"
   ]
  },
  {
   "cell_type": "code",
   "execution_count": 41,
   "metadata": {},
   "outputs": [],
   "source": [
    "# Create ones, zeros, identity and constant tensors\n",
    "ones = tf.ones(shape=(2, 3))\n",
    "zeros = tf.zeros(shape=(2, 4))\n",
    "eye = tf.eye(3)\n",
    "tensor7 = tf.constant(7.0, shape=[2, 2])"
   ]
  },
  {
   "cell_type": "code",
   "execution_count": 42,
   "metadata": {},
   "outputs": [
    {
     "name": "stdout",
     "output_type": "stream",
     "text": [
      "\n",
      " Ones:\n",
      " tf.Tensor(\n",
      "[[1. 1. 1.]\n",
      " [1. 1. 1.]], shape=(2, 3), dtype=float32)\n",
      "\n",
      " Zeros:\n",
      " tf.Tensor(\n",
      "[[0. 0. 0. 0.]\n",
      " [0. 0. 0. 0.]], shape=(2, 4), dtype=float32)\n",
      "\n",
      " Identity:\n",
      " tf.Tensor(\n",
      "[[1. 0. 0.]\n",
      " [0. 1. 0.]\n",
      " [0. 0. 1.]], shape=(3, 3), dtype=float32)\n",
      "\n",
      " Tensor filled with 7:  tf.Tensor(\n",
      "[[7. 7.]\n",
      " [7. 7.]], shape=(2, 2), dtype=float32)\n"
     ]
    }
   ],
   "source": [
    "print(\"\\n Ones:\\n\", ones)\n",
    "print(\"\\n Zeros:\\n\", zeros)\n",
    "print(\"\\n Identity:\\n\", eye)\n",
    "print(\"\\n Tensor filled with 7: \", tensor7)"
   ]
  },
  {
   "cell_type": "code",
   "execution_count": 43,
   "metadata": {},
   "outputs": [],
   "source": [
    "# Create a ones tensor and a zeros tensor\n",
    "t1 = tf.ones(shape=(2, 2))\n",
    "t2 = tf.zeros(shape=(2, 2))"
   ]
  },
  {
   "cell_type": "code",
   "execution_count": 44,
   "metadata": {},
   "outputs": [],
   "source": [
    "# Concatenate two tensors\n",
    "concat0 = tf.concat([t1, t2], 0)\n",
    "concat1 = tf.concat([t1, t2], 1)"
   ]
  },
  {
   "cell_type": "code",
   "execution_count": 45,
   "metadata": {},
   "outputs": [
    {
     "name": "stdout",
     "output_type": "stream",
     "text": [
      "tf.Tensor(\n",
      "[[1. 1.]\n",
      " [1. 1.]\n",
      " [0. 0.]\n",
      " [0. 0.]], shape=(4, 2), dtype=float32)\n",
      "tf.Tensor(\n",
      "[[1. 1. 0. 0.]\n",
      " [1. 1. 0. 0.]], shape=(2, 4), dtype=float32)\n"
     ]
    }
   ],
   "source": [
    "print(concat0)\n",
    "print(concat1)"
   ]
  },
  {
   "cell_type": "code",
   "execution_count": 46,
   "metadata": {},
   "outputs": [
    {
     "name": "stdout",
     "output_type": "stream",
     "text": [
      "\n",
      " t shape:  (3, 2, 4)\n"
     ]
    }
   ],
   "source": [
    "# Create a constant tensor\n",
    "t = tf.constant(np.arange(24), shape=(3, 2, 4))\n",
    "print(\"\\n t shape: \", t.shape)"
   ]
  },
  {
   "cell_type": "code",
   "execution_count": 47,
   "metadata": {},
   "outputs": [],
   "source": [
    "# Expanding the rank of tensors\n",
    "t1 = tf.expand_dims(t, 0)\n",
    "t2 = tf.expand_dims(t, 1)\n",
    "t3 = tf.expand_dims(t, 3)"
   ]
  },
  {
   "cell_type": "code",
   "execution_count": 48,
   "metadata": {},
   "outputs": [
    {
     "name": "stdout",
     "output_type": "stream",
     "text": [
      "\n",
      " After expanding dims: \n",
      " t1 shape:  (1, 3, 2, 4) \n",
      " t2 shape:  (3, 1, 2, 4) \n",
      " t3 shape:  (3, 2, 4, 1)\n"
     ]
    }
   ],
   "source": [
    "# Display the shapes after tf.expand_dims\n",
    "print(\"\\n After expanding dims: \\n t1 shape: \", t1.shape, \n",
    "      \"\\n t2 shape: \", t2.shape, \n",
    "      \"\\n t3 shape: \", t3.shape)"
   ]
  },
  {
   "cell_type": "code",
   "execution_count": 49,
   "metadata": {},
   "outputs": [
    {
     "name": "stdout",
     "output_type": "stream",
     "text": [
      "\n",
      " After Squeezing:\n",
      " t1 shape:  (3, 2, 4) \n",
      " t2 shape:  (3, 2, 4) \n",
      " t3 shape:  (3, 2, 4)\n"
     ]
    }
   ],
   "source": [
    "# Squeezing redundant dimensions\n",
    "t1 = tf.squeeze(t1, 0)\n",
    "t2 = tf.squeeze(t2, 1)\n",
    "t3 = tf.squeeze(t3, 3)\n",
    "\n",
    "print(\"\\n After Squeezing:\\n t1 shape: \", t1.shape,\n",
    "      \"\\n t2 shape: \", t2.shape,\n",
    "      \"\\n t3 shape: \", t3.shape)"
   ]
  },
  {
   "cell_type": "code",
   "execution_count": 50,
   "metadata": {},
   "outputs": [
    {
     "name": "stdout",
     "output_type": "stream",
     "text": [
      "tf.Tensor([2 3 4], shape=(3,), dtype=int32)\n"
     ]
    }
   ],
   "source": [
    "# Slicing a tensor\n",
    "x = tf.constant([1, 2, 3, 4, 5, 6, 7])\n",
    "print(x[1:4])"
   ]
  },
  {
   "cell_type": "markdown",
   "metadata": {},
   "source": [
    "### Doing maths with Tensors"
   ]
  },
  {
   "cell_type": "code",
   "execution_count": 51,
   "metadata": {},
   "outputs": [],
   "source": [
    "# Create two constant Tensors\n",
    "c = tf.constant([[1.0, 2.0], [3.0, 4.0]])\n",
    "d = tf.constant([[1.0, 1.0], [0.0, 1.0]])"
   ]
  },
  {
   "cell_type": "code",
   "execution_count": 52,
   "metadata": {},
   "outputs": [
    {
     "name": "stdout",
     "output_type": "stream",
     "text": [
      "tf.matmul(c, d): \n",
      " tf.Tensor(\n",
      "[[1. 3.]\n",
      " [3. 7.]], shape=(2, 2), dtype=float32)\n"
     ]
    }
   ],
   "source": [
    "# Matrix multiplication\n",
    "matmul_cd = tf.matmul(c, d)\n",
    "\n",
    "# Display the result\n",
    "print(\"tf.matmul(c, d): \\n\", matmul_cd)"
   ]
  },
  {
   "cell_type": "code",
   "execution_count": 53,
   "metadata": {},
   "outputs": [
    {
     "name": "stdout",
     "output_type": "stream",
     "text": [
      "c * d: \n",
      " tf.Tensor(\n",
      "[[1. 2.]\n",
      " [0. 4.]], shape=(2, 2), dtype=float32)\n",
      "c + d: \n",
      " tf.Tensor(\n",
      "[[2. 3.]\n",
      " [3. 5.]], shape=(2, 2), dtype=float32)\n",
      "c - d: \n",
      " tf.Tensor(\n",
      "[[0. 1.]\n",
      " [3. 3.]], shape=(2, 2), dtype=float32)\n",
      "c / c: \n",
      " tf.Tensor(\n",
      "[[1. 1.]\n",
      " [1. 1.]], shape=(2, 2), dtype=float32)\n"
     ]
    }
   ],
   "source": [
    "# Elementwise operations\n",
    "c_times_d = c * d\n",
    "c_plus_d = c + d\n",
    "c_minus_d = c - d\n",
    "c_div_c = c / c\n",
    "\n",
    "print(\"c * d: \\n\", c_times_d)\n",
    "print(\"c + d: \\n\", c_plus_d)\n",
    "print(\"c - d: \\n\", c_minus_d)\n",
    "print(\"c / c: \\n\", c_div_c)"
   ]
  },
  {
   "cell_type": "code",
   "execution_count": 54,
   "metadata": {},
   "outputs": [],
   "source": [
    "# Create tensors\n",
    "a = tf.constant([[2, 3], [3, 3]])\n",
    "b = tf.constant([[8, 7], [2, 3]])\n",
    "x = tf.constant([[-6.89 + 1.78j], [-2.54 + 2.15j]])"
   ]
  },
  {
   "cell_type": "code",
   "execution_count": 55,
   "metadata": {},
   "outputs": [],
   "source": [
    "# Absolute value of a Tensor\n",
    "absx = tf.abs(x)"
   ]
  },
  {
   "cell_type": "code",
   "execution_count": 56,
   "metadata": {},
   "outputs": [],
   "source": [
    "# Power of a tensor\n",
    "powaa = tf.pow(a, a)"
   ]
  },
  {
   "cell_type": "code",
   "execution_count": 57,
   "metadata": {},
   "outputs": [
    {
     "name": "stdout",
     "output_type": "stream",
     "text": [
      "tf.Tensor(\n",
      "[[7.11621388]\n",
      " [3.32777704]], shape=(2, 1), dtype=float64)\n",
      "tf.Tensor(\n",
      "[[ 4 27]\n",
      " [27 27]], shape=(2, 2), dtype=int32)\n"
     ]
    }
   ],
   "source": [
    "# Display the result\n",
    "print(absx)\n",
    "print(powaa)"
   ]
  },
  {
   "cell_type": "markdown",
   "metadata": {},
   "source": [
    "### Randomly sampled constant tensors"
   ]
  },
  {
   "cell_type": "code",
   "execution_count": 58,
   "metadata": {},
   "outputs": [],
   "source": [
    "# Normal distribution\n",
    "tn = tf.random.normal(shape=(2, 2), mean=0, stddev=1.)"
   ]
  },
  {
   "cell_type": "code",
   "execution_count": 60,
   "metadata": {},
   "outputs": [],
   "source": [
    "# Uniform distribution\n",
    "tu = tf.random.uniform(shape=(2, 1), minval=0, maxval=10, dtype='int32')"
   ]
  },
  {
   "cell_type": "code",
   "execution_count": 61,
   "metadata": {},
   "outputs": [],
   "source": [
    "# Poisson Distribution\n",
    "tp = tf.random.poisson(shape=(2, 2), lam=5)"
   ]
  },
  {
   "cell_type": "code",
   "execution_count": 62,
   "metadata": {},
   "outputs": [],
   "source": [
    "# More math operations\n",
    "d = tf.square(tn)\n",
    "e = tf.exp(d)\n",
    "f = tf.cos(c)"
   ]
  },
  {
   "cell_type": "code",
   "execution_count": null,
   "metadata": {},
   "outputs": [],
   "source": []
  }
 ],
 "metadata": {
  "kernelspec": {
   "display_name": "Python 3",
   "language": "python",
   "name": "python3"
  },
  "language_info": {
   "codemirror_mode": {
    "name": "ipython",
    "version": 3
   },
   "file_extension": ".py",
   "mimetype": "text/x-python",
   "name": "python",
   "nbconvert_exporter": "python",
   "pygments_lexer": "ipython3",
   "version": "3.7.6"
  }
 },
 "nbformat": 4,
 "nbformat_minor": 4
}
